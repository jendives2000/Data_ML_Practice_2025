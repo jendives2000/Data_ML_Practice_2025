{
 "cells": [
  {
   "cell_type": "markdown",
   "metadata": {},
   "source": [
    "# **OOP-based Python Game Development**\n",
    "\n",
    "---\n",
    "\n",
    "By Jean-Yves Tran | jy.tran@[datascience-jy.com](https://datascience-jy.com) | [LinkedIn](https://www.linkedin.com/in/jytran-datascience/)  \n",
    "IBM Certified Data Analyst \n",
    "\n",
    "---\n",
    "\n",
    "Source: \n",
    "- [Object Oriented Python](https://www.packtpub.com/product/object-oriented-python-video/9781836204473) - by ACI Learning - Packt Publishing\n",
    "---"
   ]
  },
  {
   "cell_type": "markdown",
   "metadata": {},
   "source": [
    "The interactive links in this notebook are not working due to GitHub limitations. View this notebook with the interactive links working [here](https://nbviewer.org/github/jendives2000/Data_ML_Practice_2025/blob/main/1-3-SQL/practice/DuckDB/notebooks/4_duckdb_handson_eda.ipynb).\n",
    "\n",
    "---"
   ]
  },
  {
   "cell_type": "markdown",
   "metadata": {},
   "source": [
    "This is a practice project where I dive into Object Oriented Programming in Python 3 and use its features to create a very simple text-based game. \n",
    "\n",
    "- **HOW TO READ THIS:**  \n",
    "  Because this notebook cannot be the game app itself, I will describe and show the code here in it and the actual game app code, a python file, will be populated with every code given here.  \n",
    "  To facilitate the reading, whenever necessary, I will add a reference to the notebook as a comment in the game app file. \n",
    "\n",
    "\n",
    "- **HOW TO USE THIS:**  \n",
    "  So you know now that the code in this notebook is not building the app, and as such it's of no use to run it as is.  \n",
    "  The code in the app file is the one to run. \n",
    "  So, follow along if you want to know every detail and my chain of thought.  \n",
    "  I suggest you to try to build that python app file yourself, that is if you want to learn by practicing.  \n",
    "  Otherwise, the app file will likely be complete and ready by the time you read this, so you will not be able to run snippets of it like I do when I make test runs and show the output. \n",
    "\n",
    "\n",
    "For this notebook, I will:\n",
    "- first introduce the [dataset](#dataset-melbourne-pedestrian-count) I will work on\n",
    "- [clean it up](#looking-at-the-data)\n",
    "- and explore that data ([EDA](#eda))\n",
    "  - including with visualizations ([Plotly & Plotly Express](#plotly))\n",
    "I show: \n",
    "- some of the **intricacies** \n",
    "- and **mistakes** to avoid while working with DuckDB\n",
    "- and **how to plot** line graphs, box plots and histograms\n",
    "\n",
    "\n",
    "<u>**OUTLINE:**</u>  \n",
    "This notebook is made of \n",
    "\n",
    "\n",
    "<u>**The main 2 takeaways:**</u>:\n",
    "- to experience first-hand:\n",
    "  - the **workflow implied by using DuckDB** \n",
    "  - and some of its **intricacies and specificities**: \n",
    "    - offloading a dataset, prepping it up, and saving it locally.\n",
    "- to quickly **experience and understand** how **DuckDB is leveraged**\n",
    "  - in a light EDA project, mixing \n",
    "    - the use of SQL via DuckDB and its modules, \n",
    "    - Pandas and an interactive visualization tool, Plotly, \n",
    "    - directly in Python.\n",
    "\n",
    "---\n"
   ]
  },
  {
   "cell_type": "markdown",
   "metadata": {},
   "source": [
    "## **Game Design Decisions**:\n",
    "\n",
    "- **Game Type & Structure:**\n",
    "  The game is a text-based hack-and-slash where players engage in **turn-based** combat. The engine is intentionally minimal to start—essentially a **basic framework built with object-oriented principles**.\n",
    "\n",
    "- **Iterative Design Process:**\n",
    "  I plan to develop the game in **iterations**, starting with a very simple version (think “Version 0.001”) that will later evolve by **adding complexity**. This approach ensures that even if the full project seems overwhelming, it begins with a manageable, incremental process.\n",
    "\n",
    "- **Core Game Elements:**\n",
    "    - **Player**: The player character will have **key attributes** such as a name and a level. The level will directly **influence** their attack power, reinforcing the connection between progression and combat effectiveness.\n",
    "    - **Enemy**: The adversary is a generic monster, designed to be a **simple yet flexible opponent** that can be **expanded** upon in future iterations.\n",
    "  \n",
    "- **Game Flow & Options:**\n",
    "  At the **start**, players experience an introductory text (a nod to classic “Ready Player One” scenarios). When an enemy appears, players are given a set of options:\n",
    "  - **Attack**: Engage directly with the enemy.\n",
    "  - **Run**: Exit the encounter, which includes a brief delay to emphasize the action.\n",
    "  - **Pass**: Skip the turn, a choice that might still leave the player vulnerable to enemy attacks or even lead to facing a different foe.\n",
    "\n",
    "- **Inspiration & Vision:**\n",
    "  The design decisions draw heavily from classic video game experiences, ensuring that even this simplified game **reflects thoughtful gameplay mechanics and a clear, iterative developmental path**."
   ]
  },
  {
   "cell_type": "markdown",
   "metadata": {},
   "source": [
    "---\n"
   ]
  },
  {
   "cell_type": "markdown",
   "metadata": {},
   "source": [
    "## **Defining the Player Class**:\n",
    "\n",
    "I will call them `actors`.\n",
    "Each actor has to have: \n",
    "- a level\n",
    "- a name\n",
    "\n",
    "So, my class here is the `Player` class, which I will use to create each new Actor.\n",
    "I am defining that class now: "
   ]
  },
  {
   "cell_type": "code",
   "execution_count": null,
   "metadata": {},
   "outputs": [],
   "source": [
    "# find this in the game app file with this comment: # I\n",
    "class Player: \n",
    "    def __init__(self, name, level) -> None:\n",
    "        self.name = name\n",
    "        self.level = level\n",
    "\n",
    "    # adding a print-out function \n",
    "    def __repr__(self) -> str:\n",
    "        return ('<Player: {} at Level {}>'\n",
    "                .format(self.name,\n",
    "                        self.level))"
   ]
  },
  {
   "cell_type": "markdown",
   "metadata": {},
   "source": [
    "The `__repr__` function will print out the name and level of any called upon Player.  \n",
    "This is convenient to have that, confirming each new instantiation. "
   ]
  },
  {
   "cell_type": "markdown",
   "metadata": {},
   "source": [
    "### **Adding the Attack**: \n",
    "\n",
    "For the attack I do **not want a generic attack** that deals a definite amount of damage, I want something **less predictable**.  \n",
    "\n",
    "For that I use the module `random` and the function `randint` (imported at the top of the app file) to make that damage completely random, within a range that I specify. "
   ]
  },
  {
   "cell_type": "code",
   "execution_count": null,
   "metadata": {},
   "outputs": [],
   "source": [
    "# I-1\n",
    "def get_attack_power(self):\n",
    "        return randint(1, 100) * self.level"
   ]
  },
  {
   "cell_type": "markdown",
   "metadata": {},
   "source": [
    "The little math there is as simple as it looks.  \n",
    "The random number is from 1 to 100 and it is multiplied by the level of the Player.  \n",
    "This is a nice way to add that **progress aspect** in the attack attribute.  "
   ]
  },
  {
   "cell_type": "markdown",
   "metadata": {},
   "source": [
    "## **Defining the Enemy Class**: \n",
    "\n",
    "Enemies are slightly different from Players, I want them:\n",
    "- to be have a **kind** (Ooze, Ogre, Dragon, Elf, Human, etc)\n",
    "- and also have a **level**"
   ]
  },
  {
   "cell_type": "code",
   "execution_count": null,
   "metadata": {},
   "outputs": [],
   "source": [
    "# II\n",
    "class Enemy: \n",
    "    def __init__(self, kind, level) -> None:\n",
    "        self.kind = kind\n",
    "        self.level = level\n",
    "        \n",
    "    def __repr__(self) -> str:\n",
    "        return ('<Enemy: {} at lvl {}>'.format(self.kind,\n",
    "                                    self.level))"
   ]
  },
  {
   "cell_type": "markdown",
   "metadata": {},
   "source": [
    "## **Creating New Player & Enemy**: \n",
    "\n",
    "My 2 classes are defined and ready to go:"
   ]
  },
  {
   "cell_type": "code",
   "execution_count": null,
   "metadata": {},
   "outputs": [
    {
     "data": {
      "text/plain": [
       "(<Player: Chandra at Level 1>, <Enemy: Ogre at lvl 1>)"
      ]
     },
     "execution_count": 3,
     "metadata": {},
     "output_type": "execute_result"
    }
   ],
   "source": [
    "# A1\n",
    "player_1 = Player(name='Chandra', level=1)\n",
    "ogre_1 = Enemy(kind='Ogre', level=1)\n",
    "player_1, ogre_1"
   ]
  },
  {
   "cell_type": "markdown",
   "metadata": {},
   "source": [
    "### `if __name__ == \"__main__\":`\n",
    "\n",
    "Before I run the previous code snippet, I added this line: \n",
    "`if __name__ == \"__main__\":`\n",
    "\n",
    "This ensures that **only the code in that same python file** is executed. It prevents it from being executed if the file is moved to another app.  It's a good practice to add it if you want to test run code. "
   ]
  },
  {
   "cell_type": "markdown",
   "metadata": {},
   "source": [
    "Ok, the app file is ready for a small run test, let's add 2 prints to check if everything was well executed: "
   ]
  },
  {
   "cell_type": "code",
   "execution_count": null,
   "metadata": {},
   "outputs": [],
   "source": [
    "if __name__ == \"__main__\":\n",
    "    # A1\n",
    "    player_1 = Player(name=\"Chandra\", level=1)\n",
    "    ogre_1 = Enemy(kind=\"Ogre\", level=1)\n",
    "    print(player_1, ogre_1)\n",
    "    print(player_1.get_attack_power())"
   ]
  },
  {
   "attachments": {
    "image.png": {
     "image/png": "[encoded data removed]"
    }
   },
   "cell_type": "markdown",
   "metadata": {},
   "source": [
    "### **First test run**:\n",
    "\n",
    "Just below is what it outputs.\n",
    "\n",
    "The new player and enemy were created according to my classes. I see the values that I assigned to each.\n",
    "\n",
    "The number \"**91**\" is the attack damage.  Because I used `randint` that 92 has to change every time I run the code.  Which was the case.  \n",
    "Let's not forget that that **damage is multiplied by the level** number of that player too. Here it was just level 1. \n",
    "\n",
    "So all is fine so far.\n",
    "\n",
    "![image.png](attachment:image.png)"
   ]
  },
  {
   "cell_type": "markdown",
   "metadata": {},
   "source": [
    "## Adding Attack to the Enemy Class: \n",
    "\n",
    "What's the point of an encounter if the enemy can't even attack, right? \n",
    "Let's add that same attack attribute that I added to the Player class:"
   ]
  },
  {
   "cell_type": "code",
   "execution_count": null,
   "metadata": {},
   "outputs": [],
   "source": [
    "# II\n",
    "class Enemy: \n",
    "    def __init__(self, kind, level) -> None:\n",
    "        self.kind = kind\n",
    "        self.level = level\n",
    "        \n",
    "    def __repr__(self) -> str:\n",
    "        return ('<Enemy: {} at lvl {}>'.format(self.kind,\n",
    "                                    self.level))\n",
    "\n",
    "    # II-1\n",
    "    def get_attack_power(self):\n",
    "            return randint(1, 100) * self.level"
   ]
  },
  {
   "cell_type": "markdown",
   "metadata": {},
   "source": [
    "And print it out:"
   ]
  },
  {
   "cell_type": "code",
   "execution_count": null,
   "metadata": {},
   "outputs": [],
   "source": [
    "if __name__ == \"__main__\":\n",
    "    # A1\n",
    "    player_1 = Player(name=\"Chandra\", level=1)\n",
    "    ogre_1 = Enemy(kind=\"Ogre\", level=1)\n",
    "    print(player_1, ogre_1)\n",
    "    print(player_1.get_attack_power())\n",
    "    # A1b\n",
    "    print(ogre_1.get_attack_power())"
   ]
  },
  {
   "attachments": {
    "image.png": {
     "image/png": "[encoded data removed]"
    }
   },
   "cell_type": "markdown",
   "metadata": {},
   "source": [
    "Of course I got the same output for my player and enemy but now I see the ogre damage too: \"**5**\". \n",
    "\n",
    "![image.png](attachment:image.png)"
   ]
  },
  {
   "cell_type": "markdown",
   "metadata": {},
   "source": [
    "## **The main App: game.py**:\n",
    "\n",
    "The file `actors.py` is not the game app itself, I coded there my classes. \n",
    "\n",
    "For the game app itself, I'm naming it `game.py`. I know, very original. \n",
    "Following what I decided for the game design, I want to add:\n",
    "- an intro that will be printed every time the game starts and resets\n",
    "- and a play function to actually start the game\n",
    "\n",
    "So the file is in the folder `../app`. \n",
    "\n",
    "### main() & print_intro():\n",
    "\n",
    "Here's the code of the first two functions I want to add:"
   ]
  },
  {
   "cell_type": "code",
   "execution_count": null,
   "metadata": {},
   "outputs": [],
   "source": [
    "# G-I\n",
    "def main():\n",
    "    print_intro()\n",
    "    play()\n",
    "\n",
    "def print_intro():\n",
    "    print(\n",
    "    \"\"\"\n",
    "    ==== Magic The Quickening ====\n",
    "    A Super Duper Fast 1 Combat Text Game!\n",
    "    \n",
    "        [Press Enter to Continue]\n",
    "    \"\"\"\n",
    "    )\n",
    "    input()"
   ]
  },
  {
   "cell_type": "markdown",
   "metadata": {},
   "source": [
    "Let's unwrap that.  \n",
    "The first function triggers the 2 functions I want. \n",
    "\n",
    "Just under it I declare one of these functions that is printing that intro 'splash screen'.  \n",
    "**Without** the `input()` function there, the user would **not be able** to press enter, the prompt would just return to idle state. \n",
    "\n",
    "### **import classes & play()**:\n",
    "I now add the second function, `play()`, which starts the game.  \n",
    "But I need a player and an enemy, without both of them the game cannot happen. \n",
    "\n",
    "For that, I need to import the classes I defined earlier:"
   ]
  },
  {
   "cell_type": "code",
   "execution_count": null,
   "metadata": {},
   "outputs": [],
   "source": [
    "# import A\n",
    "from actors import Player, Enemy"
   ]
  },
  {
   "cell_type": "markdown",
   "metadata": {},
   "source": [
    "I can use them now in the play() function:"
   ]
  },
  {
   "cell_type": "code",
   "execution_count": null,
   "metadata": {},
   "outputs": [],
   "source": [
    "# G-Ib\n",
    "def play():\n",
    "    enemies =[\n",
    "        Enemy('Bear', 1),\n",
    "        Enemy('Wurm', 1)\n",
    "    ]\n",
    "    player = Player('Jace', 1)\n",
    "    \n",
    "    print(enemies)\n",
    "    print(player)\n",
    "\n",
    "if __name__ == '__main__':\n",
    "    main()"
   ]
  },
  {
   "cell_type": "markdown",
   "metadata": {},
   "source": [
    "So I added 2 enemies from the Class Enemy and 1 player from the Class Player and I printed them out to check them out.  \n",
    "\n",
    "The last 2 lines are similar to what I added at the end of the actors.py file. The code in that game.py file will only be executed from within it.  \n",
    "\n",
    "I can test run it:"
   ]
  },
  {
   "attachments": {
    "image.png": {
     "image/png": "[encoded data removed]"
    }
   },
   "cell_type": "markdown",
   "metadata": {},
   "source": [
    "### **Test Run**:\n",
    "I see my intro 'splash screen' and I had to press Enter to get the rest of the print outs:  \n",
    "\n",
    "![image.png](attachment:image.png)"
   ]
  },
  {
   "cell_type": "code",
   "execution_count": null,
   "metadata": {},
   "outputs": [],
   "source": []
  }
 ],
 "metadata": {
  "kernelspec": {
   "display_name": "preprocessing-wls2",
   "language": "python",
   "name": "python3"
  },
  "language_info": {
   "codemirror_mode": {
    "name": "ipython",
    "version": 3
   },
   "file_extension": ".py",
   "mimetype": "text/x-python",
   "name": "python",
   "nbconvert_exporter": "python",
   "pygments_lexer": "ipython3",
   "version": "3.12.8"
  }
 },
 "nbformat": 4,
 "nbformat_minor": 2
}
