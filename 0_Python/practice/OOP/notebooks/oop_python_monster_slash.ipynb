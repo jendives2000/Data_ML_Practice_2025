{
 "cells": [
  {
   "cell_type": "markdown",
   "metadata": {},
   "source": [
    "# **OOP-based Python Game Development**\n",
    "\n",
    "---\n",
    "\n",
    "By Jean-Yves Tran | jy.tran@[datascience-jy.com](https://datascience-jy.com) | [LinkedIn](https://www.linkedin.com/in/jytran-datascience/)  \n",
    "IBM Certified Data Analyst \n",
    "\n",
    "---\n",
    "\n",
    "Source: \n",
    "- [Object Oriented Python](https://www.packtpub.com/product/object-oriented-python-video/9781836204473) - by ACI Learning - Packt Publishing\n",
    "---"
   ]
  },
  {
   "cell_type": "markdown",
   "metadata": {},
   "source": [
    "The interactive links in this notebook are not working due to GitHub limitations. View this notebook with the interactive links working [here](https://nbviewer.org/github/jendives2000/Data_ML_Practice_2025/blob/main/1-3-SQL/practice/DuckDB/notebooks/4_duckdb_handson_eda.ipynb).\n",
    "\n",
    "---"
   ]
  },
  {
   "cell_type": "markdown",
   "metadata": {},
   "source": [
    "This is a practice project where I dive into Object Oriented Python and use its features to create a very simple text-based game. \n",
    "\n",
    "For this notebook, I will:\n",
    "- first introduce the [dataset](#dataset-melbourne-pedestrian-count) I will work on\n",
    "- [clean it up](#looking-at-the-data)\n",
    "- and explore that data ([EDA](#eda))\n",
    "  - including with visualizations ([Plotly & Plotly Express](#plotly))\n",
    "I show: \n",
    "- some of the **intricacies** \n",
    "- and **mistakes** to avoid while working with DuckDB\n",
    "- and **how to plot** line graphs, box plots and histograms\n",
    "\n",
    "\n",
    "<u>**OUTLINE:**</u>  \n",
    "This notebook is made of \n",
    "\n",
    "\n",
    "<u>**The main 2 takeaways:**</u>:\n",
    "- to experience first-hand:\n",
    "  - the **workflow implied by using DuckDB** \n",
    "  - and some of its **intricacies and specificities**: \n",
    "    - offloading a dataset, prepping it up, and saving it locally.\n",
    "- to quickly **experience and understand** how **DuckDB is leveraged**\n",
    "  - in a light EDA project, mixing \n",
    "    - the use of SQL via DuckDB and its modules, \n",
    "    - Pandas and an interactive visualization tool, Plotly, \n",
    "    - directly in Python.\n",
    "\n",
    "---\n"
   ]
  },
  {
   "cell_type": "markdown",
   "metadata": {},
   "source": [
    "## **Game Design Decisions**:\n",
    "\n",
    "- **Game Type & Structure:**\n",
    "  The game is a text-based hack-and-slash where players engage in **turn-based** combat. The engine is intentionally minimal to start—essentially a **basic framework built with object-oriented principles**.\n",
    "\n",
    "- **Iterative Design Process:**\n",
    "  I plan to develop the game in **iterations**, starting with a very simple version (think “Version 0.001”) that will later evolve by **adding complexity**. This approach ensures that even if the full project seems overwhelming, it begins with a manageable, incremental process.\n",
    "\n",
    "- **Core Game Elements:**\n",
    "    - Player: The player character will have **key attributes** such as a name and a level. The level will directly **influence** their attack power, reinforcing the connection between progression and combat effectiveness.\n",
    "    - Enemy: The adversary is a generic monster, designed to be a **simple yet flexible opponent** that can be **expanded** upon in future iterations.\n",
    "  \n",
    "- **Game Flow & Options:**\n",
    "  At the **start**, players experience an introductory text (a nod to classic “Ready Player One” scenarios). When an enemy appears, players are given a set of options:\n",
    "  - **Attack**: Engage directly with the enemy.\n",
    "  - **Run**: Exit the encounter, which includes a brief delay to emphasize the action.\n",
    "  - **Pass**: Skip the turn, a choice that might still leave the player vulnerable to enemy attacks or even lead to facing a different foe.\n",
    "\n",
    "- **Inspiration & Vision:**\n",
    "  The design decisions draw heavily from classic video game experiences, ensuring that even this simplified game **reflects thoughtful gameplay mechanics and a clear, iterative developmental path**."
   ]
  }
 ],
 "metadata": {
  "language_info": {
   "name": "python"
  }
 },
 "nbformat": 4,
 "nbformat_minor": 2
}
