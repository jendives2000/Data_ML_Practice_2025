{
 "cells": [
  {
   "cell_type": "markdown",
   "metadata": {},
   "source": [
    "# **1. Data Analyst in Power BI**\n",
    "\n",
    "---\n",
    "\n",
    "By Jean-Yves Tran | jy.tran@[datascience-jy.com](https://datascience-jy.com) | [LinkedIn](https://www.linkedin.com/in/jytran-datascience/)  \n",
    "IBM Certified Data Analyst \n",
    "\n",
    "---\n",
    "\n",
    "Source: \n",
    "- [DataCamp Career Track: Data Analyst in Power BI](https://app.datacamp.com/learn/career-tracks/data-analyst-in-power-bi) - DataCamp\n",
    "---"
   ]
  },
  {
   "cell_type": "markdown",
   "metadata": {},
   "source": [
    "The interactive links in this notebook are not working due to GitHub limitations. View this notebook with the interactive links working [here](https://nbviewer.org/github.com/jendives2000/Data_ML_Practice_2025/blob/main/0_Data_Viz/power_bi/notebooks/1_power-bi_and_python.ipynb).\n",
    "\n",
    "---"
   ]
  },
  {
   "cell_type": "markdown",
   "metadata": {},
   "source": [
    "This is a part of a whole course curriculum from Datacamp and named 'Data Analyst in Power BI'. \n",
    "I will cover the beginning of that curriculum here in many notebooks, this being the very first one. \n",
    "\n",
    "- **Made-up Company & Dataset**:\n",
    "  The company I am fictitiously working for is called WWI and is a bike and bike accessories manufacturer. Many dataset were provided to me. They will be in the folder `./data_source`.\n",
    "\n",
    "- **HOW TO READ THIS:**  \n",
    "  Open your own Power BI and follow me along. Lots of screenshots and also gifs to help you see what steps are to be done.  \n",
    "\n",
    "\n",
    "- **HOW TO USE THIS:**  \n",
    "  You will need a copy of the **dataset** (in the folder data_source). \n",
    "  The rest is described so just read it through. \n",
    "  Just keep in mind that whatever Python code you write within Power BI, that code is based on the **environment** in which you installed modules and libraries you are using in that code. So make sure you use the same environment every time, otherwise you may end up reinstalling modules in additional environments by mistake. \n",
    "\n",
    "  You can install all dependencies via the requirements.txt file of the `./power_bi` folder.\n",
    "  \n",
    "\n",
    "For this notebook, I will:\n",
    "\n",
    "<u>**OUTLINE 📃:**</u>  \n",
    "This notebook is made of 2 main parts:  \n",
    "- the **data preparation**, up until [setting up Python](#setting-up-python):\n",
    "  - I do everything needed to have all the **data ready and available** for scripting and visualization\n",
    "- Python scripting for Visualizations:\n",
    "  - I code Python and use Power BI to **render visualizations** the way I want\n",
    "\n",
    "<u>**The main takeaways:** 🎯</u>  \n",
    "\n",
    "- The Python script feature within Power BI **bridges** your python notebooks, models, and any other analysis performed in a python-based media, which **saves time**. Your work can be easily copied and pasted as is, and ready to be translated into a dashboard. \n",
    "- Actually even **transforming or loading** data is available, as long as it is possibly done with Python, it can be too in Power BI. \n",
    "\n",
    "\n",
    "\n",
    "---\n"
   ]
  }
 ],
 "metadata": {
  "language_info": {
   "name": "python"
  }
 },
 "nbformat": 4,
 "nbformat_minor": 2
}
