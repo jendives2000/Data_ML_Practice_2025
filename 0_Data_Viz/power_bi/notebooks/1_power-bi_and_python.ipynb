{
 "cells": [
  {
   "cell_type": "markdown",
   "metadata": {},
   "source": [
    "# **Python for Data Visualization in Power BI**\n",
    "\n",
    "---\n",
    "\n",
    "By Jean-Yves Tran | jy.tran@[datascience-jy.com](https://datascience-jy.com) | [LinkedIn](https://www.linkedin.com/in/jytran-datascience/)  \n",
    "IBM Certified Data Analyst \n",
    "\n",
    "---\n",
    "\n",
    "Source: \n",
    "- [Power BI Masterclass 8 -Python, Finance, and Advanced DAX](https://www.packtpub.com/product/power-bi-masterclass-8-python-finance-and-advanced-dax-video/9781835085400) - by Dan We - Packt Publishing\n",
    "- [Python 3.12 Official Docs](https://docs.python.org/3/)\n",
    "---"
   ]
  },
  {
   "cell_type": "markdown",
   "metadata": {},
   "source": [
    "The interactive links in this notebook are not working due to GitHub limitations. View this notebook with the interactive links working [here](https://nbviewer.org/github/jendives2000/Data_ML_Practice_2025/blob/main/0_Python/practice/OOP/notebooks/oop_python_monster_slash.ipynb).\n",
    "\n",
    "---"
   ]
  },
  {
   "cell_type": "markdown",
   "metadata": {},
   "source": [
    "This is a practice project where I dive into Object Oriented Programming 📦 in Python 3 and use its features to create a very simple text-based game 🕹. \n",
    "\n",
    "- **HOW TO READ THIS:**  \n",
    "  \n",
    "\n",
    "\n",
    "- **HOW TO USE THIS:**  \n",
    "  \n",
    "\n",
    "  There are **2 app files**, \n",
    "\n",
    "\n",
    "For this notebook, I will:\n",
    "\n",
    "<u>**OUTLINE 📃:**</u>  \n",
    "This notebook is made of \n",
    "\n",
    "<u>**The main takeaways:** 🎯</u>\n",
    "\n",
    "\n",
    "\n",
    "\n",
    "---\n"
   ]
  }
 ],
 "metadata": {
  "language_info": {
   "name": "python"
  }
 },
 "nbformat": 4,
 "nbformat_minor": 2
}
