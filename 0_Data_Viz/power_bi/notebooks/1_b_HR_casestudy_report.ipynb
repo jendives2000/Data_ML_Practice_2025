{
 "cells": [
  {
   "cell_type": "markdown",
   "metadata": {},
   "source": [
    "# **1b. HR Case Study: Report build-up 📈 in Power BI**\n",
    "\n",
    "---\n",
    "\n",
    "By Jean-Yves Tran | jy.tran@[datascience-jy.com](https://datascience-jy.com) | [LinkedIn](https://www.linkedin.com/in/jytran-datascience/)  \n",
    "IBM Certified Data Analyst \n",
    "\n",
    "---\n",
    "\n",
    "Source: \n",
    "- [Data Analyst in Power BI](https://app.datacamp.com/learn/career-tracks/data-analyst-in-power-bi) - Datacamp\n",
    "- [Microsoft Official Docs](https://learn.microsoft.com/en-us/training/browse/?expanded=power-platform&products=power-bi)\n",
    "---"
   ]
  },
  {
   "cell_type": "markdown",
   "metadata": {},
   "source": [
    "The interactive links in this notebook are not working due to GitHub limitations. View this notebook with the interactive links working [here](https://nbviewer.org/github.com/jendives2000/Data_ML_Practice_2025/blob/main/0_Data_Viz/power_bi/notebooks/1_power-bi_and_python.ipynb).\n",
    "\n",
    "---"
   ]
  },
  {
   "cell_type": "markdown",
   "metadata": {},
   "source": [
    "This is a project in which I practice intermediate level Power Bi skills. The task is to create a whole report from scratch. \n",
    "\n",
    "- **Task**: \n",
    "  Atlas Lab wants me to create a new report to help track their HR analytics.  \n",
    "  Start from scratch and build up your report. \n",
    "\n",
    "- **HOW TO READ THIS:**  \n",
    "  Open your own Power BI and follow me along. Lots of screenshots and also gifs to help you see what steps are to be done.  \n",
    "\n",
    "\n",
    "- **HOW TO USE THIS:**  \n",
    "  You will need a copy of the **dataset** (in the folder data_source). \n",
    "  The rest is described so just read it through. \n",
    "  Just keep in mind that whatever Python code you write within Power BI, that code is based on the **environment** in which you installed modules and libraries you are using in that code. So make sure you use the same environment every time, otherwise you may end up reinstalling modules in additional environments by mistake. \n",
    "\n",
    "  You can install all dependencies via the requirements.txt file of the `./power_bi` folder.\n",
    "  \n",
    "\n",
    "For this notebook, I will:\n",
    "\n",
    "<u>**OUTLINE 📃:**</u>  \n",
    "This notebook is made of 2 main parts:  \n",
    "\n",
    "\n",
    "<u>**The main takeaways:** 🎯</u>  \n",
    "\n",
    "\n",
    "\n",
    "\n",
    "\n",
    "---\n"
   ]
  }
 ],
 "metadata": {
  "language_info": {
   "name": "python"
  }
 },
 "nbformat": 4,
 "nbformat_minor": 2
}
