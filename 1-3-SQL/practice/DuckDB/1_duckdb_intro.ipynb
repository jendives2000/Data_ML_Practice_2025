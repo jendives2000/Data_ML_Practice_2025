{
 "cells": [
  {
   "cell_type": "markdown",
   "metadata": {},
   "source": [
    "# **1: Intro to DuckDB**\n",
    "\n",
    "---\n",
    "\n",
    "By Jean-Yves Tran | jy.tran@[datascience-jy.com](https://datascience-jy.com) | [LinkedIn](https://www.linkedin.com/in/jytran-datascience/)  \n",
    "IBM Certified Data Analyst \n",
    "\n",
    "---\n",
    "\n",
    "Source: \n",
    "- [Getting Started with DuckDB](https://www.packtpub.com/en-ar/product/getting-started-with-duckdb-9781803232539) by Simon Aubury & Ned Letcher\n",
    "- [DuckDB documentation](https://duckdb.org/docs/)\n",
    "---"
   ]
  },
  {
   "cell_type": "markdown",
   "metadata": {},
   "source": [
    "The interactive links in this notebook are not working due to GitHub limitations. View this notebook with the interactive links working [here](https://nbviewer.org/github/jendives2000/Data_ML_Practice_2025/blob/main/1-3-SQL/practice/dvd_rental/3_PostGreSQL_SQLAlchemy_Biz-database_dvdrental_3.ipynb).\n",
    "\n",
    "---"
   ]
  },
  {
   "cell_type": "markdown",
   "metadata": {},
   "source": [
    "This is an introduction on DuckDB, an increasingly popular (2025) SQL toolkit. I will quickly introduce the what and the why so that I can show some SQL queries as soon as possible. \n",
    "\n",
    "## **SQLite for OLAP = DuckDB**\n",
    "DuckDB is indeed similar to SQLite in that both are **in-process** databases that **write to a single-file** storage format and are **free and open source**.  \n",
    "\n",
    "**Key difference**:  \n",
    "SQLite is optimized for transactional **(OLTP) workloads** (it is very good at reading rows, not columns), while DuckDB is designed specifically for analytical queries because of its **optimization for OLAP workloads** (columns).\n",
    "Often referred to as “SQLite for OLAP”, as it is the **first production-ready in-process OLAP DBMS**.\n",
    "\n",
    "### **In-process**: \n",
    "Being in-process means that DuckDB runs **inside the same process as the application**, eliminating the need for a separate database service. This makes it lightweight, fast, and easy to integrate, especially for analytical **workloads where data is processed locally** rather than stored on a central database server.\n",
    "\n",
    "**No Client-Server Communication**\n",
    "\n",
    "Traditional databases like PostgreSQL or MySQL run as separate services (often on a remote server) and require network communication between the application and the database.\n",
    "DuckDB, being in-process, does **not require network communication** because it runs directly within the application’s memory space. This makes DuckDB ideal for fast, interactive analytics on local data.\n",
    "\n",
    "DuckDB is an **embedded, high-performance OLAP database designed for analytics, offering SQL-based querying and a simplified installation process**, making it an attractive alternative for analytical workloads compared to traditional client-server databases."
   ]
  },
  {
   "cell_type": "markdown",
   "metadata": {},
   "source": [
    "## **Why Use DuckDB**?\n",
    "1. Two Main Use Cases\n",
    "- **Analytical Workflows** → For data analysts, data scientists, and ML engineers, DuckDB enables fast, **scalable**, and SQL-based **data wrangling, exploration, and transformation**.  \n",
    "  \n",
    "- **Operational Data Infrastructure & Interactive Apps** → For data engineers and software developers, DuckDB can **power ETL** pipelines, **lightweight data lakes**, and **real-time dashboards** with low-latency analytics.\n",
    "\n",
    "### **Use case 1: Analytical Workflows?**\n",
    "- Handles **large datasets efficiently** on a single machine, **reducing the need** for complex distributed systems like Spark.\n",
    "- Works out-of-core, meaning it can **process datasets larger than memory**.\n",
    "- **Faster** than Pandas, Dask, and Polars **for complex** SQL-based analytics.\n",
    "- Provides **DBMS features** (ACID transactions, constraints, data integrity) that **dataframe libraries lack**.\n",
    "\n",
    "### **Enhanced Performance**\n",
    "⚡ **Optimized for OLAP** → Efficient for columnar analytics, large joins, and aggregations\n",
    "🔗 Seamless integration with **CSV, Parquet, JSON**, and external databases like **PostgreSQL & MySQL**\n",
    "🔄 Works with **Pandas, Polars, R, and Arrow** → Bridges the gap between databases and dataframe workflows\n",
    "\n",
    "### **Use case 2: Building Block for Data Infrastructure**\n",
    "🔹 **Can replace Apache Spark in some ETL workflows** by running transformations locally\n",
    "🔹 A **lightweight alternative to Google BigQuery, Snowflake, and ClickHouse** for medium-scale data warehouses\n",
    "🔹 Used for **real-time dashboards & BI tools** (e.g., Mode, Hex, Rill) that need fast query performance.\n",
    "\n",
    "### **DuckDB as a Pre-Scaling SQL Solution**\n",
    "DuckDB is highly valuable for companies **until they truly need to scale out** to a cloud-based distributed system. It serves as an efficient, high-performance SQL engine for managing and analyzing data locally before cloud-scale infrastructure becomes necessary.\n",
    "\n",
    "**When to Scale Beyond DuckDB?**\n",
    "🚀 You need multi-user, concurrent access.\n",
    "🚀 Your data size exceeds what can be efficiently processed on a single machine.\n",
    "🚀 Your company needs cloud-native, real-time distributed processing."
   ]
  },
  {
   "cell_type": "markdown",
   "metadata": {},
   "source": [
    "### **Versatility & Other Niceties**: \n",
    "\n",
    "Not only can DuckDB support Parquet, CSV, and JSON formats and read/write files from disk or cloud storage (S3). It can also **connect to PostgreSQL, MySQL, and SQLite** to run queries across multiple databases.\n",
    "\n",
    "Here are other nice things DuckDB offers (among other things):  \n",
    "- **Efficient Storage** → DuckDB uses compression algorithms to reduce disk storage, improving read performance.\n",
    "- **Query Optimization** → DuckDB rewrites queries for better efficiency instead of running them as written.\n",
    "- **Parallel Processing** → Most operations automatically run on multiple CPU threads, speeding up queries.\n",
    "- **Python-Like Syntax** → Supports simple string and list slicing, list comprehensions, and lambda functions in SQL.\n",
    "- **Chained Function Calls** → Similar to pandas, allowing method-style query chaining.\n",
    "- **Trailing Commas** → SQL queries support trailing commas for cleaner syntax.\n",
    "\n",
    "### **Install and use it almost everywhere**: \n",
    "- **Multiple Client APIs**→ DuckDB supports Python, R, JavaScript, Rust, Swift, Julia, Java, C, and C++ for easy integration.\n",
    "- **JavaScript Support** → Two versions: Node.js (backend use) and Wasm (runs in a web browser).\n",
    "- **Command-Line Interface (CLI)** → A cross-platform executable that works on any system with a command line.\n",
    "- **Community-Supported Clients** → Additional support for Go, C#, Ruby, Common Lisp, Zig, and Crystal.\n",
    "- **Flexible Deployment** → Can be used in analytical workflows, operational infrastructure, and data products across diverse environments."
   ]
  },
  {
   "cell_type": "markdown",
   "metadata": {},
   "source": [
    "\n",
    "---"
   ]
  },
  {
   "cell_type": "markdown",
   "metadata": {},
   "source": [
    "## **When not to use DuckDB**:\n",
    "1. **Not for OLTP** → DuckDB is built for analytical (OLAP) workloads, not transactional (OLTP) use cases with frequent small writes. If you need an in-process OLTP database, SQLite is a better choice.\n",
    "\n",
    "2. **Single Process Write Limitation** → Only one process can write to a DuckDB database at a time. Multiple processes can read, but only in read-only mode.\n",
    "\n",
    "3. **Not for Petabyte-Scale Data** → While DuckDB is fast on a single machine, it’s not designed for distributed computing. If you need to process petabyte-scale data, a cloud-based or distributed system is required.  \n",
    "\n",
    "Point 3 above means that in the following use cases, DuckDB **presents limitations**:\n",
    "- **Automated Data Pipelines with Multiple Writers**\n",
    "  - If multiple scripts or processes need to update a DuckDB database at the same time, this won't work.\n",
    "    - Example: A real-time dashboard pulling data updates every second.\n",
    "\n",
    "- **Collaboration on Shared Databases:**  \n",
    "  - If multiple analysts or scripts need to modify the same database, **only one can write at a time**. This makes it less practical for teams working on shared datasets that require frequent updates.\n",
    "\n",
    "- **Web Applications or BI Tools Requiring Live Data Updates:**  \n",
    "  - DuckDB is **not designed for transactional updates** in web applications or dashboards. Tools like PostgreSQL or MySQL handle concurrent writes much better in these cases.\n"
   ]
  },
  {
   "cell_type": "markdown",
   "metadata": {},
   "source": [
    "\n",
    "---"
   ]
  },
  {
   "attachments": {
    "image.png": {
     "image/png": "[encoded data removed]"
    }
   },
   "cell_type": "markdown",
   "metadata": {},
   "source": [
    "## **Installing DuckDB CLI**:  \n",
    "\n",
    "Just like the CLI from Linux, DuckDB has its own CLI that can operate on any system. \n",
    "Very straightforward. In my terminal I download the binary file:  \n",
    "- `Invoke-WebRequest -Uri \"https://github.com/duckdb/duckdb/releases/download/v1.2.0/duckdb_cli-windows-amd64.zip\" -OutFile \"duckdb_cli-windows-amd64.zip\"`\n",
    "\n",
    "Then I unzip it:  \n",
    "- `Expand-Archive -Path \"duckdb_cli-windows-amd64.zip\" -DestinationPath .\n",
    "`\n",
    "\n",
    "And I activate it with: `.\\duckdb` \n",
    "\n",
    "My terminal now looks like this:   \n",
    "\n",
    "![image.png](attachment:image.png)"
   ]
  },
  {
   "cell_type": "markdown",
   "metadata": {},
   "source": [
    "I now have access to the DuckDB interactive REPL, and start querying via its CLI.  \n",
    "\n",
    "### **Transient in-memory?**\n",
    "Noticed the sentences:  \n",
    "- \"Connected to a transient in-memory database\"\n",
    "  - This means that whatever we query, the result will NOT persist, it will NOT be saved in a file.\n",
    "- 'Use \".open FILENAME\" to reopen on a persistent database.'\n",
    "  - if we want it to persist results, we can use that given command\n",
    "\n",
    "However this command only works if I am already in the DuckDB CLI. An example would be: \n",
    "- `.open my_db.duckdb`: the file extension is important\n",
    "\n",
    "If I am not in the CLI, I can also use this command: \n",
    "- `./duckdb mydb.duckdb`, which is nothing new, I used that just before\n",
    "\n",
    "Both ways will create the said file or just open it. And any changes is automatically and safely saved in it when I close the CLI (shell)."
   ]
  },
  {
   "attachments": {
    "image.png": {
     "image/png": "[encoded data removed]"
    }
   },
   "cell_type": "markdown",
   "metadata": {},
   "source": [
    "### **Simple Queries in the CLI**:  \n",
    "\n",
    "Here's my first query: \n",
    "`SELECT 'hello' as greeting, 'world' as name;`\n",
    "\n",
    "It returned:  \n",
    "\n",
    "![image.png](attachment:image.png)"
   ]
  },
  {
   "cell_type": "markdown",
   "metadata": {},
   "source": [
    "\n",
    "---"
   ]
  },
  {
   "attachments": {
    "image-2.png": {
     "image/png": "[encoded data removed]"
    },
    "image.png": {
     "image/png": "[encoded data removed]"
    }
   },
   "cell_type": "markdown",
   "metadata": {},
   "source": [
    "## **First dot command: .mode**\n",
    "\n",
    "This .mode dot command changes the formatting used to display tables in the result output of the query. This way I can get different formats quickly like csv to json and vice-versa. \n",
    "\n",
    "Let's see it with html format:  \n",
    "`.mode html  \n",
    "SELECT 'hello' AS greeting, 'world' AS name;`  \n",
    "\n",
    "Returning:  \n",
    "![image.png](attachment:image.png)\n",
    "\n",
    "There is also the markdown format available:  \n",
    "![image-2.png](attachment:image-2.png)\n",
    "\n",
    "Complete formats list [here](https://duckdb.org/docs/api/cli)."
   ]
  },
  {
   "cell_type": "markdown",
   "metadata": {},
   "source": [
    "\n",
    "---"
   ]
  },
  {
   "cell_type": "markdown",
   "metadata": {},
   "source": [
    "## **Setting up DuckDB for Python**:\n",
    "\n",
    "The DuckDB Python client provides powerful APIs to interact with DuckDB. It supports **Python function registration**, and seamless integration with **pandas, Polars, and Apache Arrow** for importing and exporting data.\n",
    "\n",
    "**Dependencies Install:**   \n",
    "In pip:  \n",
    "`pip install duckdb ibis-framework jupysql jupyter-lsp jupyterlab pandas plotly polars pyarrow sqlparse`\n",
    "\n",
    "Or use the **requirements.txt specific to duckdb** in the duckdb folder. \n",
    "\n",
    "**NOTE**:\n",
    "**Conda install did not work** for me. \n",
    "More installation modes [here](https://duckdb.org/docs/installation)."
   ]
  },
  {
   "cell_type": "markdown",
   "metadata": {},
   "source": [
    "### **Connecting to DuckDB**: \n",
    "\n",
    "#### **Default in-memory Database**:\n",
    "This is the fastest and easiest way is to connect to DuckDB database.  \n",
    "DuckDB provides a shared **in-memory** database that is **instantly available in Python** after importing the module. It’s easy to use since you don’t need to manage connections, making it great for quick data tasks or testing DuckDB. \n",
    "\n",
    "Let's see how to query: "
   ]
  },
  {
   "cell_type": "code",
   "execution_count": 1,
   "metadata": {},
   "outputs": [],
   "source": [
    "import duckdb"
   ]
  },
  {
   "cell_type": "code",
   "execution_count": 2,
   "metadata": {},
   "outputs": [
    {
     "data": {
      "text/plain": [
       "┌─────────┬──────────┐\n",
       "│ animal  │ greeting │\n",
       "│ varchar │ varchar  │\n",
       "├─────────┼──────────┤\n",
       "│ duck    │ quack!   │\n",
       "└─────────┴──────────┘"
      ]
     },
     "execution_count": 2,
     "metadata": {},
     "output_type": "execute_result"
    }
   ],
   "source": [
    "duckdb.sql(\"SELECT 'duck' AS animal, 'quack!' AS greeting\")"
   ]
  },
  {
   "cell_type": "markdown",
   "metadata": {},
   "source": [
    "**TWO things to pay attention to**: \n",
    "- the **selected** values are in **single quote ' '**  \n",
    "- the **whole query is in double quote \" \"** and is a Python string literal   \n",
    "Keeping this convention will prevent the use of escape slashes '\\'. \n",
    "\n",
    "The method `.sql()` tailing duckdb like so `duckdb.sql()` pointed automatically to the default already available database. We see here how convenient that is, I can just continue querying from now on, no connection to take care of. This is great for EDAs or data wrangling.  \n",
    "\n",
    "**BUT, remember**, this is a **temporary, in-memory, database**. Once the python stops running, all data will be lost. Again, to **prevent that**, I'd need to persist the database by **creating a new persistent connection first** and not use this default database. "
   ]
  },
  {
   "cell_type": "markdown",
   "metadata": {},
   "source": [
    "#### **Explicit new database connection**: \n",
    "\n",
    "The other, more flexible way to connect to DuckDB is to use the: \n",
    "- `.connect()` method\n",
    "\n",
    "It returns a connection python object that other libraries can safely and efficiently connect to too. "
   ]
  },
  {
   "cell_type": "code",
   "execution_count": 3,
   "metadata": {},
   "outputs": [
    {
     "data": {
      "text/plain": [
       "┌─────────┬──────────┐\n",
       "│ animal  │ greeting │\n",
       "│ varchar │ varchar  │\n",
       "├─────────┼──────────┤\n",
       "│ pato    │ cuac     │\n",
       "└─────────┴──────────┘"
      ]
     },
     "execution_count": 3,
     "metadata": {},
     "output_type": "execute_result"
    }
   ],
   "source": [
    "# instantiating a connect object, effectively creating a new database:\n",
    "conn = duckdb.connect()\n",
    "\n",
    "# creating a tbale using that object: \n",
    "conn.sql(\n",
    "    \"\"\"\n",
    "    create table hello as\n",
    "    select 'pato' as animal, 'cuac' as greeting\n",
    "    \"\"\"\n",
    ")\n",
    "\n",
    "# querying it:\n",
    "conn.sql(\"select * from hello\")"
   ]
  },
  {
   "cell_type": "markdown",
   "metadata": {},
   "source": [
    "BUT, this is still an in-memory temporary database that I created. I can do more to it though, like configurate that connection in the parameters. \n",
    "\n",
    "#### **Database Configuration Parameters**:\n",
    "I want my connection to: \n",
    "- have a max of 10GB of system memory\n",
    "- and limits it to using 12 CPU threads for parallel execution"
   ]
  },
  {
   "cell_type": "code",
   "execution_count": 4,
   "metadata": {},
   "outputs": [],
   "source": [
    "custom_conn = duckdb.connect(\n",
    "    config={\n",
    "        \"memory_limit\": \"10GB\",\n",
    "        \"threads\": 12\n",
    "    }\n",
    ")"
   ]
  },
  {
   "cell_type": "markdown",
   "metadata": {},
   "source": [
    "Knowing your hardware specifications helps here. DuckDB recommends the following: \n",
    "- 5GB per thread for aggregation-heavy workloads\n",
    "- 10GB per thread for join-heavy workloads\n",
    "\n",
    "So just be aware of that and assign your thread count knowingly.  My PC has a 16 core 32 threads CPU. I assigned 12 threads because I know the workload I need is light for this notebook. I may not make a performance difference at this low level though.  \n",
    "\n",
    "For a complete [config options list](https://duckdb.org/docs/configuration).  \n",
    "For DuckDB [documentation on performance](https://duckdb.org/docs/guides/performance).  \n",
    "\n",
    "Also note that I refactored that previous code to a function. See the python file duckdb_shared_code.py. "
   ]
  },
  {
   "cell_type": "markdown",
   "metadata": {},
   "source": [
    "#### **Persistent new connection**: \n",
    "\n",
    "To create a database that will not disappear once you exit the python environment I just have to be explicit in the name of that database. "
   ]
  },
  {
   "cell_type": "code",
   "execution_count": 8,
   "metadata": {},
   "outputs": [],
   "source": [
    "persist_conn = duckdb.connect(\n",
    "    database=\"quack.duckdb\"\n",
    ")\n",
    "\n",
    "persist_conn.sql(\n",
    "    \"\"\"\n",
    "    create or replace table hello as\n",
    "    select 'ente' as animal, 'quak' as greeting\n",
    "    \"\"\"\n",
    ")\n",
    "\n",
    "persist_conn.close()"
   ]
  },
  {
   "cell_type": "markdown",
   "metadata": {},
   "source": [
    "In the project folder the database appeared, showing me that it was created. \n",
    "\n",
    "I want to check my new table in the DuckDB shell. I can do that right in here without leaving the notebook (make sure the file duckdb.exe was NOT moved from the folder DuckDB)."
   ]
  },
  {
   "cell_type": "code",
   "execution_count": 22,
   "metadata": {},
   "outputs": [
    {
     "name": "stdout",
     "output_type": "stream",
     "text": [
      "┌─────────┬──────────┐\n",
      "│ animal  │ greeting │\n",
      "│ varchar │ varchar  │\n",
      "├─────────┼──────────┤\n",
      "│ ente    │ quak     │\n",
      "└─────────┴──────────┘\n"
     ]
    }
   ],
   "source": [
    "!duckdb quack.duckdb -c \"SELECT * FROM hello\""
   ]
  },
  {
   "cell_type": "markdown",
   "metadata": {},
   "source": [
    "#### **NO multiple read processes** on disk-based DB:\n",
    "This line `persist_conn.close()` is making sure that the connection process is closed, allowing another process to read the database. Without that closing line, I could NOT have been able to query via the shell like I just did.  \n",
    "\n",
    "DuckDB **DOES NOT** allow for **multiple read** processes on a **disk-based database**. \n",
    "\n",
    "It is best practice to make sure you are closing your connection to any database after your work is done. \n",
    "I want to add one more row:  "
   ]
  },
  {
   "cell_type": "code",
   "execution_count": 23,
   "metadata": {},
   "outputs": [],
   "source": [
    "stmt = \"insert into hello values ('Fulvigula', 'quack!')\"\n",
    "conn = duckdb.connect(\n",
    "    database=\"quack.duckdb\"\n",
    ")\n",
    "conn.sql(stmt)\n",
    "conn.close()"
   ]
  },
  {
   "cell_type": "markdown",
   "metadata": {},
   "source": [
    "A simpler way to achieve this is to use the context manager object `with`, which automatically closes the connection:"
   ]
  },
  {
   "cell_type": "code",
   "execution_count": 24,
   "metadata": {},
   "outputs": [],
   "source": [
    "stmt = \"insert into hello values ('Labradorius', 'quack!')\"\n",
    "\n",
    "with duckdb.connect(database=\"quack.duckdb\") as conn:\n",
    "    conn.sql(stmt)"
   ]
  },
  {
   "cell_type": "markdown",
   "metadata": {},
   "source": [
    "I refactored that with code into this function: \n",
    "- execute_stmt(stmt, db)"
   ]
  },
  {
   "cell_type": "code",
   "execution_count": 28,
   "metadata": {},
   "outputs": [],
   "source": [
    "from duckdb_shared_code import execute_stmt"
   ]
  },
  {
   "cell_type": "markdown",
   "metadata": {},
   "source": [
    "### **Extensions**: \n",
    "\n",
    "Many extensions can be installed and loaded to a database connection object. And in fact, they are installed and loaded on a **per database-connection basis**. This means that extensions are **NOT installed globally**, they are installed only on the database connections you choose to install them on.   \n",
    "So for example, to install the extension `spatial` to the default database: "
   ]
  },
  {
   "cell_type": "code",
   "execution_count": 25,
   "metadata": {},
   "outputs": [],
   "source": [
    "duckdb.install_extension(\"spatial\")\n",
    "duckdb.load_extension(\"spatial\")"
   ]
  },
  {
   "cell_type": "markdown",
   "metadata": {},
   "source": [
    "To confirm these 2 actions I now need to query the corresponding database connection object, which is the default duckdb database:"
   ]
  },
  {
   "cell_type": "code",
   "execution_count": 26,
   "metadata": {},
   "outputs": [
    {
     "data": {
      "text/plain": [
       "┌────────────────┬─────────┬───────────┬──────────────────────────────────────────────────────────────────────────────────────────┬────────────────────────────────────────────────────────────────────────────────────┬───────────┬───────────────────┬───────────────────┬────────────────┐\n",
       "│ extension_name │ loaded  │ installed │                                       install_path                                       │                                    description                                     │  aliases  │ extension_version │   install_mode    │ installed_from │\n",
       "│    varchar     │ boolean │  boolean  │                                         varchar                                          │                                      varchar                                       │ varchar[] │      varchar      │      varchar      │    varchar     │\n",
       "├────────────────┼─────────┼───────────┼──────────────────────────────────────────────────────────────────────────────────────────┼────────────────────────────────────────────────────────────────────────────────────┼───────────┼───────────────────┼───────────────────┼────────────────┤\n",
       "│ core_functions │ true    │ true      │ (BUILT-IN)                                                                               │ Core function library                                                              │ []        │                   │ STATICALLY_LINKED │                │\n",
       "│ icu            │ true    │ true      │ (BUILT-IN)                                                                               │ Adds support for time zones and collations using the ICU library                   │ []        │                   │ STATICALLY_LINKED │                │\n",
       "│ json           │ true    │ true      │ (BUILT-IN)                                                                               │ Adds support for JSON operations                                                   │ []        │                   │ STATICALLY_LINKED │                │\n",
       "│ parquet        │ true    │ true      │ (BUILT-IN)                                                                               │ Adds support for reading and writing parquet files                                 │ []        │                   │ STATICALLY_LINKED │                │\n",
       "│ spatial        │ true    │ true      │ C:\\Users\\Jean-Yves TRAN\\.duckdb\\extensions\\v1.2.0\\windows_amd64\\spatial.duckdb_extension │ Geospatial extension that adds support for working with spatial data and functions │ []        │ 79bf2b6           │ REPOSITORY        │ core           │\n",
       "│ tpch           │ true    │ true      │ (BUILT-IN)                                                                               │ Adds TPC-H data generation and query support                                       │ []        │                   │ STATICALLY_LINKED │                │\n",
       "└────────────────┴─────────┴───────────┴──────────────────────────────────────────────────────────────────────────────────────────┴────────────────────────────────────────────────────────────────────────────────────┴───────────┴───────────────────┴───────────────────┴────────────────┘"
      ]
     },
     "execution_count": 26,
     "metadata": {},
     "output_type": "execute_result"
    }
   ],
   "source": [
    "duckdb.sql(\n",
    "    \"\"\"\n",
    "    select *\n",
    "    from duckdb_extensions()\n",
    "    where loaded = true\n",
    "    \"\"\"\n",
    ")"
   ]
  },
  {
   "cell_type": "markdown",
   "metadata": {},
   "source": [
    "I refactored the code to check installed and loaded extensions and to install and load one into these: \n",
    "- check_extensions()\n",
    "- install_load_ext()"
   ]
  },
  {
   "cell_type": "code",
   "execution_count": 27,
   "metadata": {},
   "outputs": [],
   "source": [
    "from duckdb_shared_code import check_extensions, install_load_ext"
   ]
  },
  {
   "cell_type": "markdown",
   "metadata": {},
   "source": [
    "\n",
    "---"
   ]
  }
 ],
 "metadata": {
  "kernelspec": {
   "display_name": "preprocessing",
   "language": "python",
   "name": "python3"
  },
  "language_info": {
   "codemirror_mode": {
    "name": "ipython",
    "version": 3
   },
   "file_extension": ".py",
   "mimetype": "text/x-python",
   "name": "python",
   "nbconvert_exporter": "python",
   "pygments_lexer": "ipython3",
   "version": "3.12.8"
  }
 },
 "nbformat": 4,
 "nbformat_minor": 4
}
