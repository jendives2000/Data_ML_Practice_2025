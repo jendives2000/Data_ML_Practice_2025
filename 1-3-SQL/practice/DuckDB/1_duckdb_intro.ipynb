{
 "cells": [
  {
   "cell_type": "markdown",
   "metadata": {},
   "source": [
    "# 1: Intro to DuckDB\n",
    "\n",
    "---\n",
    "\n",
    "By Jean-Yves Tran | jy.tran@[datascience-jy.com](https://datascience-jy.com) | [LinkedIn](https://www.linkedin.com/in/jytran-datascience/)  \n",
    "IBM Certified Data Analyst \n",
    "\n",
    "---\n",
    "\n",
    "Source: \n",
    "- [Getting Started with DuckDB](https://www.packtpub.com/en-ar/product/getting-started-with-duckdb-9781803232539) by Simon Aubury & Ned Letcher\n",
    "- [DuckDB documentation](https://duckdb.org/docs/)\n",
    "---"
   ]
  },
  {
   "cell_type": "markdown",
   "metadata": {},
   "source": [
    "The interactive links in this notebook are not working due to GitHub limitations. View this notebook with the interactive links working [here](https://nbviewer.org/github/jendives2000/Data_ML_Practice_2025/blob/main/1-3-SQL/practice/dvd_rental/3_PostGreSQL_SQLAlchemy_Biz-database_dvdrental_3.ipynb).\n",
    "\n",
    "---"
   ]
  },
  {
   "cell_type": "markdown",
   "metadata": {},
   "source": [
    "This is an introduction on DuckDB, an increasingly popular (2025) SQL toolkit. I will quickly introduce the what and the why so that I can show some SQL queries as soon as possible. \n",
    "\n",
    "## **SQLite for OLAP = DuckDB**\n",
    "DuckDB is indeed similar to SQLite in that both are **in-process** databases that **write to a single-file** storage format and are **free and open source**.  \n",
    "\n",
    "**Key difference**:  \n",
    "SQLite is optimized for transactional **(OLTP) workloads** (it is very good at reading rows, not columns), while DuckDB is designed specifically for analytical queries because of its **optimization for OLAP workloads** (columns).\n",
    "Often referred to as “SQLite for OLAP”, as it is the **first production-ready in-process OLAP DBMS**.\n",
    "\n",
    "### **In-process**: \n",
    "Being in-process means that DuckDB runs **inside the same process as the application**, eliminating the need for a separate database service. This makes it lightweight, fast, and easy to integrate, especially for analytical **workloads where data is processed locally** rather than stored on a central database server.\n",
    "\n",
    "**No Client-Server Communication**\n",
    "\n",
    "Traditional databases like PostgreSQL or MySQL run as separate services (often on a remote server) and require network communication between the application and the database.\n",
    "DuckDB, being in-process, does **not require network communication** because it runs directly within the application’s memory space. This makes DuckDB ideal for fast, interactive analytics on local data.\n",
    "\n",
    "DuckDB is an **embedded, high-performance OLAP database designed for analytics, offering SQL-based querying and a simplified installation process**, making it an attractive alternative for analytical workloads compared to traditional client-server databases."
   ]
  },
  {
   "cell_type": "markdown",
   "metadata": {},
   "source": [
    "## **Why Use DuckDB**?\n",
    "1. Two Main Use Cases\n",
    "- **Analytical Workflows** → For data analysts, data scientists, and ML engineers, DuckDB enables fast, **scalable**, and SQL-based **data wrangling, exploration, and transformation**.  \n",
    "  \n",
    "- **Operational Data Infrastructure & Interactive Apps** → For data engineers and software developers, DuckDB can **power ETL** pipelines, **lightweight data lakes**, and **real-time dashboards** with low-latency analytics.\n",
    "\n",
    "### **Use case 1: Analytical Workflows?**\n",
    "- Handles **large datasets efficiently** on a single machine, **reducing the need** for complex distributed systems like Spark.\n",
    "- Works out-of-core, meaning it can **process datasets larger than memory**.\n",
    "- **Faster** than Pandas, Dask, and Polars **for complex** SQL-based analytics.\n",
    "- Provides **DBMS features** (ACID transactions, constraints, data integrity) that **dataframe libraries lack**.\n",
    "\n",
    "### **Enhanced Performance**\n",
    "⚡ **Optimized for OLAP** → Efficient for columnar analytics, large joins, and aggregations\n",
    "🔗 Seamless integration with **CSV, Parquet, JSON**, and external databases like **PostgreSQL & MySQL**\n",
    "🔄 Works with **Pandas, Polars, R, and Arrow** → Bridges the gap between databases and dataframe workflows\n",
    "\n",
    "### **Use case 2: Building Block for Data Infrastructure**\n",
    "🔹 **Can replace Apache Spark in some ETL workflows** by running transformations locally\n",
    "🔹 A **lightweight alternative to Google BigQuery, Snowflake, and ClickHouse** for medium-scale data warehouses\n",
    "🔹 Used for **real-time dashboards & BI tools** (e.g., Mode, Hex, Rill) that need fast query performance.\n",
    "\n",
    "### **DuckDB as a Pre-Scaling SQL Solution**\n",
    "DuckDB is highly valuable for companies **until they truly need to scale out** to a cloud-based distributed system. It serves as an efficient, high-performance SQL engine for managing and analyzing data locally before cloud-scale infrastructure becomes necessary.\n",
    "\n",
    "**When to Scale Beyond DuckDB?**\n",
    "🚀 You need multi-user, concurrent access.\n",
    "🚀 Your data size exceeds what can be efficiently processed on a single machine.\n",
    "🚀 Your company needs cloud-native, real-time distributed processing."
   ]
  },
  {
   "cell_type": "markdown",
   "metadata": {},
   "source": [
    "### **Versatility & Other Niceties**: \n",
    "\n",
    "Not only can DuckDB support Parquet, CSV, and JSON formats and read/write files from disk or cloud storage (S3). It can also **connect to PostgreSQL, MySQL, and SQLite** to run queries across multiple databases.\n",
    "\n",
    "Here are other nice things DuckDB offers (among other things):  \n",
    "- **Efficient Storage** → DuckDB uses compression algorithms to reduce disk storage, improving read performance.\n",
    "- **Query Optimization** → DuckDB rewrites queries for better efficiency instead of running them as written.\n",
    "- **Parallel Processing** → Most operations automatically run on multiple CPU threads, speeding up queries.\n",
    "- **Python-Like Syntax** → Supports simple string and list slicing, list comprehensions, and lambda functions in SQL.\n",
    "- **Chained Function Calls** → Similar to pandas, allowing method-style query chaining.\n",
    "- **Trailing Commas** → SQL queries support trailing commas for cleaner syntax.\n",
    "\n",
    "### **Install and use it almost everywhere**: \n",
    "- **Multiple Client APIs**→ DuckDB supports Python, R, JavaScript, Rust, Swift, Julia, Java, C, and C++ for easy integration.\n",
    "- **JavaScript Support** → Two versions: Node.js (backend use) and Wasm (runs in a web browser).\n",
    "- **Command-Line Interface (CLI)** → A cross-platform executable that works on any system with a command line.\n",
    "- **Community-Supported Clients** → Additional support for Go, C#, Ruby, Common Lisp, Zig, and Crystal.\n",
    "- **Flexible Deployment** → Can be used in analytical workflows, operational infrastructure, and data products across diverse environments."
   ]
  },
  {
   "cell_type": "markdown",
   "metadata": {},
   "source": [
    "## **When not to use DuckDB**:\n",
    "- **Not for OLTP** → DuckDB is built for analytical (OLAP) workloads, not transactional (OLTP) use cases with frequent small writes. If you need an in-process OLTP database, SQLite is a better choice.\n",
    "- **Single Process Write Limitation** → Only one process can write to a DuckDB database at a time. Multiple processes can read, but only in read-only mode.\n",
    "- **Not for Petabyte-Scale Data** → While DuckDB is fast on a single machine, it’s not designed for distributed computing. If you need to process petabyte-scale data, a cloud-based or distributed system is required."
   ]
  },
  {
   "cell_type": "markdown",
   "metadata": {},
   "source": [
    "\n",
    "---"
   ]
  },
  {
   "attachments": {
    "image.png": {
     "image/png": "[encoded data removed]"
    }
   },
   "cell_type": "markdown",
   "metadata": {},
   "source": [
    "## Installing DuckDB CLI:  \n",
    "\n",
    "Just like the CLI from Linux, DuckDB has its own CLI that can operate on any system. \n",
    "Very straightforward. In my terminal I download the binary file:  \n",
    "- `Invoke-WebRequest -Uri \"https://github.com/duckdb/duckdb/releases/download/v1.2.0/duckdb_cli-windows-amd64.zip\" -OutFile \"duckdb_cli-windows-amd64.zip\"`\n",
    "\n",
    "Then I unzip it:  \n",
    "- `Expand-Archive -Path \"duckdb_cli-windows-amd64.zip\" -DestinationPath .\n",
    "`\n",
    "\n",
    "And I activate it with: `.\\duckdb` \n",
    "\n",
    "My terminal now looks like this:   \n",
    "\n",
    "![image.png](attachment:image.png)"
   ]
  },
  {
   "cell_type": "markdown",
   "metadata": {},
   "source": [
    "I now need to import it."
   ]
  },
  {
   "cell_type": "markdown",
   "metadata": {},
   "source": [
    "### **Imports**: "
   ]
  },
  {
   "cell_type": "code",
   "execution_count": 2,
   "metadata": {},
   "outputs": [
    {
     "ename": "ModuleNotFoundError",
     "evalue": "No module named 'duckdb'",
     "output_type": "error",
     "traceback": [
      "\u001b[1;31m---------------------------------------------------------------------------\u001b[0m",
      "\u001b[1;31mModuleNotFoundError\u001b[0m                       Traceback (most recent call last)",
      "Cell \u001b[1;32mIn[2], line 1\u001b[0m\n\u001b[1;32m----> 1\u001b[0m \u001b[38;5;28;01mimport\u001b[39;00m \u001b[38;5;21;01mduckdb\u001b[39;00m\n",
      "\u001b[1;31mModuleNotFoundError\u001b[0m: No module named 'duckdb'"
     ]
    }
   ],
   "source": [
    "import duckdb"
   ]
  },
  {
   "cell_type": "code",
   "execution_count": null,
   "metadata": {},
   "outputs": [],
   "source": []
  }
 ],
 "metadata": {
  "kernelspec": {
   "display_name": "preprocessing",
   "language": "python",
   "name": "python3"
  },
  "language_info": {
   "codemirror_mode": {
    "name": "ipython",
    "version": 3
   },
   "file_extension": ".py",
   "mimetype": "text/x-python",
   "name": "python",
   "nbconvert_exporter": "python",
   "pygments_lexer": "ipython3",
   "version": "3.12.8"
  }
 },
 "nbformat": 4,
 "nbformat_minor": 2
}
