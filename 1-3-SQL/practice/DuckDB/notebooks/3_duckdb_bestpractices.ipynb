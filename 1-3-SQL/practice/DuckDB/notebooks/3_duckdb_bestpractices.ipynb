{
 "cells": [
  {
   "cell_type": "markdown",
   "metadata": {},
   "source": [
    "# **3: DuckDB's Best Practices**\n",
    "\n",
    "---\n",
    "\n",
    "By Jean-Yves Tran | jy.tran@[datascience-jy.com](https://datascience-jy.com) | [LinkedIn](https://www.linkedin.com/in/jytran-datascience/)  \n",
    "IBM Certified Data Analyst \n",
    "\n",
    "---\n",
    "\n",
    "Source: \n",
    "- [Getting Started with DuckDB](https://www.packtpub.com/en-ar/product/getting-started-with-duckdb-9781803232539) by Simon Aubury & Ned Letcher\n",
    "- [DuckDB documentation](https://duckdb.org/docs/)\n",
    "---"
   ]
  },
  {
   "cell_type": "markdown",
   "metadata": {},
   "source": [
    "The interactive links in this notebook are not working due to GitHub limitations. View this notebook with the interactive links working [here](https://nbviewer.org/github/jendives2000/Data_ML_Practice_2025/blob/main/1-3-SQL/practice/DuckDB/notebooks/2_duckdb_python_API.ipynb).\n",
    "\n",
    "---"
   ]
  },
  {
   "cell_type": "markdown",
   "metadata": {},
   "source": [
    "This is part 3 of the series of notebooks on DuckDB.  \n",
    "In the previous two notebooks I've introduced DuckDB and shoed how to load, transform and briefly analyse data from different sources.  \n",
    "Here I will learn about best practices that:\n",
    "- save time when:\n",
    "  - querying or inserting data to a DuckDB database\n",
    "  - joining tables (positional and temporal joins)\n",
    "\n",
    "For an introduction to DuckDB, check [my first notebook](https://github.com/jendives2000/Data_ML_Practice_2025/blob/82571ad44176666f9cf0735c5141c6a96d5eace9/1-3-SQL/practice/DuckDB/notebooks/1_duckdb_intro.ipynb). I also say in there when you should not use DuckDB. \n",
    "\n",
    "For understanding how DuckDB works, check my [second notebook](https://github.com/jendives2000/Data_ML_Practice_2025/blob/ef8533ad82586234cfdc54a494c0c5be590816cc/1-3-SQL/practice/DuckDB/notebooks/2_duckdb_python_API.ipynb).\n",
    "\n",
    "In more details, I will cover the followings:\n",
    "- **Selecting columns** effectively\n",
    "- Applying **function chaining**\n",
    "- Using **INSERT** effectively\n",
    "- Leveraging **positional** joins and **temporal joins**\n",
    "- **Recursive** queries and macros\n",
    "- additional **tips and tricks**\n",
    "\n",
    "**SKIERS DATABASE**:  \n",
    "I added a very simple Skiers Database in the data/data_in folder: `skiers.csv`  \n",
    "It'll be used throughout this notebook. \n",
    "\n",
    "**The two main takeaways are**:\n",
    "\n",
    "\n",
    "---\n"
   ]
  },
  {
   "cell_type": "markdown",
   "metadata": {},
   "source": [
    "## Imports:"
   ]
  },
  {
   "cell_type": "code",
   "execution_count": null,
   "metadata": {},
   "outputs": [],
   "source": [
    "# Add parent directory to sys.path\n",
    "sys.path.append(os.path.abspath(\"..\"))\n",
    "from utils.duckdb_shared_code import"
   ]
  },
  {
   "cell_type": "markdown",
   "metadata": {},
   "source": [
    "### Table setup using the DuckDB Shell:\n",
    "\n",
    "I want to work with the DuckDB shell, from my Jupyter notebook. It is possible by using the following syntax:"
   ]
  },
  {
   "cell_type": "code",
   "execution_count": 42,
   "metadata": {},
   "outputs": [],
   "source": [
    "!duckdb ../databases/mydatabase.duckdb -c \"create or replace table skiers as select * from read_csv('../data/data_in/skiers.csv');\""
   ]
  },
  {
   "cell_type": "code",
   "execution_count": 43,
   "metadata": {},
   "outputs": [
    {
     "name": "stdout",
     "output_type": "stream",
     "text": [
      "┌─────────┐\n",
      "│  name   │\n",
      "│ varchar │\n",
      "├─────────┤\n",
      "│ skiers  │\n",
      "└─────────┘\n"
     ]
    }
   ],
   "source": [
    "!duckdb ../databases/mydatabase.duckdb -c \"show tables\""
   ]
  },
  {
   "cell_type": "markdown",
   "metadata": {},
   "source": [
    "Let's refactor this syntax and copy it over to the `duckdb_shared_code.py` file. "
   ]
  },
  {
   "cell_type": "code",
   "execution_count": 44,
   "metadata": {},
   "outputs": [],
   "source": [
    "def shell_commd(stmt):\n",
    "    # Collapse all whitespace (including newlines) into single spaces\n",
    "    cleaned_stmt = \" \".join(stmt.split())\n",
    "    get_ipython().system(f\"duckdb ../databases/mydatabase.duckdb -c \\\"{cleaned_stmt}\\\"\")"
   ]
  },
  {
   "cell_type": "markdown",
   "metadata": {},
   "source": [
    "## select *:\n",
    "I want to see the whole table skiers now:"
   ]
  },
  {
   "cell_type": "code",
   "execution_count": 45,
   "metadata": {},
   "outputs": [
    {
     "name": "stdout",
     "output_type": "stream",
     "text": [
      "┌──────────────────┬─────────────────┬───────────┬──────────────┬────────────────────┬─────────────────┐\n",
      "│ skier_first_name │ skier_last_name │ skier_age │ skier_height │ skier_helmet_color │ skier_bib_color │\n",
      "│     varchar      │     varchar     │   int64   │    int64     │      varchar       │     varchar     │\n",
      "├──────────────────┼─────────────────┼───────────┼──────────────┼────────────────────┼─────────────────┤\n",
      "│ Alice            │ Smith           │        12 │          152 │ red                │ black           │\n",
      "│ Bob              │ Blaese          │        16 │          178 │ blue               │ yellow          │\n",
      "│ Carol            │ Wilson          │        32 │          159 │ yellow             │ pink            │\n",
      "│ Dan              │ Jones           │        52 │          182 │ red                │ yellow          │\n",
      "│ Erin             │ Taylor          │        22 │          168 │ black              │ green           │\n",
      "│ Frank            │ Williams        │        18 │          187 │ yellow             │ red             │\n",
      "│ Grace            │ Miller          │        24 │          172 │ pink               │ black           │\n",
      "│ Heidi            │ Johnson         │        22 │          178 │ yellow             │ yellow          │\n",
      "│ Ivan             │ Brown           │        21 │          185 │ green              │ pink            │\n",
      "│ Judy             │ Moore           │        27 │          160 │ red                │ black           │\n",
      "├──────────────────┴─────────────────┴───────────┴──────────────┴────────────────────┴─────────────────┤\n",
      "│ 10 rows                                                                                    6 columns │\n",
      "└──────────────────────────────────────────────────────────────────────────────────────────────────────┘\n"
     ]
    }
   ],
   "source": [
    "shell_commd(\n",
    "    \"\"\"\n",
    "    select * \n",
    "    from skiers\n",
    "    ;\n",
    "    \"\"\"\n",
    ")"
   ]
  },
  {
   "cell_type": "markdown",
   "metadata": {},
   "source": [
    "### Trailing comma is fine:  \n",
    "One little improvement that I appreciate is that a final trailing comma is not throwing an error.  \n",
    "I select multiple columns, and I forget to remove my last comma here `skier_bib_color,`, line 9: "
   ]
  },
  {
   "cell_type": "code",
   "execution_count": 46,
   "metadata": {},
   "outputs": [
    {
     "name": "stdout",
     "output_type": "stream",
     "text": [
      "┌──────────────────┬─────────────────┬───────────┬──────────────┬────────────────────┬─────────────────┐\n",
      "│ skier_first_name │ skier_last_name │ skier_age │ skier_height │ skier_helmet_color │ skier_bib_color │\n",
      "│     varchar      │     varchar     │   int64   │    int64     │      varchar       │     varchar     │\n",
      "├──────────────────┼─────────────────┼───────────┼──────────────┼────────────────────┼─────────────────┤\n",
      "│ Alice            │ Smith           │        12 │          152 │ red                │ black           │\n",
      "│ Bob              │ Blaese          │        16 │          178 │ blue               │ yellow          │\n",
      "│ Carol            │ Wilson          │        32 │          159 │ yellow             │ pink            │\n",
      "│ Dan              │ Jones           │        52 │          182 │ red                │ yellow          │\n",
      "│ Erin             │ Taylor          │        22 │          168 │ black              │ green           │\n",
      "│ Frank            │ Williams        │        18 │          187 │ yellow             │ red             │\n",
      "│ Grace            │ Miller          │        24 │          172 │ pink               │ black           │\n",
      "│ Heidi            │ Johnson         │        22 │          178 │ yellow             │ yellow          │\n",
      "│ Ivan             │ Brown           │        21 │          185 │ green              │ pink            │\n",
      "│ Judy             │ Moore           │        27 │          160 │ red                │ black           │\n",
      "├──────────────────┴─────────────────┴───────────┴──────────────┴────────────────────┴─────────────────┤\n",
      "│ 10 rows                                                                                    6 columns │\n",
      "└──────────────────────────────────────────────────────────────────────────────────────────────────────┘\n"
     ]
    }
   ],
   "source": [
    "shell_commd(\n",
    "    \"\"\"\n",
    "    select\n",
    "        skier_first_name,\n",
    "        skier_last_name,\n",
    "        skier_age,\n",
    "        skier_height,\n",
    "        skier_helmet_color,\n",
    "        skier_bib_color,\n",
    "    from skiers\n",
    "    ;\n",
    "    \"\"\"\n",
    ")"
   ]
  },
  {
   "cell_type": "markdown",
   "metadata": {},
   "source": [
    "No problems, the last trailing comma is valid!"
   ]
  },
  {
   "cell_type": "markdown",
   "metadata": {},
   "source": [
    "## Exclude columns: \n",
    "\n",
    "What if I need every column but one? Normally I'd have to select each single column except for the one I don't want.  \n",
    "Now with EXCLUDE() I can just exclude the one column (or more) to get everything else. "
   ]
  },
  {
   "cell_type": "code",
   "execution_count": 47,
   "metadata": {},
   "outputs": [
    {
     "name": "stdout",
     "output_type": "stream",
     "text": [
      "┌──────────────────┬─────────────────┬────────────────────┬─────────────────┐\n",
      "│ skier_first_name │ skier_last_name │ skier_helmet_color │ skier_bib_color │\n",
      "│     varchar      │     varchar     │      varchar       │     varchar     │\n",
      "├──────────────────┼─────────────────┼────────────────────┼─────────────────┤\n",
      "│ Alice            │ Smith           │ red                │ black           │\n",
      "│ Bob              │ Blaese          │ blue               │ yellow          │\n",
      "│ Carol            │ Wilson          │ yellow             │ pink            │\n",
      "│ Dan              │ Jones           │ red                │ yellow          │\n",
      "│ Erin             │ Taylor          │ black              │ green           │\n",
      "│ Frank            │ Williams        │ yellow             │ red             │\n",
      "│ Grace            │ Miller          │ pink               │ black           │\n",
      "│ Heidi            │ Johnson         │ yellow             │ yellow          │\n",
      "│ Ivan             │ Brown           │ green              │ pink            │\n",
      "│ Judy             │ Moore           │ red                │ black           │\n",
      "├──────────────────┴─────────────────┴────────────────────┴─────────────────┤\n",
      "│ 10 rows                                                         4 columns │\n",
      "└───────────────────────────────────────────────────────────────────────────┘\n"
     ]
    }
   ],
   "source": [
    "shell_commd(\n",
    "    \"\"\"\n",
    "    select s.*\n",
    "    exclude(skier_age, skier_height)\n",
    "    from skiers as s\n",
    "    ;\n",
    "    \"\"\"\n",
    ")"
   ]
  },
  {
   "cell_type": "markdown",
   "metadata": {},
   "source": [
    "## Dynamic Column Replacement: \n",
    "\n",
    "Let's say I now want to round the skier_age to the nearest 10 years and convert them into integers, effectively changing its value and data type. The method REPLACE() helps do that kind of modifications: "
   ]
  },
  {
   "cell_type": "code",
   "execution_count": 48,
   "metadata": {},
   "outputs": [
    {
     "name": "stdout",
     "output_type": "stream",
     "text": [
      "┌──────────────────┬─────────────────┬───────────┬──────────────┬────────────────────┬─────────────────┐\n",
      "│ skier_first_name │ skier_last_name │ skier_age │ skier_height │ skier_helmet_color │ skier_bib_color │\n",
      "│     varchar      │     varchar     │   int32   │    int64     │      varchar       │     varchar     │\n",
      "├──────────────────┼─────────────────┼───────────┼──────────────┼────────────────────┼─────────────────┤\n",
      "│ Alice            │ Smith           │        10 │          152 │ red                │ black           │\n",
      "│ Bob              │ Blaese          │        20 │          178 │ blue               │ yellow          │\n",
      "│ Carol            │ Wilson          │        30 │          159 │ yellow             │ pink            │\n",
      "│ Dan              │ Jones           │        50 │          182 │ red                │ yellow          │\n",
      "│ Erin             │ Taylor          │        20 │          168 │ black              │ green           │\n",
      "│ Frank            │ Williams        │        20 │          187 │ yellow             │ red             │\n",
      "│ Grace            │ Miller          │        20 │          172 │ pink               │ black           │\n",
      "│ Heidi            │ Johnson         │        20 │          178 │ yellow             │ yellow          │\n",
      "│ Ivan             │ Brown           │        20 │          185 │ green              │ pink            │\n",
      "│ Judy             │ Moore           │        30 │          160 │ red                │ black           │\n",
      "├──────────────────┴─────────────────┴───────────┴──────────────┴────────────────────┴─────────────────┤\n",
      "│ 10 rows                                                                                    6 columns │\n",
      "└──────────────────────────────────────────────────────────────────────────────────────────────────────┘\n"
     ]
    }
   ],
   "source": [
    "shell_commd(\n",
    "    \"\"\"\n",
    "    select s.*\n",
    "        replace(\n",
    "            round(skier_age / 10) *10\n",
    "        )::integer \n",
    "        as skier_age\n",
    "    from skiers as s\n",
    "    ;\n",
    "    \"\"\"\n",
    ")"
   ]
  },
  {
   "cell_type": "markdown",
   "metadata": {},
   "source": [
    "## Column Selector:\n",
    "\n",
    "I can also use the column selector COLUMNS() with a regular expression to, say, get columns that have the word 'color' in their name:  "
   ]
  },
  {
   "cell_type": "code",
   "execution_count": 50,
   "metadata": {},
   "outputs": [
    {
     "name": "stdout",
     "output_type": "stream",
     "text": [
      "┌──────────────────┬────────────────────┬─────────────────┐\n",
      "│ skier_first_name │ skier_helmet_color │ skier_bib_color │\n",
      "│     varchar      │      varchar       │     varchar     │\n",
      "├──────────────────┼────────────────────┼─────────────────┤\n",
      "│ Alice            │ red                │ black           │\n",
      "│ Bob              │ blue               │ yellow          │\n",
      "│ Carol            │ yellow             │ pink            │\n",
      "│ Dan              │ red                │ yellow          │\n",
      "│ Erin             │ black              │ green           │\n",
      "│ Frank            │ yellow             │ red             │\n",
      "│ Grace            │ pink               │ black           │\n",
      "│ Heidi            │ yellow             │ yellow          │\n",
      "│ Ivan             │ green              │ pink            │\n",
      "│ Judy             │ red                │ black           │\n",
      "├──────────────────┴────────────────────┴─────────────────┤\n",
      "│ 10 rows                                       3 columns │\n",
      "└─────────────────────────────────────────────────────────┘\n"
     ]
    }
   ],
   "source": [
    "shell_commd(\n",
    "    \"\"\"\n",
    "    select \n",
    "        skier_first_name,\n",
    "        columns(\n",
    "            '.*color$'\n",
    "        )\n",
    "    from skiers\n",
    "    ;\n",
    "    \"\"\"\n",
    ")"
   ]
  },
  {
   "cell_type": "markdown",
   "metadata": {},
   "source": [
    "The regular expression `'.*color$'` matched 2 columns that have in their name the word color. \n",
    "\n",
    "I can take it one step further and filter it to get only one type of value from these columns, say the color yellow. "
   ]
  },
  {
   "cell_type": "code",
   "execution_count": 51,
   "metadata": {},
   "outputs": [
    {
     "name": "stdout",
     "output_type": "stream",
     "text": [
      "┌──────────────────┬────────────────────┬─────────────────┐\n",
      "│ skier_first_name │ skier_helmet_color │ skier_bib_color │\n",
      "│     varchar      │      varchar       │     varchar     │\n",
      "├──────────────────┼────────────────────┼─────────────────┤\n",
      "│ Heidi            │ yellow             │ yellow          │\n",
      "└──────────────────┴────────────────────┴─────────────────┘\n"
     ]
    }
   ],
   "source": [
    "shell_commd(\n",
    "    \"\"\"\n",
    "    select \n",
    "        skier_first_name,\n",
    "        columns(\n",
    "            '.*color.*'\n",
    "        )\n",
    "    from skiers\n",
    "    where columns('.*color.*') == 'yellow'\n",
    "    ;\n",
    "    \"\"\"\n",
    ")"
   ]
  },
  {
   "cell_type": "code",
   "execution_count": null,
   "metadata": {},
   "outputs": [],
   "source": []
  }
 ],
 "metadata": {
  "kernelspec": {
   "display_name": "preprocessing",
   "language": "python",
   "name": "python3"
  },
  "language_info": {
   "codemirror_mode": {
    "name": "ipython",
    "version": 3
   },
   "file_extension": ".py",
   "mimetype": "text/x-python",
   "name": "python",
   "nbconvert_exporter": "python",
   "pygments_lexer": "ipython3",
   "version": "3.12.8"
  }
 },
 "nbformat": 4,
 "nbformat_minor": 2
}
