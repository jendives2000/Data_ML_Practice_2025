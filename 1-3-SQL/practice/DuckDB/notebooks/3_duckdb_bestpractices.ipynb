{
 "cells": [
  {
   "cell_type": "markdown",
   "metadata": {},
   "source": [
    "# **3: DuckDB's Best Practices**\n",
    "\n",
    "---\n",
    "\n",
    "By Jean-Yves Tran | jy.tran@[datascience-jy.com](https://datascience-jy.com) | [LinkedIn](https://www.linkedin.com/in/jytran-datascience/)  \n",
    "IBM Certified Data Analyst \n",
    "\n",
    "---\n",
    "\n",
    "Source: \n",
    "- [Getting Started with DuckDB](https://www.packtpub.com/en-ar/product/getting-started-with-duckdb-9781803232539) by Simon Aubury & Ned Letcher\n",
    "- [DuckDB documentation](https://duckdb.org/docs/)\n",
    "---"
   ]
  },
  {
   "cell_type": "markdown",
   "metadata": {},
   "source": [
    "The interactive links in this notebook are not working due to GitHub limitations. View this notebook with the interactive links working [here](https://nbviewer.org/github/jendives2000/Data_ML_Practice_2025/blob/main/1-3-SQL/practice/DuckDB/notebooks/2_duckdb_python_API.ipynb).\n",
    "\n",
    "---"
   ]
  },
  {
   "cell_type": "markdown",
   "metadata": {},
   "source": [
    "This is part 2 of the series of notebooks on DuckDB.  \n",
    "This time I will show how to **use DuckDB with Python**, which will make us **understand why it is useful, and performs better, for data analysis**. When I say use DuckDB I mostly refer to the **2 main APIs** that are available for this purpose.\n",
    "\n",
    "For an introduction to DuckDB, check [my first notebook](https://github.com/jendives2000/Data_ML_Practice_2025/blob/82571ad44176666f9cf0735c5141c6a96d5eace9/1-3-SQL/practice/DuckDB/notebooks/1_duckdb_intro.ipynb). I also say in there when you should not use DuckDB. \n",
    "\n",
    "<strong><u>DATABASE:</u></strong>\n",
    "\n",
    "\n",
    "For demonstration purpose I use the Seattle Pets Licenses [Database](#the-seattle-pets-licenses-dataset). It has over: \n",
    "- 43,000 rows, \n",
    "- 7 columns\n",
    "- and is light\n",
    "\n",
    "<u>**MAIN OUTLINE**:</u> \n",
    "\n",
    "This notebook is made of two main chapters, each one dives into one of the main API available for Querying: \n",
    "- the [Relational API](#using-the-relational-api)\n",
    "- The [Python DB-API](#using-the-python-db-api)\n",
    "\n",
    "I also cover briefly how [both can be used](#using-both-relational--python-apis), on the same Database. \n",
    "\n",
    "<u> **HIGHLIGHTS**:</u>   \n",
    "\n",
    "- In the Relational API, here are the highlights: \n",
    "  - [loading](#loading-dataset-with-relational) a dataset, [querying](#querying-relation-objects) with Relation Objects (RO)\n",
    "  - [Expression API](#expression-api), [chaining methods](#chaining-methods)\n",
    "  - [writing to disk](#writing-to-disk-with-the-relational-api), [inserting](#inserting-new-records) new records\n",
    "\n",
    "- Highlights for the Python DB-API:\n",
    "  -  [fetch](#querying-with-fetch) for querying, [prepared statements](#querying-with-prepared-statements)\n",
    "  -  [writing to disk](#writing-to-disk), [parallel querying](#cursor-for-parallel-querying) with cursor()\n",
    "  -  [registering objects](#registering-objects-as-views) as views, converting to [pandas df](#converting-to-a-pandas-df), [polars df](#converting-to-a-polars-df), [pyarrow table](#converting-to-pyarrow-tables)\n",
    "  -  [user-defined function](#user-defined-functions)\n",
    "\n",
    "The [Expression API](#expression-api) is particularly interesting as it **integrates Python deeper** into DuckDB, leveraging even further the basic **OOP abilities** of Python.  \n",
    "[Chaining methods](#chaining-methods) is another enhancement offered by DuckDB, adding speed and readability to building queries. Polars users will feel at home. \n",
    "\n",
    "**The two main takeaways are**:\n",
    "- to understand the **flexibility** offered by the use of both the Relational and Python APIs:\n",
    "  - Relational API experience being **[similar](#similarities-with-pandas) to what Pandas offers** (data analytics)\n",
    "  - Python DB-API **interacts** with the main **analytical libraries**: Pandas, Polars, PyArrow, Numpy, etc \n",
    "  - Both can:\n",
    "    - leverage **standard SQL for non-devs** \n",
    "    - and also **programmatic approach** based on Python objects  \n",
    "- and so to understand how useful and better DuckDB is **for data analytics**.\n",
    "\n",
    "---\n"
   ]
  }
 ],
 "metadata": {
  "language_info": {
   "name": "python"
  }
 },
 "nbformat": 4,
 "nbformat_minor": 2
}
