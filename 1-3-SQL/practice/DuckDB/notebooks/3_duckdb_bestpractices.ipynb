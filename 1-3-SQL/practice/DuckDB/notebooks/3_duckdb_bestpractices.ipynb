{
 "cells": [
  {
   "cell_type": "markdown",
   "metadata": {},
   "source": [
    "# **3: DuckDB's Best Practices**\n",
    "\n",
    "---\n",
    "\n",
    "By Jean-Yves Tran | jy.tran@[datascience-jy.com](https://datascience-jy.com) | [LinkedIn](https://www.linkedin.com/in/jytran-datascience/)  \n",
    "IBM Certified Data Analyst \n",
    "\n",
    "---\n",
    "\n",
    "Source: \n",
    "- [Getting Started with DuckDB](https://www.packtpub.com/en-ar/product/getting-started-with-duckdb-9781803232539) by Simon Aubury & Ned Letcher\n",
    "- [DuckDB documentation](https://duckdb.org/docs/)\n",
    "---"
   ]
  },
  {
   "cell_type": "markdown",
   "metadata": {},
   "source": [
    "The interactive links in this notebook are not working due to GitHub limitations. View this notebook with the interactive links working [here](https://nbviewer.org/github/jendives2000/Data_ML_Practice_2025/blob/main/1-3-SQL/practice/DuckDB/notebooks/2_duckdb_python_API.ipynb).\n",
    "\n",
    "---"
   ]
  },
  {
   "cell_type": "markdown",
   "metadata": {},
   "source": [
    "This is part 3 of the series of notebooks on DuckDB.  \n",
    "In the previous two notebooks I've introduced DuckDB and shoed how to load, transform and briefly analyse data from different sources.  \n",
    "Here I will learn about best practices that:\n",
    "- save time when:\n",
    "  - querying or inserting data to a DuckDB database\n",
    "  - joining tables (positional and temporal joins)\n",
    "\n",
    "For an introduction to DuckDB, check [my first notebook](https://github.com/jendives2000/Data_ML_Practice_2025/blob/82571ad44176666f9cf0735c5141c6a96d5eace9/1-3-SQL/practice/DuckDB/notebooks/1_duckdb_intro.ipynb). I also say in there when you should not use DuckDB. \n",
    "\n",
    "For understanding how DuckDB works, check my [second notebook](https://github.com/jendives2000/Data_ML_Practice_2025/blob/ef8533ad82586234cfdc54a494c0c5be590816cc/1-3-SQL/practice/DuckDB/notebooks/2_duckdb_python_API.ipynb).\n",
    "\n",
    "In more details, I will cover the followings:\n",
    "- **Selecting columns** effectively\n",
    "- Applying **function chaining**\n",
    "- Using **INSERT** effectively\n",
    "- Leveraging **positional** joins and **temporal joins**\n",
    "- **Recursive** queries and macros\n",
    "- additional **tips and tricks**\n",
    "\n",
    "**SKIERS DATABASE**:  \n",
    "I added a very simple Skiers Database in the data/data_in folder: `skiers.csv`  \n",
    "It'll be used throughout this notebook. \n",
    "\n",
    "**The two main takeaways are**:\n",
    "- \n",
    "\n",
    "---\n"
   ]
  }
 ],
 "metadata": {
  "language_info": {
   "name": "python"
  }
 },
 "nbformat": 4,
 "nbformat_minor": 2
}
