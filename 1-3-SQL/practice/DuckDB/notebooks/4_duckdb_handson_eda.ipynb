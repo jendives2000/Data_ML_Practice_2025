{
 "cells": [
  {
   "cell_type": "markdown",
   "metadata": {},
   "source": [
    "# **4: Hands-on Exploratory Data Analysis with DuckDB :duck:**\n",
    "\n",
    "---\n",
    "\n",
    "By Jean-Yves Tran | jy.tran@[datascience-jy.com](https://datascience-jy.com) | [LinkedIn](https://www.linkedin.com/in/jytran-datascience/)  \n",
    "IBM Certified Data Analyst \n",
    "\n",
    "---\n",
    "\n",
    "Source: \n",
    "- [Getting Started with DuckDB](https://www.packtpub.com/en-ar/product/getting-started-with-duckdb-9781803232539) by Simon Aubury & Ned Letcher\n",
    "- [DuckDB documentation](https://duckdb.org/docs/)\n",
    "---"
   ]
  },
  {
   "cell_type": "markdown",
   "metadata": {},
   "source": [
    "The interactive links in this notebook are not working due to GitHub limitations. View this notebook with the interactive links working [here](https://nbviewer.org/github/jendives2000/Data_ML_Practice_2025/blob/main/1-3-SQL/practice/DuckDB/notebooks/4_duckdb_handson_eda.ipynb).\n",
    "\n",
    "---"
   ]
  },
  {
   "cell_type": "markdown",
   "metadata": {},
   "source": [
    "This is part 4 of this series of notebooks on DuckDB.  \n",
    "Find the 3 previous notebooks: \n",
    "- intro to DuckDB, [notebook 1](https://github.com/jendives2000/Data_ML_Practice_2025/blob/82571ad44176666f9cf0735c5141c6a96d5eace9/1-3-SQL/practice/DuckDB/notebooks/1_duckdb_intro.ipynb).\n",
    "- how DuckDB works, [notebook 2](https://github.com/jendives2000/Data_ML_Practice_2025/blob/ef8533ad82586234cfdc54a494c0c5be590816cc/1-3-SQL/practice/DuckDB/notebooks/2_duckdb_python_API.ipynb)\n",
    "- DuckDB best practices, [notebook 3](https://github.com/jendives2000/Data_ML_Practice_2025/blob/ef8533ad82586234cfdc54a494c0c5be590816cc/1-3-SQL/practice/DuckDB/notebooks/3_duckdb_bestpractices.ipynb)\n",
    "\n",
    "For this notebook, I will:\n",
    "- first introduce the dataset I will work on\n",
    "- clean it up\n",
    "- and explore that data (EDA)\n",
    "  - including with visualizations (Plotly & Plotly Express)\n",
    "\n",
    "\n",
    "<u>**Relational API & JupySQL:**</u>  \n",
    "\n",
    "I use two ways to leverage DuckDB:\n",
    "- its Relational API, efficient and pythonic \n",
    "- and JupySQL, which enables direct SQL queries in a Jupyter notebook cell (with just '%%sql')\n",
    "  \n",
    "I will not reintroduce the Relational API, for that check my notebook 1.  \n",
    "JupySQL needs to be installed (`pip install jupysql`) and imported. I will also show how to enable it. \n",
    "\n",
    "**Large File**:  \n",
    "Be aware that the dataset I will explore weighs 420MB. While this is by no means a heavy dataset, you still need the memory space for it. More about that in the dataset paragraph.\n",
    "\n",
    "**OUTLINE:**  \n",
    "\n",
    "**DATABASE & Git LFS**:  \n",
    "Like I said this dataset weighs 420MB. I will give the link to download it if you prefer that way (you could just clone the [DuckDB folder](https://github.com/jendives2000/Data_ML_Practice_2025/tree/dc1fe3fe414909d0fce9bc18a62a56091e191f4b/1-3-SQL/practice/DuckDB)).  \n",
    "Note that because of that size, Git LFS was needed to make it available in this repo. So you may have to download the dataset via Git itself, I will not show how. \n",
    "\n",
    "**The main takeaway is**:\n",
    "- to **better comprehend** the **differences** between regular SQL queries and DuckDB enhanced queries, which is often a lot less verbosity and more readability. \n",
    "\n",
    "---\n"
   ]
  },
  {
   "cell_type": "markdown",
   "metadata": {},
   "source": [
    "## **Imports**:"
   ]
  },
  {
   "cell_type": "code",
   "execution_count": 1,
   "metadata": {},
   "outputs": [],
   "source": [
    "#! pip install pandas matplotlib\n",
    "# Add parent directory to sys.path\n",
    "import sys\n",
    "import os\n",
    "sys.path.append(os.path.abspath(\"..\"))\n",
    "\n",
    "import duckdb\n",
    "import pandas as pd\n",
    "from utils.duckdb_shared_code import init_plotly_template\n",
    "init_plotly_template()"
   ]
  },
  {
   "cell_type": "markdown",
   "metadata": {},
   "source": [
    "---"
   ]
  },
  {
   "cell_type": "markdown",
   "metadata": {},
   "source": [
    "## **Dataset: Melbourne Pedestrian Count**:\n",
    "\n",
    "I will be using a dataset made available by the city of Melbourne, Australia. contains **hourly pedestrian counts** from pedestrian sensors located in and around the Melbourne Central business district. We’ll be working with a historical timeframe of this dataset ranging from **2009 to 2022**.\n",
    "\n",
    "I [imported](https://data.melbourne.vic.gov.au/api/datasets/1.0/pedestrian-counting-system-monthly-counts-per-hour/attachments/pedestrian_counting_system_monthly_counts_per_hour_may_2009_to_14_dec_2022_csv_zip/) it in the data/data_in folder. \n",
    "Once unzipped, this is:\n",
    "- a **420MB** dataset \n",
    "- with over **2,1 million entries**\n"
   ]
  },
  {
   "cell_type": "markdown",
   "metadata": {},
   "source": [
    "## **Relational API**: \n",
    "\n",
    "I will use the Relational API because it offers more for what I will be doing: data exploratory analysis. \n",
    "\n",
    "Let's get our dataset into a Relational Object (RO from now on):"
   ]
  },
  {
   "cell_type": "code",
   "execution_count": 2,
   "metadata": {},
   "outputs": [
    {
     "name": "stdout",
     "output_type": "stream",
     "text": [
      "┌─────────┬───────────────────────────────┬───────┬──────────┬───────┬──────────┬───────┬───────────┬───────────────────────────────┬───────────────┐\n",
      "│   ID    │           Date_Time           │ Year  │  Month   │ Mdate │   Day    │ Time  │ Sensor_ID │          Sensor_Name          │ Hourly_Counts │\n",
      "│  int64  │            varchar            │ int64 │ varchar  │ int64 │ varchar  │ int64 │   int64   │            varchar            │     int64     │\n",
      "├─────────┼───────────────────────────────┼───────┼──────────┼───────┼──────────┼───────┼───────────┼───────────────────────────────┼───────────────┤\n",
      "│ 2887628 │ November 01, 2019 05:00:00 PM │  2019 │ November │     1 │ Friday   │    17 │        34 │ Flinders St-Spark La          │           300 │\n",
      "│ 2887629 │ November 01, 2019 05:00:00 PM │  2019 │ November │     1 │ Friday   │    17 │        39 │ Alfred Place                  │           604 │\n",
      "│ 2887630 │ November 01, 2019 05:00:00 PM │  2019 │ November │     1 │ Friday   │    17 │        37 │ Lygon St (East)               │           216 │\n",
      "│ 2887631 │ November 01, 2019 05:00:00 PM │  2019 │ November │     1 │ Friday   │    17 │        40 │ Lonsdale St-Spring St (West)  │           627 │\n",
      "│ 2887632 │ November 01, 2019 05:00:00 PM │  2019 │ November │     1 │ Friday   │    17 │        36 │ Queen St (West)               │           774 │\n",
      "│ 2887633 │ November 01, 2019 05:00:00 PM │  2019 │ November │     1 │ Friday   │    17 │        29 │ St Kilda Rd-Alexandra Gardens │           644 │\n",
      "│ 2887634 │ November 01, 2019 05:00:00 PM │  2019 │ November │     1 │ Friday   │    17 │        42 │ Grattan St-Swanston St (West) │           453 │\n",
      "│ 2887635 │ November 01, 2019 05:00:00 PM │  2019 │ November │     1 │ Friday   │    17 │        43 │ Monash Rd-Swanston St (West)  │           387 │\n",
      "│ 2887636 │ November 01, 2019 05:00:00 PM │  2019 │ November │     1 │ Friday   │    17 │        44 │ Tin Alley-Swanston St (West)  │            27 │\n",
      "│ 2887637 │ November 01, 2019 05:00:00 PM │  2019 │ November │     1 │ Friday   │    17 │        35 │ Southbank                     │          2691 │\n",
      "│    ·    │               ·               │    ·  │    ·     │     · │   ·      │     · │         · │     ·                         │            ·  │\n",
      "│    ·    │               ·               │    ·  │    ·     │     · │   ·      │     · │         · │     ·                         │            ·  │\n",
      "│    ·    │               ·               │    ·  │    ·     │     · │   ·      │     · │         · │     ·                         │            ·  │\n",
      "│ 2897597 │ November 09, 2019 10:00:00 AM │  2019 │ November │     9 │ Saturday │    10 │        27 │ QV Market-Peel St             │           371 │\n",
      "│ 2897598 │ November 09, 2019 10:00:00 AM │  2019 │ November │     9 │ Saturday │    10 │        28 │ The Arts Centre               │          1188 │\n",
      "│ 2897599 │ November 09, 2019 10:00:00 AM │  2019 │ November │     9 │ Saturday │    10 │        31 │ Lygon St (West)               │           229 │\n",
      "│ 2897600 │ November 09, 2019 10:00:00 AM │  2019 │ November │     9 │ Saturday │    10 │        30 │ Lonsdale St (South)           │           391 │\n",
      "│ 2897601 │ November 09, 2019 10:00:00 AM │  2019 │ November │     9 │ Saturday │    10 │        34 │ Flinders St-Spark La          │           111 │\n",
      "│ 2897602 │ November 09, 2019 10:00:00 AM │  2019 │ November │     9 │ Saturday │    10 │        37 │ Lygon St (East)               │           133 │\n",
      "│ 2897603 │ November 09, 2019 10:00:00 AM │  2019 │ November │     9 │ Saturday │    10 │        40 │ Lonsdale St-Spring St (West)  │           154 │\n",
      "│ 2897604 │ November 09, 2019 10:00:00 AM │  2019 │ November │     9 │ Saturday │    10 │        36 │ Queen St (West)               │           249 │\n",
      "│ 2897605 │ November 09, 2019 10:00:00 AM │  2019 │ November │     9 │ Saturday │    10 │        29 │ St Kilda Rd-Alexandra Gardens │           448 │\n",
      "│ 2897606 │ November 09, 2019 10:00:00 AM │  2019 │ November │     9 │ Saturday │    10 │        42 │ Grattan St-Swanston St (West) │           288 │\n",
      "├─────────┴───────────────────────────────┴───────┴──────────┴───────┴──────────┴───────┴───────────┴───────────────────────────────┴───────────────┤\n",
      "│ ? rows (>9999 rows, 20 shown)                                                                                                          10 columns │\n",
      "└───────────────────────────────────────────────────────────────────────────────────────────────────────────────────────────────────────────────────┘\n",
      "\n"
     ]
    }
   ],
   "source": [
    "records = duckdb.read_csv(\"../data/data_in/pedestrian_records_2009-2022.csv\")\n",
    "\n",
    "# 200 is the max number of characters possible inside an entry:\n",
    "records.show(max_width = 200)"
   ]
  },
  {
   "cell_type": "markdown",
   "metadata": {},
   "source": [
    "## **Looking at the Data**:\n",
    "\n",
    "Because this is an RO, DuckDB loaded 10,000 rows and this what it **lazily returned** us here.  \n",
    "10,000 rows with 10 columns each makes **100,000 entries** that were lazily output (out of the total 2,1 millions entries). \n",
    "\n",
    "Lots of info in this dataset: \n",
    "- **count of pedestrians** detected by \n",
    "- a specific **sensor** \n",
    "- during **each hour**. \n",
    "- Additionally, it provides other details related to the hourly readings, including the **sensor name** \n",
    "  - and the **timestamp**, along with date and time components derived from the timestamp.\n",
    "\n",
    "### **Data types**:\n",
    "Notice in the header of the output that **datetime** is of the data type **VARCHAR**, meaning text. It should be a timestamp (docs on this [here](http://duckdb.org/docs/sql/functions/dateformat)). Let's fix that:"
   ]
  },
  {
   "cell_type": "code",
   "execution_count": 3,
   "metadata": {},
   "outputs": [],
   "source": [
    "records = duckdb.read_csv(\n",
    "    \"../data/data_in/pedestrian_records_2009-2022.csv\",\n",
    "    dtype={\"Date_Time\": \"TIMESTAMP\"},\n",
    "    timestamp_format=\"%B %d, %Y %H:%M:%S %p\",\n",
    ")"
   ]
  },
  {
   "cell_type": "markdown",
   "metadata": {},
   "source": [
    "Let's confirm this change:"
   ]
  },
  {
   "cell_type": "code",
   "execution_count": 4,
   "metadata": {},
   "outputs": [
    {
     "name": "stdout",
     "output_type": "stream",
     "text": [
      "┌─────────┬─────────────────────┬───────┬──────────┬───────┬─────────┬───────┬───────────┬──────────────────────────────┬───────────────┐\n",
      "│   ID    │      Date_Time      │ Year  │  Month   │ Mdate │   Day   │ Time  │ Sensor_ID │         Sensor_Name          │ Hourly_Counts │\n",
      "│  int64  │      timestamp      │ int64 │ varchar  │ int64 │ varchar │ int64 │   int64   │           varchar            │     int64     │\n",
      "├─────────┼─────────────────────┼───────┼──────────┼───────┼─────────┼───────┼───────────┼──────────────────────────────┼───────────────┤\n",
      "│ 2887628 │ 2019-11-01 17:00:00 │  2019 │ November │     1 │ Friday  │    17 │        34 │ Flinders St-Spark La         │           300 │\n",
      "│ 2887629 │ 2019-11-01 17:00:00 │  2019 │ November │     1 │ Friday  │    17 │        39 │ Alfred Place                 │           604 │\n",
      "│ 2887630 │ 2019-11-01 17:00:00 │  2019 │ November │     1 │ Friday  │    17 │        37 │ Lygon St (East)              │           216 │\n",
      "│ 2887631 │ 2019-11-01 17:00:00 │  2019 │ November │     1 │ Friday  │    17 │        40 │ Lonsdale St-Spring St (West) │           627 │\n",
      "│ 2887632 │ 2019-11-01 17:00:00 │  2019 │ November │     1 │ Friday  │    17 │        36 │ Queen St (West)              │           774 │\n",
      "└─────────┴─────────────────────┴───────┴──────────┴───────┴─────────┴───────┴───────────┴──────────────────────────────┴───────────────┘\n",
      "\n"
     ]
    }
   ],
   "source": [
    "records.limit(5).show(max_width=200)"
   ]
  },
  {
   "cell_type": "markdown",
   "metadata": {},
   "source": [
    "### **Enums for low cardinality String Columns**:\n",
    "\n",
    "[ENUM types](https://duckdb.org/docs/sql/data_types/enum.html) are a way to **convert string values into numbers** in a database.  \n",
    "This is useful for columns with a limited number of different values, like:\n",
    "- month names \n",
    "- and days of the week. \n",
    "\n",
    "By using ENUMs for these columns, we can:\n",
    "- **save storage space** \n",
    "- and **speed up queries** \n",
    "\n",
    "because the database only stores numbers instead of full strings.  "
   ]
  },
  {
   "cell_type": "markdown",
   "metadata": {},
   "source": [
    "In DuckDB, because the **SQL parser doesn’t support subqueries** in a CREATE TYPE ... AS ENUM statement, the best approach is to:\n",
    "- **extract** the distinct values via SQL (or pandas),\n",
    "- **format** them into a comma-separated list, \n",
    "- and then **build** the ENUM type dynamically.  \n",
    "\n",
    "This method gives me flexibility and control over the ENUM values while keeping my code concise."
   ]
  },
  {
   "cell_type": "code",
   "execution_count": 5,
   "metadata": {},
   "outputs": [],
   "source": [
    "# refactored logic to create ENUM with an RO:\n",
    "def create_enum(col, db, enum_name):\n",
    "    \"\"\"\n",
    "    Create an ENUM type in DuckDB from unique values in a specified column.\n",
    "\n",
    "    Parameters:\n",
    "    col (str): The column name to extract unique values from.\n",
    "    db (str): The name of the DuckDB relation (table).\n",
    "    enum_name (str): The name of the ENUM type to be created.\n",
    "    \"\"\"\n",
    "    # extracting the unique values from the specified column\n",
    "    col_forEnum = duckdb.sql(\n",
    "        f\"\"\"\n",
    "        select distinct {col}\n",
    "        from {db}\n",
    "        \"\"\"\n",
    "    ).fetchall()\n",
    "\n",
    "    # Build a comma-separated list of ENUM values\n",
    "    col_enum_val = \", \".join(f\"'{v[0]}'\" for v in col_forEnum)\n",
    "\n",
    "    # create the ENUM type\n",
    "    duckdb.sql(f\"create type {enum_name} as enum ({col_enum_val});\")\n",
    "\n",
    "# creating enums for the Month column:\n",
    "create_enum(\"Month\", \"records\", \"month_enum\")"
   ]
  },
  {
   "cell_type": "code",
   "execution_count": 6,
   "metadata": {},
   "outputs": [],
   "source": [
    "# creating enums for the Day column:\n",
    "create_enum(\"Day\", \"records\", \"day_enum\")"
   ]
  },
  {
   "cell_type": "markdown",
   "metadata": {},
   "source": [
    "Did I actually created them? The output says yes!"
   ]
  },
  {
   "cell_type": "code",
   "execution_count": 7,
   "metadata": {},
   "outputs": [
    {
     "name": "stdout",
     "output_type": "stream",
     "text": [
      "┌────────────────────────────────────────────────────────────────────────────────────────────────────┐\n",
      "│                                enum_range(CAST(NULL AS month_enum))                                │\n",
      "│                                             varchar[]                                              │\n",
      "├────────────────────────────────────────────────────────────────────────────────────────────────────┤\n",
      "│ [October, March, February, May, June, November, April, July, January, December, August, September] │\n",
      "└────────────────────────────────────────────────────────────────────────────────────────────────────┘\n",
      "\n",
      "┌──────────────────────────────────────────────────────────────────┐\n",
      "│                enum_range(CAST(NULL AS day_enum))                │\n",
      "│                            varchar[]                             │\n",
      "├──────────────────────────────────────────────────────────────────┤\n",
      "│ [Sunday, Friday, Saturday, Thursday, Monday, Wednesday, Tuesday] │\n",
      "└──────────────────────────────────────────────────────────────────┘\n",
      "\n"
     ]
    }
   ],
   "source": [
    "print(duckdb.sql(\"select enum_range(NULL::month_enum);\"))\n",
    "print(duckdb.sql(\"select enum_range(NULL::day_enum);\"))"
   ]
  },
  {
   "cell_type": "markdown",
   "metadata": {},
   "source": [
    "### **Selecting useful Columns**:\n",
    "\n",
    "Before we load our dataset into an on-disk database for analysis, we should think about any data changes we might want to make. \n",
    "For instance, we can remove columns we won’t need:  \n",
    "- the additional date and time fields are likely to be useful, \n",
    "- and we should keep the Sensor_ID column since it helps connect this dataset with another one from the city of Melbourne that includes details about each sensor, like their locations.  \n",
    "- **However**, we can **drop the ID field** because it doesn’t relate to any other datasets about the pedestrian counting system.  \n",
    "- Since we’ll be doing various time series analyses, we also need to **sort the records by the Date_Time column**.  \n",
    "\n",
    "Let’s make these changes and take a look at the results."
   ]
  },
  {
   "cell_type": "code",
   "execution_count": 8,
   "metadata": {},
   "outputs": [],
   "source": [
    "records_v2 = records.select(\"* exclude ID\").sort(\"Date_Time\")"
   ]
  },
  {
   "cell_type": "code",
   "execution_count": 9,
   "metadata": {},
   "outputs": [
    {
     "name": "stdout",
     "output_type": "stream",
     "text": [
      "┌─────────────────────┬───────┬─────────┬───────┬─────────┬───────┬───────────┬───────────────────────────────────┬───────────────┐\n",
      "│      Date_Time      │ Year  │  Month  │ Mdate │   Day   │ Time  │ Sensor_ID │            Sensor_Name            │ Hourly_Counts │\n",
      "│      timestamp      │ int64 │ varchar │ int64 │ varchar │ int64 │   int64   │              varchar              │     int64     │\n",
      "├─────────────────────┼───────┼─────────┼───────┼─────────┼───────┼───────────┼───────────────────────────────────┼───────────────┤\n",
      "│ 2009-05-01 00:00:00 │  2009 │ May     │     1 │ Friday  │     0 │         4 │ Town Hall (West)                  │           209 │\n",
      "│ 2009-05-01 00:00:00 │  2009 │ May     │     1 │ Friday  │     0 │         1 │ Bourke Street Mall (North)        │            53 │\n",
      "│ 2009-05-01 00:00:00 │  2009 │ May     │     1 │ Friday  │     0 │         6 │ Flinders Street Station Underpass │           139 │\n",
      "│ 2009-05-01 00:00:00 │  2009 │ May     │     1 │ Friday  │     0 │         5 │ Princes Bridge                    │           157 │\n",
      "│ 2009-05-01 00:00:00 │  2009 │ May     │     1 │ Friday  │     0 │         2 │ Bourke Street Mall (South)        │            52 │\n",
      "└─────────────────────┴───────┴─────────┴───────┴─────────┴───────┴───────────┴───────────────────────────────────┴───────────────┘\n",
      "\n"
     ]
    }
   ],
   "source": [
    "records_v2.limit(5).show(max_width=200)"
   ]
  },
  {
   "cell_type": "markdown",
   "metadata": {},
   "source": [
    "All this pre-analysis work is done, the data is good to go.  \n",
    "\n",
    "## **Advantages of loading into a disk-based database**:\n",
    "I need to load it into a **persistent** disk-based database so that the whole data is **written and safely saved**, making it **available** for another time or another person. \n",
    "\n",
    "This means I will NOT use the default database duckdb anymore. This data I just cleaned up will be in a **table** in the database. That cleaning-up process will **NOT happen again** as it is now 'persistingly' reflected in the new database. \n",
    "\n",
    "This has the following advantages: \n",
    "- **saves compute time**, especially on large and/or complex datasets\n",
    "- **separates data loading from data consumption**: \n",
    "  - so multiple notebooks can do their own analyses, **consuming** the same database data **without impacting** the data itself.\n",
    "\n",
    "Now, to encapsulate all of: \n",
    "- the cleaning-up I did so far \n",
    "- and the table/database creation \n",
    "- while ensuring that everything is written off and saved safely \n",
    "\n",
    "I am using the context's manager `with` block. I call: \n",
    "- the table `pedestrian_counts`, \n",
    "- which is held by the database `pedestrian.duckdb`. \n"
   ]
  },
  {
   "cell_type": "code",
   "execution_count": 10,
   "metadata": {},
   "outputs": [],
   "source": [
    "# context manager with block:\n",
    "with duckdb.connect(\"../data/data_out/pedestrian.duckdb\") as conn:\n",
    "    # Drop the table if it exists\n",
    "    conn.execute(\"DROP TABLE IF EXISTS pedestrian_counts\")\n",
    "    \n",
    "    result=(\n",
    "        # repeating the cleaning-up steps:\n",
    "        conn.read_csv(\n",
    "            \"../data/data_in/pedestrian_records_2009-2022.csv\",\n",
    "            dtype={\"Date_Time\": \"TIMESTAMP\"},\n",
    "            timestamp_format=\"%B %d, %Y %H:%M:%S %p\",\n",
    "        )\n",
    "        .select(\"* exclude ID\")\n",
    "        .sort(\"Date_Time\")\n",
    "    )\n",
    "    # copying the whole result into the new table:\n",
    "    result.to_table(\"pedestrian_counts\")"
   ]
  },
  {
   "cell_type": "markdown",
   "metadata": {},
   "source": [
    "## EDA: \n",
    "\n",
    "I can now start the EDA, however let's first look at some **more tools** I need: \n",
    "- **JupySQl**: to conveniently **run SQL queries directly** within Jupyter cells\n",
    "- **Plotly**: to create any kind of **interactive visualizations**, well integrated with Jupyter\n",
    "\n",
    "### SQL directly in Jupyter with JupySQL:\n",
    "\n",
    "To better understand its advantages, I first use the Relational API with the `.sql()` method to:\n",
    "- count the total number of pedestrians \n",
    "- for the _Melbourne Central_ sensor\n",
    "- for 2022\n"
   ]
  },
  {
   "cell_type": "code",
   "execution_count": 11,
   "metadata": {},
   "outputs": [
    {
     "data": {
      "text/plain": [
       "┌──────────────┐\n",
       "│ Total_Counts │\n",
       "│    int128    │\n",
       "├──────────────┤\n",
       "│      6897406 │\n",
       "└──────────────┘"
      ]
     },
     "execution_count": 11,
     "metadata": {},
     "output_type": "execute_result"
    }
   ],
   "source": [
    "conn = duckdb.connect(\"../data/data_out/pedestrian.duckdb\")\n",
    "\n",
    "conn.sql(\n",
    "    \"\"\"\n",
    "    select sum(Hourly_Counts) as Total_Counts\n",
    "    from pedestrian_counts\n",
    "    where Year = 2022 and Sensor_Name = 'Melbourne Central'\n",
    "    \"\"\"\n",
    ")"
   ]
  },
  {
   "cell_type": "markdown",
   "metadata": {},
   "source": [
    "So obviously the downsides are:\n",
    "- use of a python string (doc strings) to introduce SQL\n",
    "- use of the sql() method too\n",
    "\n",
    "This is similar to what I used in the previous notebook where I used the DuckDB shell directly but within the Jupyter notebook. \n",
    "\n",
    "### **JupySQL Magic SQL**:\n",
    "Here's what JupySQL brings to the table. I am configuring it to be used with our new database, but first I **have to close the `conn` one**.  \n",
    "<u>**REMEMBER**</u>, DuckDB does **NOT allow for multiple concurrent connections** to the same database. "
   ]
  },
  {
   "cell_type": "code",
   "execution_count": 12,
   "metadata": {},
   "outputs": [],
   "source": [
    "conn.close()"
   ]
  },
  {
   "cell_type": "code",
   "execution_count": 13,
   "metadata": {},
   "outputs": [
    {
     "data": {
      "text/html": [
       "<span style=\"None\">Connecting to &#x27;duckdb:///../data/data_out/pedestrian.duckdb&#x27;</span>"
      ],
      "text/plain": [
       "Connecting to 'duckdb:///../data/data_out/pedestrian.duckdb'"
      ]
     },
     "metadata": {},
     "output_type": "display_data"
    }
   ],
   "source": [
    "# enabling SQL Magic\n",
    "%load_ext sql\n",
    "%sql duckdb:///../data/data_out/pedestrian.duckdb"
   ]
  },
  {
   "cell_type": "markdown",
   "metadata": {},
   "source": [
    "On top of that, I can now configure it to automatically return a pandas dataframe instead of the usual SQL output, and simplify the output: "
   ]
  },
  {
   "cell_type": "code",
   "execution_count": 14,
   "metadata": {},
   "outputs": [],
   "source": [
    "%config Sqlmagic.autopandas = True\n",
    "%config SqlMagic.feedback = False\n",
    "%config SqlMagic.displaycon = False"
   ]
  },
  {
   "cell_type": "markdown",
   "metadata": {},
   "source": [
    "Remember the lazy evaluation thing? By doing that autopandas configuration I **lost that lazy eval**. This has **performance impacts**, for me not so much at it is 'only' a 420MB dataset. If you do that on a very much larger dataset, this will show. \n",
    "\n",
    "And with that I am ready to type SQL magic:"
   ]
  },
  {
   "cell_type": "code",
   "execution_count": 15,
   "metadata": {},
   "outputs": [
    {
     "data": {
      "text/html": [
       "<table>\n",
       "    <thead>\n",
       "        <tr>\n",
       "            <th>Total_Counts</th>\n",
       "        </tr>\n",
       "    </thead>\n",
       "    <tbody>\n",
       "        <tr>\n",
       "            <td>6897406</td>\n",
       "        </tr>\n",
       "    </tbody>\n",
       "</table>"
      ],
      "text/plain": [
       "+--------------+\n",
       "| Total_Counts |\n",
       "+--------------+\n",
       "|   6897406    |\n",
       "+--------------+"
      ]
     },
     "execution_count": 15,
     "metadata": {},
     "output_type": "execute_result"
    }
   ],
   "source": [
    "%%sql\n",
    "select sum(Hourly_Counts) as Total_Counts\n",
    "from pedestrian_counts\n",
    "where Year = 2022 and Sensor_Name = 'Melbourne Central'"
   ]
  },
  {
   "cell_type": "markdown",
   "metadata": {},
   "source": [
    "All right. What about putting all of that in a variable?  \n",
    "\n",
    "### **`%%sql var <<`: to assign a df in a var**:\n",
    "Here's how, by using that syntax: \n",
    "`%%sql var_name <<`\n",
    "\n",
    "I am using it now to:\n",
    "- calculate the total counts\n",
    "- for each sensor \n",
    "- in 2022\n",
    "- and sorts them in descending order (biggest first)\n"
   ]
  },
  {
   "cell_type": "code",
   "execution_count": 16,
   "metadata": {},
   "outputs": [],
   "source": [
    "%%sql sensors_2022_df <<\n",
    "SELECT Sensor_Name, sum(Hourly_Counts)::BIGINT AS Total_Counts\n",
    "FROM pedestrian_counts\n",
    "WHERE Year = 2022\n",
    "GROUP BY Sensor_Name\n",
    "ORDER BY Total_Counts DESC"
   ]
  },
  {
   "cell_type": "markdown",
   "metadata": {},
   "source": [
    "So in the code above: \n",
    "- `::BIGINT` turned the sum of hours count **to an integer**, removing any decimal that would have appeared otherwise\n",
    "  - Why? \n",
    "    - Because the sum itself is of data type **HUGEINT** actually (128-bit integer) preventing the numbers from overflowing (being too big)\n",
    "    - and because pandas does **not support 128-bit** integers, it converts them to float64 (hence the decimal)\n",
    "  "
   ]
  },
  {
   "cell_type": "code",
   "execution_count": 17,
   "metadata": {},
   "outputs": [
    {
     "name": "stdout",
     "output_type": "stream",
     "text": [
      "<class 'sql.run.resultset.ResultSet'>\n"
     ]
    }
   ],
   "source": [
    "print(type(sensors_2022_df))"
   ]
  },
  {
   "cell_type": "markdown",
   "metadata": {},
   "source": [
    "I printed the type of the variable `sensors_2022_df` and it is actually **not a dataframe**.  \n",
    "The `autopandas = True` config did <u>**not work as expected**</u>.  \n",
    "  \n",
    "So I have to do the conversion manually:"
   ]
  },
  {
   "cell_type": "code",
   "execution_count": 18,
   "metadata": {},
   "outputs": [
    {
     "name": "stdout",
     "output_type": "stream",
     "text": [
      "<class 'pandas.core.frame.DataFrame'>\n",
      "<class 'pandas.core.frame.DataFrame'>\n"
     ]
    }
   ],
   "source": [
    "# refactoring the code to turn a variable into a pandas dataframe:\n",
    "def var_to_df(var):\n",
    "    \"\"\"\n",
    "    Convert a SQL result set to a pandas DataFrame.\n",
    "\n",
    "    Parameters:\n",
    "    var (sql.run.resultset.ResultSet): The SQL result set to convert.\n",
    "\n",
    "    Returns:\n",
    "    pandas.DataFrame: The converted pandas DataFrame.\n",
    "    \"\"\"\n",
    "    return var.DataFrame()\n",
    "\n",
    "df_sensors_2022 = var_to_df(sensors_2022_df)\n",
    "print(type(df_sensors_2022))\n",
    "\n",
    "df_sensors_2022 = var_to_df(sensors_2022_df)\n",
    "print(type(df_sensors_2022))"
   ]
  },
  {
   "cell_type": "markdown",
   "metadata": {},
   "source": [
    "All right, let's look at it:"
   ]
  },
  {
   "cell_type": "code",
   "execution_count": 19,
   "metadata": {},
   "outputs": [
    {
     "data": {
      "text/html": [
       "<div>\n",
       "<style scoped>\n",
       "    .dataframe tbody tr th:only-of-type {\n",
       "        vertical-align: middle;\n",
       "    }\n",
       "\n",
       "    .dataframe tbody tr th {\n",
       "        vertical-align: top;\n",
       "    }\n",
       "\n",
       "    .dataframe thead th {\n",
       "        text-align: right;\n",
       "    }\n",
       "</style>\n",
       "<table border=\"1\" class=\"dataframe\">\n",
       "  <thead>\n",
       "    <tr style=\"text-align: right;\">\n",
       "      <th></th>\n",
       "      <th>Sensor_Name</th>\n",
       "      <th>Total_Counts</th>\n",
       "    </tr>\n",
       "  </thead>\n",
       "  <tbody>\n",
       "    <tr>\n",
       "      <th>0</th>\n",
       "      <td>Flinders La-Swanston St (West)</td>\n",
       "      <td>10492872</td>\n",
       "    </tr>\n",
       "    <tr>\n",
       "      <th>1</th>\n",
       "      <td>Southbank</td>\n",
       "      <td>8737282</td>\n",
       "    </tr>\n",
       "    <tr>\n",
       "      <th>2</th>\n",
       "      <td>Melbourne Central</td>\n",
       "      <td>6897406</td>\n",
       "    </tr>\n",
       "    <tr>\n",
       "      <th>3</th>\n",
       "      <td>Elizabeth St - Flinders St (East) - New footpath</td>\n",
       "      <td>6511465</td>\n",
       "    </tr>\n",
       "    <tr>\n",
       "      <th>4</th>\n",
       "      <td>Princes Bridge</td>\n",
       "      <td>6202149</td>\n",
       "    </tr>\n",
       "    <tr>\n",
       "      <th>5</th>\n",
       "      <td>State Library - New</td>\n",
       "      <td>6049385</td>\n",
       "    </tr>\n",
       "    <tr>\n",
       "      <th>6</th>\n",
       "      <td>Flinders Street Station Underpass</td>\n",
       "      <td>5772514</td>\n",
       "    </tr>\n",
       "    <tr>\n",
       "      <th>7</th>\n",
       "      <td>Melbourne Convention Exhibition Centre</td>\n",
       "      <td>5634531</td>\n",
       "    </tr>\n",
       "    <tr>\n",
       "      <th>8</th>\n",
       "      <td>Bourke Street Mall (North)</td>\n",
       "      <td>5614610</td>\n",
       "    </tr>\n",
       "    <tr>\n",
       "      <th>9</th>\n",
       "      <td>Melbourne Central-Elizabeth St (East)</td>\n",
       "      <td>5380759</td>\n",
       "    </tr>\n",
       "  </tbody>\n",
       "</table>\n",
       "</div>"
      ],
      "text/plain": [
       "                                        Sensor_Name  Total_Counts\n",
       "0                    Flinders La-Swanston St (West)      10492872\n",
       "1                                         Southbank       8737282\n",
       "2                                 Melbourne Central       6897406\n",
       "3  Elizabeth St - Flinders St (East) - New footpath       6511465\n",
       "4                                    Princes Bridge       6202149\n",
       "5                               State Library - New       6049385\n",
       "6                 Flinders Street Station Underpass       5772514\n",
       "7            Melbourne Convention Exhibition Centre       5634531\n",
       "8                        Bourke Street Mall (North)       5614610\n",
       "9             Melbourne Central-Elizabeth St (East)       5380759"
      ]
     },
     "execution_count": 19,
     "metadata": {},
     "output_type": "execute_result"
    }
   ],
   "source": [
    "df_sensors_2022.head(10)"
   ]
  },
  {
   "cell_type": "markdown",
   "metadata": {},
   "source": [
    "An I can see the top ten sensors ranked by traffic. "
   ]
  },
  {
   "cell_type": "markdown",
   "metadata": {},
   "source": [
    "### Plotly\n",
    "\n",
    "**Plotly** is actually a JavaScript library, which is called to essentially render the vis into a browser page.  \n",
    "These rendered objects are named **figures**.  \n",
    "\n",
    "To build figures, I can use:\n",
    "- Plotly **components** given to me in its Python API\n",
    "- or another tool given in that same API, **Plotly Express**, to expressly create figures \n",
    "\n",
    "Plotly Express is less finicky but more efficient. In general, it is used first and then components are accessed for fine tuning. \n",
    "And Plotly Express was designed for dataframes visualizations for pandas and polars.\n",
    "\n",
    "Just like any other tool, I need to pip install it (already done) and import it. "
   ]
  },
  {
   "cell_type": "code",
   "execution_count": 20,
   "metadata": {},
   "outputs": [],
   "source": [
    "import plotly.express as px"
   ]
  },
  {
   "cell_type": "markdown",
   "metadata": {},
   "source": [
    "Ok, I want to see a bar chart of that dataframe (df from now on) I just created `df_sensors_2022`:"
   ]
  },
  {
   "cell_type": "code",
   "execution_count": 21,
   "metadata": {},
   "outputs": [
    {
     "data": {
      "application/vnd.plotly.v1+json": {
       "config": {
        "plotlyServerURL": "https://plot.ly"
       },
       "data": [
        {
         "hovertemplate": "Sensor_Name=%{x}<br>Total_Counts=%{marker.color}<extra></extra>",
         "legendgroup": "",
         "marker": {
          "color": {
           "bdata": "yBugAAJShQD+PmkAaVtjACWjXgBpTlwA4hRYAOP5VQASrFUAlxpSAA==",
           "dtype": "i4"
          },
          "coloraxis": "coloraxis",
          "pattern": {
           "shape": ""
          }
         },
         "name": "",
         "orientation": "v",
         "showlegend": false,
         "textposition": "auto",
         "type": "bar",
         "x": [
          "Flinders La-Swanston St (West)",
          "Southbank",
          "Melbourne Central",
          "Elizabeth St - Flinders St (East) - New footpath",
          "Princes Bridge",
          "State Library - New",
          "Flinders Street Station Underpass",
          "Melbourne Convention Exhibition Centre",
          "Bourke Street Mall (North)",
          "Melbourne Central-Elizabeth St (East)"
         ],
         "xaxis": "x",
         "y": {
          "bdata": "yBugAAJShQD+PmkAaVtjACWjXgBpTlwA4hRYAOP5VQASrFUAlxpSAA==",
          "dtype": "i4"
         },
         "yaxis": "y"
        }
       ],
       "layout": {
        "barmode": "relative",
        "coloraxis": {
         "colorbar": {
          "title": {
           "text": "Total_Counts"
          }
         },
         "colorscale": [
          [
           0,
           "rgb(65,65,65)"
          ],
          [
           1,
           "rgb(255,255,100)"
          ]
         ]
        },
        "font": {
         "color": "white",
         "size": 25
        },
        "height": 900,
        "legend": {
         "tracegroupgap": 0
        },
        "margin": {
         "b": 280,
         "l": 300
        },
        "paper_bgcolor": "black",
        "plot_bgcolor": "black",
        "template": {
         "layout": {
          "font": {
           "color": "rgb(160, 160, 160)",
           "size": 25
          },
          "paper_bgcolor": "black",
          "plot_bgcolor": "black",
          "title": {
           "font": {
            "color": "rgb(160, 160, 160)",
            "size": 35
           }
          },
          "xaxis": {
           "tickangle": -45,
           "tickfont": {
            "color": "rgb(160, 160, 160)"
           }
          }
         }
        },
        "title": {
         "font": {
          "color": "white",
          "size": 35
         },
         "text": "Over 10M pedestrians in Flinders La Swanton St.: Top 10 sensors by traffic - 2022"
        },
        "xaxis": {
         "anchor": "y",
         "domain": [
          0,
          1
         ],
         "tickangle": -15,
         "tickfont": {
          "color": "grey"
         },
         "title": {
          "text": "Sensor_Name"
         }
        },
        "yaxis": {
         "anchor": "x",
         "domain": [
          0,
          1
         ],
         "range": [
          0,
          12000000
         ],
         "title": {
          "text": "Total_Counts"
         }
        }
       }
      }
     },
     "metadata": {},
     "output_type": "display_data"
    }
   ],
   "source": [
    "figure = px.bar(\n",
    "    df_sensors_2022.head(10),\n",
    "    x=\"Sensor_Name\",\n",
    "    y=\"Total_Counts\",\n",
    "    height=900,  # 5 times bigger than the original 500\n",
    "    title=\"Over 10M pedestrians in Flinders La Swanton St.: Top 10 sensors by traffic - 2022\",\n",
    "    color=\"Total_Counts\",\n",
    "    color_continuous_scale=[[0, 'rgb(65,65,65)'], [1, 'rgb(255,255,100)']]  # Medium grey to pale yellow\n",
    ")\n",
    "\n",
    "figure.update_layout(\n",
    "    title_font_size=35,\n",
    "    title_font_color=\"white\",\n",
    "    font=dict(size=25, color=\"white\"),\n",
    "    xaxis_tickangle=-15,\n",
    "    plot_bgcolor=\"black\",\n",
    "    paper_bgcolor=\"black\",\n",
    "    xaxis=dict(tickfont=dict(color='grey')),  # Set x-axis labels to grey\n",
    "    margin=dict(l=300, b=280)  # Increase left margin to 200\n",
    ")\n",
    "\n",
    "# Adjust the y-axis range to ensure the highest bar is fully visible\n",
    "figure.update_yaxes(range=[0, 12000000])\n",
    "\n",
    "figure.show()"
   ]
  },
  {
   "cell_type": "markdown",
   "metadata": {},
   "source": [
    "I **designed** this graphical configuration by **making decisions** about:\n",
    "- the background color, \n",
    "- fonts size and color too, \n",
    "- that gradient applied to the bars\n",
    "  - and how it fades, \n",
    "- the x labels colors too \n",
    "  - and how they are rotated. \n",
    "\n",
    "#### **Plotly Templates**:\n",
    "In plotly, this whole graphical configuration (which is essentially your figure) can be saved as a **template** and then very simply and quickly used for future figures.  \n",
    "This keeps your graphs consistent. \n",
    "\n",
    "So I saved it as a template in the duckdb_shared_code.py file as a function and imported it in the import parag. This way this style is available throughout this notebook. "
   ]
  },
  {
   "cell_type": "markdown",
   "metadata": {},
   "source": [
    "#### **Line Plot**:\n",
    "I now want to see: \n",
    "- number of active sensors\n",
    "- accross each year\n",
    "- in a line plot\n",
    "\n",
    "So here are the steps:\n",
    "- I call the SQl query first \n",
    "- and then I convert the variable holding it into a df \n",
    "- and then I plot it with Plotly\n"
   ]
  },
  {
   "cell_type": "code",
   "execution_count": 22,
   "metadata": {},
   "outputs": [],
   "source": [
    "%%sql sensors_cnt_years <<\n",
    "select Year, count(distinct Sensor_Name) as Total_Sensors\n",
    "from pedestrian_counts\n",
    "group by Year\n",
    "order by Year"
   ]
  },
  {
   "cell_type": "code",
   "execution_count": 23,
   "metadata": {},
   "outputs": [
    {
     "data": {
      "text/html": [
       "<div>\n",
       "<style scoped>\n",
       "    .dataframe tbody tr th:only-of-type {\n",
       "        vertical-align: middle;\n",
       "    }\n",
       "\n",
       "    .dataframe tbody tr th {\n",
       "        vertical-align: top;\n",
       "    }\n",
       "\n",
       "    .dataframe thead th {\n",
       "        text-align: right;\n",
       "    }\n",
       "</style>\n",
       "<table border=\"1\" class=\"dataframe\">\n",
       "  <thead>\n",
       "    <tr style=\"text-align: right;\">\n",
       "      <th></th>\n",
       "      <th>Year</th>\n",
       "      <th>Total_Sensors</th>\n",
       "    </tr>\n",
       "  </thead>\n",
       "  <tbody>\n",
       "    <tr>\n",
       "      <th>0</th>\n",
       "      <td>2009</td>\n",
       "      <td>18</td>\n",
       "    </tr>\n",
       "    <tr>\n",
       "      <th>1</th>\n",
       "      <td>2010</td>\n",
       "      <td>18</td>\n",
       "    </tr>\n",
       "    <tr>\n",
       "      <th>2</th>\n",
       "      <td>2011</td>\n",
       "      <td>18</td>\n",
       "    </tr>\n",
       "    <tr>\n",
       "      <th>3</th>\n",
       "      <td>2012</td>\n",
       "      <td>18</td>\n",
       "    </tr>\n",
       "    <tr>\n",
       "      <th>4</th>\n",
       "      <td>2013</td>\n",
       "      <td>32</td>\n",
       "    </tr>\n",
       "  </tbody>\n",
       "</table>\n",
       "</div>"
      ],
      "text/plain": [
       "   Year  Total_Sensors\n",
       "0  2009             18\n",
       "1  2010             18\n",
       "2  2011             18\n",
       "3  2012             18\n",
       "4  2013             32"
      ]
     },
     "execution_count": 23,
     "metadata": {},
     "output_type": "execute_result"
    }
   ],
   "source": [
    "# converting to a df\n",
    "df_sensors_cnt_years = var_to_df(sensors_cnt_years)\n",
    "df_sensors_cnt_years.head(5)"
   ]
  },
  {
   "cell_type": "markdown",
   "metadata": {},
   "source": [
    "Ok, I can now plot it:"
   ]
  },
  {
   "cell_type": "code",
   "execution_count": 24,
   "metadata": {},
   "outputs": [
    {
     "data": {
      "application/vnd.plotly.v1+json": {
       "config": {
        "plotlyServerURL": "https://plot.ly"
       },
       "data": [
        {
         "hovertemplate": "Year=%{x}<br>Total_Sensors=%{y}<extra></extra>",
         "legendgroup": "",
         "line": {
          "color": "teal",
          "dash": "solid",
          "shape": "linear"
         },
         "marker": {
          "symbol": "circle"
         },
         "mode": "lines+markers",
         "name": "",
         "orientation": "v",
         "showlegend": false,
         "type": "scatter",
         "x": {
          "bdata": "2QfaB9sH3AfdB94H3wfgB+EH4gfjB+QH5QfmBw==",
          "dtype": "i2"
         },
         "xaxis": "x",
         "y": {
          "bdata": "EhISEiAjKys0Nj1CUkk=",
          "dtype": "i1"
         },
         "yaxis": "y"
        }
       ],
       "layout": {
        "annotations": [
         {
          "arrowhead": 2,
          "ax": 0,
          "ay": -20,
          "font": {
           "color": "yellow",
           "size": 15
          },
          "showarrow": true,
          "text": "2021:\n81 sensors",
          "x": 2021,
          "y": 81
         }
        ],
        "height": 700,
        "legend": {
         "tracegroupgap": 0
        },
        "template": {
         "layout": {
          "font": {
           "color": "rgb(160, 160, 160)",
           "size": 25
          },
          "paper_bgcolor": "black",
          "plot_bgcolor": "black",
          "title": {
           "font": {
            "color": "rgb(160, 160, 160)",
            "size": 35
           }
          },
          "xaxis": {
           "tickangle": -45,
           "tickfont": {
            "color": "rgb(160, 160, 160)"
           }
          }
         }
        },
        "title": {
         "text": "Increasing Numbers of Sensors until 2021 - Total Active Sensors by Year"
        },
        "width": 1420,
        "xaxis": {
         "anchor": "y",
         "automargin": true,
         "domain": [
          0,
          1
         ],
         "title": {
          "standoff": 50,
          "text": "Year"
         }
        },
        "yaxis": {
         "anchor": "x",
         "automargin": true,
         "domain": [
          0,
          1
         ],
         "gridcolor": "rgb(45,45,45)",
         "showgrid": true,
         "title": {
          "standoff": 50,
          "text": "Total Sensors"
         }
        }
       }
      }
     },
     "metadata": {},
     "output_type": "display_data"
    }
   ],
   "source": [
    "year = 2021\n",
    "total_sensors = 81\n",
    "\n",
    "figure = px.line(\n",
    "    df_sensors_cnt_years,\n",
    "    x=\"Year\",\n",
    "    y=\"Total_Sensors\",\n",
    "    markers=True,\n",
    "    height=700,\n",
    "    title=\"Increasing Numbers of Sensors until 2021 - Total Active Sensors by Year\",\n",
    "    line_shape='linear'\n",
    ")\n",
    "\n",
    "figure.update_traces(line=dict(color='teal'))\n",
    "\n",
    "figure.add_annotation(\n",
    "    x=year,\n",
    "    y=total_sensors,\n",
    "    text=f\"{year}:\\n{total_sensors} sensors\",\n",
    "    showarrow=True,\n",
    "    arrowhead=2,\n",
    "    ax=0,\n",
    "    ay=-20,  # 10px above the point\n",
    "    font=dict(size=15, color=\"yellow\")\n",
    ")\n",
    "\n",
    "figure.update_layout(\n",
    "    xaxis=dict(\n",
    "        title=\"Year\",\n",
    "        title_standoff=50,\n",
    "        automargin=True  # Ensures Plotly adjusts space automatically\n",
    "    ),\n",
    "    yaxis=dict(\n",
    "        title=\"Total Sensors\",\n",
    "        title_standoff=50,\n",
    "        automargin=True  # Prevents overlap issues\n",
    "    ),\n",
    "    # Extra space for better visibility\n",
    "    yaxis_showgrid=True,\n",
    "    yaxis_gridcolor='rgb(45,45,45)'  # Almost Black\n",
    ")\n",
    "\n",
    "# Dynamically adjust the width based on the title length\n",
    "figure.update_layout(\n",
    "    width=len(figure.layout.title.text) * 20\n",
    ")\n",
    "\n",
    "figure.show()"
   ]
  },
  {
   "cell_type": "markdown",
   "metadata": {},
   "source": [
    "I used the Plotly **components** for the above graph to customize it: \n",
    "- added the graph horizontal lines (or **grid**) and made them a very dark grey\n",
    "- **pushed** the axis titles from the graph\n",
    "- and added this **annotation** on the node of the 2021 year\n",
    "\n",
    "This is following some of the **best practices** when it comes to visualizations.  \n",
    "Noticed how I phrased the title? Instead of just saying what it is, I say **what is deducted** from it first. "
   ]
  },
  {
   "cell_type": "markdown",
   "metadata": {},
   "source": [
    "### **Total Pedestrian Counts over Time**: \n",
    "\n",
    "Continuing with this simple EDA and visualizations, I want to better understand how:\n",
    "- the total number of pedestrians\n",
    "- captured by all the sensors\n",
    "\n",
    "has changed over time."
   ]
  },
  {
   "cell_type": "code",
   "execution_count": 25,
   "metadata": {},
   "outputs": [],
   "source": [
    "%%sql year_counts <<\n",
    "select year, sum(Hourly_Counts)::BIGINT as Total_counts\n",
    "from pedestrian_counts\n",
    "group by Year\n",
    "order by Year"
   ]
  },
  {
   "cell_type": "code",
   "execution_count": 26,
   "metadata": {},
   "outputs": [
    {
     "data": {
      "text/html": [
       "<div>\n",
       "<style scoped>\n",
       "    .dataframe tbody tr th:only-of-type {\n",
       "        vertical-align: middle;\n",
       "    }\n",
       "\n",
       "    .dataframe tbody tr th {\n",
       "        vertical-align: top;\n",
       "    }\n",
       "\n",
       "    .dataframe thead th {\n",
       "        text-align: right;\n",
       "    }\n",
       "</style>\n",
       "<table border=\"1\" class=\"dataframe\">\n",
       "  <thead>\n",
       "    <tr style=\"text-align: right;\">\n",
       "      <th></th>\n",
       "      <th>Year</th>\n",
       "      <th>Total_counts</th>\n",
       "    </tr>\n",
       "  </thead>\n",
       "  <tbody>\n",
       "    <tr>\n",
       "      <th>0</th>\n",
       "      <td>2009</td>\n",
       "      <td>62650110</td>\n",
       "    </tr>\n",
       "    <tr>\n",
       "      <th>1</th>\n",
       "      <td>2010</td>\n",
       "      <td>93459437</td>\n",
       "    </tr>\n",
       "    <tr>\n",
       "      <th>2</th>\n",
       "      <td>2011</td>\n",
       "      <td>90571965</td>\n",
       "    </tr>\n",
       "    <tr>\n",
       "      <th>3</th>\n",
       "      <td>2012</td>\n",
       "      <td>102215521</td>\n",
       "    </tr>\n",
       "    <tr>\n",
       "      <th>4</th>\n",
       "      <td>2013</td>\n",
       "      <td>117389820</td>\n",
       "    </tr>\n",
       "  </tbody>\n",
       "</table>\n",
       "</div>"
      ],
      "text/plain": [
       "   Year  Total_counts\n",
       "0  2009      62650110\n",
       "1  2010      93459437\n",
       "2  2011      90571965\n",
       "3  2012     102215521\n",
       "4  2013     117389820"
      ]
     },
     "execution_count": 26,
     "metadata": {},
     "output_type": "execute_result"
    }
   ],
   "source": [
    "df_year_counts = var_to_df(year_counts)\n",
    "df_year_counts.head(5)"
   ]
  },
  {
   "cell_type": "markdown",
   "metadata": {},
   "source": [
    "Here's the Plotly Express code for a line plot of this new df:"
   ]
  },
  {
   "cell_type": "code",
   "execution_count": 27,
   "metadata": {},
   "outputs": [
    {
     "data": {
      "application/vnd.plotly.v1+json": {
       "config": {
        "plotlyServerURL": "https://plot.ly"
       },
       "data": [
        {
         "hovertemplate": "Year=%{x}<br>Total_counts=%{y}<extra></extra>",
         "legendgroup": "",
         "line": {
          "color": "#1F77B4",
          "dash": "solid"
         },
         "marker": {
          "symbol": "circle"
         },
         "mode": "lines+markers",
         "name": "",
         "orientation": "v",
         "showlegend": false,
         "type": "scatter",
         "x": {
          "bdata": "2QfaB9sH3AfdB94H3wfgB+EH4gfjB+QH5QfmBw==",
          "dtype": "i2"
         },
         "xaxis": "x",
         "y": {
          "bdata": "/va7A+0TkgW9BGYFYa8XBvw5/wbiXhoKp5t2DHiRog2u2OgMRmucD5se4Q/qr0QHYmpNCAIY/wk=",
          "dtype": "i4"
         },
         "yaxis": "y"
        }
       ],
       "layout": {
        "height": 500,
        "legend": {
         "tracegroupgap": 0
        },
        "template": {
         "layout": {
          "font": {
           "color": "rgb(160, 160, 160)",
           "size": 25
          },
          "paper_bgcolor": "black",
          "plot_bgcolor": "black",
          "title": {
           "font": {
            "color": "rgb(160, 160, 160)",
            "size": 35
           }
          },
          "xaxis": {
           "tickangle": -45,
           "tickfont": {
            "color": "rgb(160, 160, 160)"
           }
          }
         }
        },
        "title": {
         "text": "Total Pedestrian Counts by Year"
        },
        "xaxis": {
         "anchor": "y",
         "domain": [
          0,
          1
         ],
         "title": {
          "text": "Year"
         }
        },
        "yaxis": {
         "anchor": "x",
         "domain": [
          0,
          1
         ],
         "title": {
          "text": "Total_counts"
         }
        }
       }
      }
     },
     "metadata": {},
     "output_type": "display_data"
    }
   ],
   "source": [
    "px.line(\n",
    "    df_year_counts,\n",
    "    x=\"Year\",\n",
    "    y=\"Total_counts\",\n",
    "    markers=True,\n",
    "    height=500,\n",
    "    title=\"Total Pedestrian Counts by Year\"\n",
    ")"
   ]
  },
  {
   "cell_type": "markdown",
   "metadata": {},
   "source": [
    "Let's fine tune this with Plotly components:"
   ]
  },
  {
   "cell_type": "code",
   "execution_count": 28,
   "metadata": {},
   "outputs": [
    {
     "data": {
      "application/vnd.plotly.v1+json": {
       "config": {
        "plotlyServerURL": "https://plot.ly"
       },
       "data": [
        {
         "hovertemplate": "Year=%{x}<br>Total_counts=%{y}<extra></extra>",
         "legendgroup": "",
         "line": {
          "color": "teal",
          "dash": "solid"
         },
         "marker": {
          "symbol": "circle"
         },
         "mode": "lines+markers",
         "name": "",
         "orientation": "v",
         "showlegend": false,
         "type": "scatter",
         "x": {
          "bdata": "2QfaB9sH3AfdB94H3wfgB+EH4gfjB+QH5QfmBw==",
          "dtype": "i2"
         },
         "xaxis": "x",
         "y": {
          "bdata": "/va7A+0TkgW9BGYFYa8XBvw5/wbiXhoKp5t2DHiRog2u2OgMRmucD5se4Q/qr0QHYmpNCAIY/wk=",
          "dtype": "i4"
         },
         "yaxis": "y"
        }
       ],
       "layout": {
        "annotations": [
         {
          "arrowhead": 2,
          "ax": 0,
          "ay": -30,
          "font": {
           "color": "yellow",
           "size": 15
          },
          "showarrow": true,
          "text": "2019:   \n266.41M",
          "x": 2019,
          "y": 266411675
         },
         {
          "arrowhead": 2,
          "ax": 0,
          "ay": 35,
          "font": {
           "color": "yellow",
           "size": 15
          },
          "showarrow": true,
          "text": "2016:   \n228.76M",
          "x": 2016,
          "y": 228757880
         },
         {
          "arrowhead": 2,
          "ax": 0,
          "ay": 45,
          "font": {
           "color": "yellow",
           "size": 15
          },
          "showarrow": true,
          "text": "2020:   \n121.94M",
          "x": 2020,
          "y": 121941994
         }
        ],
        "height": 500,
        "legend": {
         "tracegroupgap": 0
        },
        "template": {
         "layout": {
          "font": {
           "color": "rgb(160, 160, 160)",
           "size": 25
          },
          "paper_bgcolor": "black",
          "plot_bgcolor": "black",
          "title": {
           "font": {
            "color": "rgb(160, 160, 160)",
            "size": 35
           }
          },
          "xaxis": {
           "tickangle": -45,
           "tickfont": {
            "color": "rgb(160, 160, 160)"
           }
          }
         }
        },
        "title": {
         "text": "Total Pedestrian Counts by Year"
        },
        "width": 1420,
        "xaxis": {
         "anchor": "y",
         "automargin": true,
         "domain": [
          0,
          1
         ],
         "title": {
          "standoff": 50,
          "text": "Year"
         }
        },
        "yaxis": {
         "anchor": "x",
         "automargin": true,
         "domain": [
          0,
          1
         ],
         "gridcolor": "rgb(45,45,45)",
         "showgrid": true,
         "title": {
          "standoff": 50,
          "text": "Total Records"
         }
        }
       }
      }
     },
     "metadata": {},
     "output_type": "display_data"
    }
   ],
   "source": [
    "year19 = 2019\n",
    "year16 = 2016\n",
    "year20 = 2020\n",
    "\n",
    "figure2 = px.line(\n",
    "    df_year_counts,\n",
    "    x=\"Year\",\n",
    "    y=\"Total_counts\",\n",
    "    markers=True,\n",
    "    height=500,\n",
    "    title=\"Total Pedestrian Counts by Year\"\n",
    ")\n",
    "\n",
    "figure2.update_traces(line=dict(color='teal'))\n",
    "\n",
    "def format_millions(value):\n",
    "    return f\"{value / 1_000_000:.2f}M\"\n",
    "\n",
    "figure2.add_annotation(\n",
    "    x=year19,\n",
    "    y=df_year_counts[df_year_counts['Year'] == year19]['Total_counts'].values[0],\n",
    "    text=f\"{year19}:   \\n{format_millions(df_year_counts[df_year_counts['Year'] == year19]['Total_counts'].values[0])}\",\n",
    "    showarrow=True,\n",
    "    arrowhead=2,\n",
    "    ax=0,\n",
    "    ay=-30,  # 10px above the point\n",
    "    font=dict(size=15, color=\"yellow\")\n",
    ")\n",
    "\n",
    "# annotation for year 2016\n",
    "figure2.add_annotation(\n",
    "    x=year16,\n",
    "    y=df_year_counts[df_year_counts['Year'] == year16]['Total_counts'].values[0],\n",
    "    text=f\"{year16}:   \\n{format_millions(df_year_counts[df_year_counts['Year'] == year16]['Total_counts'].values[0])}\",\n",
    "    showarrow=True,\n",
    "    arrowhead=2,\n",
    "    ax=0,\n",
    "    ay=35,  # 10px above the point\n",
    "    font=dict(size=15, color=\"yellow\")\n",
    ")\n",
    "\n",
    "# annotation for year 2020\n",
    "figure2.add_annotation(\n",
    "    x=year20,\n",
    "    y=df_year_counts[df_year_counts['Year'] == year20]['Total_counts'].values[0],\n",
    "    text=f\"{year20}:   \\n{format_millions(df_year_counts[df_year_counts['Year'] == year20]['Total_counts'].values[0])}\",\n",
    "    showarrow=True,\n",
    "    arrowhead=2,\n",
    "    ax=0,\n",
    "    ay=45,  # 10px above the point\n",
    "    font=dict(size=15, color=\"yellow\")\n",
    ")\n",
    "\n",
    "figure2.update_layout(\n",
    "    xaxis=dict(\n",
    "        title=\"Year\",\n",
    "        title_standoff=50,\n",
    "        automargin=True  # Ensures Plotly adjusts space automatically\n",
    "    ),\n",
    "    yaxis=dict(\n",
    "        title=\"Total Records\",\n",
    "        title_standoff=50,\n",
    "        automargin=True  # Prevents overlap issues\n",
    "    ),\n",
    "    # Extra space for better visibility\n",
    "    yaxis_showgrid=True,\n",
    "    yaxis_gridcolor='rgb(45,45,45)'  # Almost Black\n",
    ")\n",
    "\n",
    "# Dynamically adjust the width based on the title length\n",
    "figure2.update_layout(\n",
    "    width=len(figure.layout.title.text) * 20\n",
    ")\n",
    "\n",
    "figure2.show()"
   ]
  },
  {
   "cell_type": "markdown",
   "metadata": {},
   "source": [
    "#### **Simple Analysis**:\n",
    "2020 saw a dramatic drop, which coincides with the **2019 COVID-19 pandemic** and lock down. \n",
    "I also know that sensors were added over the years, and that is impacting the 2020 total records too.  \n",
    "\n",
    "To know more **precisely** by how much that drop in 2020 was, I need to **filter out** all the sensors that **were added**.  \n",
    "How?  \n",
    "By selecting the **sensors that have records for all years**, because these sensors were there since the beginning and were not added later on. \n",
    "\n",
    "So first I need to know how many years are counted in the dataset. There are 14 distinct years. \n",
    "For my need here, this means that:\n",
    "- each sensor that that was there since the beginning (and so was not added later on) \n",
    "- has exactly 14 captured values, one for each year. \n",
    "\n",
    "I do not want any other sensor. "
   ]
  },
  {
   "cell_type": "code",
   "execution_count": 29,
   "metadata": {},
   "outputs": [],
   "source": [
    "%%sql distinct_years <<\n",
    "select count(distinct Year)\n",
    "from pedestrian_counts"
   ]
  },
  {
   "cell_type": "code",
   "execution_count": 30,
   "metadata": {},
   "outputs": [
    {
     "name": "stdout",
     "output_type": "stream",
     "text": [
      "\n",
      "+------------------------+\n",
      "| count(DISTINCT \"Year\") |\n",
      "+------------------------+\n",
      "|           14           |\n",
      "+------------------------+\n"
     ]
    }
   ],
   "source": [
    "print(f\"\\n{distinct_years}\")"
   ]
  },
  {
   "cell_type": "markdown",
   "metadata": {},
   "source": [
    "### **Specific Sensor_Name**:\n",
    "It's best to capture these 14-years sensors' values into its own table:"
   ]
  },
  {
   "cell_type": "code",
   "execution_count": 31,
   "metadata": {},
   "outputs": [
    {
     "data": {
      "text/html": [
       "<table>\n",
       "    <thead>\n",
       "        <tr>\n",
       "            <th>Count</th>\n",
       "        </tr>\n",
       "    </thead>\n",
       "    <tbody>\n",
       "    </tbody>\n",
       "</table>"
      ],
      "text/plain": [
       "+-------+\n",
       "| Count |\n",
       "+-------+\n",
       "+-------+"
      ]
     },
     "execution_count": 31,
     "metadata": {},
     "output_type": "execute_result"
    }
   ],
   "source": [
    "%%sql\n",
    "create or replace table sensors14years as       -- new table\n",
    "select Sensor_Name\n",
    "from pedestrian_counts\n",
    "group by Sensor_Name                            -- getting only unique sensor names...\n",
    "having count(distinct Year) = 14                -- ...that each has records on all 14 years \n",
    ";"
   ]
  },
  {
   "cell_type": "markdown",
   "metadata": {},
   "source": [
    "The `GROUP BY Sensor_Name`:   \n",
    "The selected data is grouped by unique values in the \"Sensor_Name\" column. This means that **all rows with the same \"Sensor_Name**\" will be grouped together in that column.\n",
    "\n",
    "`HAVING COUNT(DISTINCT Year) = 14`:  \n",
    "The `HAVING` clause is used to filter the result of the grouping, which is the unique sensor names in the Sensor_Name column. From all these unique sensors, it's **looking for ones that do have 14 distinct \"Year\" values**.  \n",
    "If I used a WHERE clause instead, it would have looked at the rows before grouping the relevant sensor names. \n",
    "\n",
    "Another query tells us there are **15 such sensors**. Their name is in the table `sensors14years`. "
   ]
  },
  {
   "cell_type": "code",
   "execution_count": 32,
   "metadata": {},
   "outputs": [
    {
     "data": {
      "text/html": [
       "<table>\n",
       "    <thead>\n",
       "        <tr>\n",
       "            <th>count(Sensor_Name)</th>\n",
       "        </tr>\n",
       "    </thead>\n",
       "    <tbody>\n",
       "        <tr>\n",
       "            <td>15</td>\n",
       "        </tr>\n",
       "    </tbody>\n",
       "</table>"
      ],
      "text/plain": [
       "+--------------------+\n",
       "| count(Sensor_Name) |\n",
       "+--------------------+\n",
       "|         15         |\n",
       "+--------------------+"
      ]
     },
     "execution_count": 32,
     "metadata": {},
     "output_type": "execute_result"
    }
   ],
   "source": [
    "%%sql \n",
    "select count(Sensor_Name)\n",
    "from sensors14years"
   ]
  },
  {
   "cell_type": "markdown",
   "metadata": {},
   "source": [
    "Now that I know the sensors I need, I can use it to filter out the total count of records and see how that 2020 year changes. "
   ]
  },
  {
   "cell_type": "code",
   "execution_count": 33,
   "metadata": {},
   "outputs": [],
   "source": [
    "%%sql year_counts_15sensors <<\n",
    "select\n",
    "    Year,\n",
    "    sum(Hourly_Counts)::BIGINT as Total_Counts      -- sum of records converted to 64-bits integer\n",
    "from pedestrian_counts\n",
    "where Sensor_name in (from sensors14years)          -- ensuring to ONLY get sensors from sensors14years\n",
    "group by Year                                       -- returning sum of records for each year\n",
    "order by Year"
   ]
  },
  {
   "cell_type": "code",
   "execution_count": 34,
   "metadata": {},
   "outputs": [
    {
     "data": {
      "text/html": [
       "<div>\n",
       "<style scoped>\n",
       "    .dataframe tbody tr th:only-of-type {\n",
       "        vertical-align: middle;\n",
       "    }\n",
       "\n",
       "    .dataframe tbody tr th {\n",
       "        vertical-align: top;\n",
       "    }\n",
       "\n",
       "    .dataframe thead th {\n",
       "        text-align: right;\n",
       "    }\n",
       "</style>\n",
       "<table border=\"1\" class=\"dataframe\">\n",
       "  <thead>\n",
       "    <tr style=\"text-align: right;\">\n",
       "      <th></th>\n",
       "      <th>Year</th>\n",
       "      <th>Total_Counts</th>\n",
       "    </tr>\n",
       "  </thead>\n",
       "  <tbody>\n",
       "    <tr>\n",
       "      <th>0</th>\n",
       "      <td>2009</td>\n",
       "      <td>50221628</td>\n",
       "    </tr>\n",
       "    <tr>\n",
       "      <th>1</th>\n",
       "      <td>2010</td>\n",
       "      <td>75078494</td>\n",
       "    </tr>\n",
       "    <tr>\n",
       "      <th>2</th>\n",
       "      <td>2011</td>\n",
       "      <td>71806437</td>\n",
       "    </tr>\n",
       "    <tr>\n",
       "      <th>3</th>\n",
       "      <td>2012</td>\n",
       "      <td>83356740</td>\n",
       "    </tr>\n",
       "    <tr>\n",
       "      <th>4</th>\n",
       "      <td>2013</td>\n",
       "      <td>81092589</td>\n",
       "    </tr>\n",
       "  </tbody>\n",
       "</table>\n",
       "</div>"
      ],
      "text/plain": [
       "   Year  Total_Counts\n",
       "0  2009      50221628\n",
       "1  2010      75078494\n",
       "2  2011      71806437\n",
       "3  2012      83356740\n",
       "4  2013      81092589"
      ]
     },
     "execution_count": 34,
     "metadata": {},
     "output_type": "execute_result"
    }
   ],
   "source": [
    "df_year_counts_15sensors = var_to_df(year_counts_15sensors)\n",
    "df_year_counts_15sensors.head(5)"
   ]
  },
  {
   "cell_type": "markdown",
   "metadata": {},
   "source": [
    "#### Updated Line Plot:\n",
    "And I am now back at the line plot, updating it with this new data based on the relevant sensors:"
   ]
  },
  {
   "cell_type": "code",
   "execution_count": 35,
   "metadata": {},
   "outputs": [
    {
     "data": {
      "application/vnd.plotly.v1+json": {
       "config": {
        "plotlyServerURL": "https://plot.ly"
       },
       "data": [
        {
         "hovertemplate": "Year=%{x}<br>Total_Counts=%{y}<extra></extra>",
         "legendgroup": "",
         "line": {
          "color": "white",
          "dash": "solid"
         },
         "marker": {
          "symbol": "circle"
         },
         "mode": "lines+markers",
         "name": "",
         "orientation": "v",
         "showlegend": false,
         "type": "scatter",
         "x": {
          "bdata": "2QfaB9sH3AfdB94H3wfgB+EH4gfjB+QH5QfmBw==",
          "dtype": "i2"
         },
         "xaxis": "x",
         "y": {
          "bdata": "PFL+Al6beQTlrUcEROz3BO1f1QQkssYEfgo3Bf13QgUh2xIFmpKfBbTfdgWaNDsCEgQ9Ap77igI=",
          "dtype": "i4"
         },
         "yaxis": "y"
        }
       ],
       "layout": {
        "annotations": [
         {
          "arrowhead": 2,
          "ax": 0,
          "ay": -30,
          "font": {
           "color": "yellow",
           "size": 15
          },
          "showarrow": true,
          "text": "2019:   \n91.68M",
          "x": 2019,
          "y": 91676596
         },
         {
          "arrowhead": 2,
          "ax": 0,
          "ay": 35,
          "font": {
           "color": "yellow",
           "size": 15
          },
          "showarrow": true,
          "text": "2016:   \n88.24M",
          "x": 2016,
          "y": 88242173
         },
         {
          "arrowhead": 2,
          "ax": 0,
          "ay": 45,
          "font": {
           "color": "yellow",
           "size": 15
          },
          "showarrow": true,
          "text": "2020:   \n37.43M",
          "x": 2020,
          "y": 37434522
         }
        ],
        "height": 700,
        "legend": {
         "tracegroupgap": 0
        },
        "template": {
         "layout": {
          "font": {
           "color": "rgb(160, 160, 160)",
           "size": 25
          },
          "paper_bgcolor": "black",
          "plot_bgcolor": "black",
          "title": {
           "font": {
            "color": "rgb(160, 160, 160)",
            "size": 35
           }
          },
          "xaxis": {
           "tickangle": -45,
           "tickfont": {
            "color": "rgb(160, 160, 160)"
           }
          }
         }
        },
        "title": {
         "text": "Increasing Pedestrian Counts until Covid-19 - Total Pedestrian Counts by Year"
        },
        "width": 1420,
        "xaxis": {
         "anchor": "y",
         "automargin": true,
         "domain": [
          0,
          1
         ],
         "title": {
          "standoff": 50,
          "text": "Year"
         }
        },
        "yaxis": {
         "anchor": "x",
         "automargin": true,
         "domain": [
          0,
          1
         ],
         "gridcolor": "rgb(45,45,45)",
         "showgrid": true,
         "title": {
          "standoff": 50,
          "text": "Total Records"
         }
        }
       }
      }
     },
     "metadata": {},
     "output_type": "display_data"
    }
   ],
   "source": [
    "year19 = 2019\n",
    "year16 = 2016\n",
    "year20 = 2020\n",
    "\n",
    "figure2 = px.line(\n",
    "    df_year_counts_15sensors,\n",
    "    x=\"Year\",\n",
    "    y=\"Total_Counts\",\n",
    "    markers=True,\n",
    "    height=500,\n",
    "    title=\"Increasing Pedestrian Counts until Covid-19 - Total Pedestrian Counts by Year\"\n",
    ")\n",
    "\n",
    "figure2.update_traces(line=dict(color='white'))\n",
    "\n",
    "def format_millions(value):\n",
    "    return f\"{value / 1_000_000:.2f}M\"\n",
    "\n",
    "figure2.add_annotation(\n",
    "    x=year19,\n",
    "    y=df_year_counts_15sensors[df_year_counts['Year'] == year19]['Total_Counts'].values[0],\n",
    "    text=f\"{year19}:   \\n{format_millions(df_year_counts_15sensors[df_year_counts_15sensors['Year'] == year19]['Total_Counts'].values[0])}\",\n",
    "    showarrow=True,\n",
    "    arrowhead=2,\n",
    "    ax=0,\n",
    "    ay=-30,\n",
    "    font=dict(size=15, color=\"yellow\")\n",
    ")\n",
    "\n",
    "# annotation for year 2016\n",
    "figure2.add_annotation(\n",
    "    x=year16,\n",
    "    y=df_year_counts_15sensors[df_year_counts_15sensors['Year'] == year16]['Total_Counts'].values[0],\n",
    "    text=f\"{year16}:   \\n{format_millions(df_year_counts_15sensors[df_year_counts_15sensors['Year'] == year16]['Total_Counts'].values[0])}\",\n",
    "    showarrow=True,\n",
    "    arrowhead=2,\n",
    "    ax=0,\n",
    "    ay=35,\n",
    "    font=dict(size=15, color=\"yellow\")\n",
    ")\n",
    "\n",
    "# annotation for year 2020\n",
    "figure2.add_annotation(\n",
    "    x=year20,\n",
    "    y=df_year_counts_15sensors[df_year_counts_15sensors['Year'] == year20]['Total_Counts'].values[0],\n",
    "    text=f\"{year20}:   \\n{format_millions(df_year_counts_15sensors[df_year_counts_15sensors['Year'] == year20]['Total_Counts'].values[0])}\",\n",
    "    showarrow=True,\n",
    "    arrowhead=2,\n",
    "    ax=0,\n",
    "    ay=45,\n",
    "    font=dict(size=15, color=\"yellow\")\n",
    ")\n",
    "\n",
    "figure2.update_layout(\n",
    "    xaxis=dict(\n",
    "        title=\"Year\",\n",
    "        title_standoff=50,\n",
    "        automargin=True  # Ensures Plotly adjusts space automatically\n",
    "    ),\n",
    "    yaxis=dict(\n",
    "        title=\"Total Records\",\n",
    "        title_standoff=50,\n",
    "        automargin=True  # Prevents overlap issues\n",
    "    ),\n",
    "    # Extra space for better visibility\n",
    "    yaxis_showgrid=True,\n",
    "    yaxis_gridcolor='rgb(45,45,45)'  # Almost Black\n",
    ")\n",
    "\n",
    "# Dynamically adjust the width based on the title length\n",
    "figure2.update_layout(\n",
    "    width=len(figure.layout.title.text) * 20,\n",
    "    height=700\n",
    ")\n",
    "\n",
    "figure2.show()"
   ]
  },
  {
   "cell_type": "markdown",
   "metadata": {},
   "source": [
    "As expected. Because there are less sensors and most of all, NO sensors added over the years, the increase each year is diminished, and the COVID-19 drop is even more dramatic. "
   ]
  },
  {
   "cell_type": "markdown",
   "metadata": {},
   "source": [
    "### **Zoom in on 2019 to 202**1:\n",
    "I now want to zoom in on these years 2019 to 2021 so that I can see numbers per month. \n",
    "\n",
    "I will extract the data accordingly from the `pedestrian_count` table. Here's what I need:\n",
    "- years and months\n",
    "- total counts for each\n",
    "- from the 15 sensors (`df_year_counts_15sensors`)"
   ]
  },
  {
   "cell_type": "code",
   "execution_count": 36,
   "metadata": {},
   "outputs": [],
   "source": [
    "%%sql yr_mths_counts <<\n",
    "select\n",
    "    Year,\n",
    "    Month,                                          -- selecting the actual months...\n",
    "    month(Date_Time) as Month_Num,                  -- ...adding the corresponding month number... \n",
    "    sum(Hourly_Counts)::BIGINT as Total_Counts\n",
    "from pedestrian_counts\n",
    "where Year in (2019, 2020, 2021)                    -- ...from these 3 years only...\n",
    "    and Sensor_Name in (from sensors14years)        -- ...and these sensors only...\n",
    "group by \n",
    "    Year, Month, Month_Num                          -- and returning Total_Counts for Year, Month\n",
    "order by\n",
    "    Year, Month_Num"
   ]
  },
  {
   "cell_type": "markdown",
   "metadata": {},
   "source": [
    "Before I convert this to a df, note that the line 5:\n",
    "- `month(Date_Time) as Month_Num,`\n",
    "is adding the corresponding month number into a new column `Month_Num` by using a DuckDB function, `month()`. \n",
    "\n",
    "Also, I had to add it to the group by clause, however it is not messing with the grouping because Month_Num values are coming from Month. But it wasn't, then yes, it would have been messing with the grouping. "
   ]
  },
  {
   "cell_type": "code",
   "execution_count": 37,
   "metadata": {},
   "outputs": [
    {
     "data": {
      "text/html": [
       "<div>\n",
       "<style scoped>\n",
       "    .dataframe tbody tr th:only-of-type {\n",
       "        vertical-align: middle;\n",
       "    }\n",
       "\n",
       "    .dataframe tbody tr th {\n",
       "        vertical-align: top;\n",
       "    }\n",
       "\n",
       "    .dataframe thead th {\n",
       "        text-align: right;\n",
       "    }\n",
       "</style>\n",
       "<table border=\"1\" class=\"dataframe\">\n",
       "  <thead>\n",
       "    <tr style=\"text-align: right;\">\n",
       "      <th></th>\n",
       "      <th>Year</th>\n",
       "      <th>Month</th>\n",
       "      <th>Month_Num</th>\n",
       "      <th>Total_Counts</th>\n",
       "    </tr>\n",
       "  </thead>\n",
       "  <tbody>\n",
       "    <tr>\n",
       "      <th>0</th>\n",
       "      <td>2019</td>\n",
       "      <td>January</td>\n",
       "      <td>1</td>\n",
       "      <td>7000243</td>\n",
       "    </tr>\n",
       "    <tr>\n",
       "      <th>1</th>\n",
       "      <td>2019</td>\n",
       "      <td>February</td>\n",
       "      <td>2</td>\n",
       "      <td>6079776</td>\n",
       "    </tr>\n",
       "    <tr>\n",
       "      <th>2</th>\n",
       "      <td>2019</td>\n",
       "      <td>March</td>\n",
       "      <td>3</td>\n",
       "      <td>7740551</td>\n",
       "    </tr>\n",
       "    <tr>\n",
       "      <th>3</th>\n",
       "      <td>2019</td>\n",
       "      <td>April</td>\n",
       "      <td>4</td>\n",
       "      <td>8281383</td>\n",
       "    </tr>\n",
       "    <tr>\n",
       "      <th>4</th>\n",
       "      <td>2019</td>\n",
       "      <td>May</td>\n",
       "      <td>5</td>\n",
       "      <td>7908534</td>\n",
       "    </tr>\n",
       "    <tr>\n",
       "      <th>5</th>\n",
       "      <td>2019</td>\n",
       "      <td>June</td>\n",
       "      <td>6</td>\n",
       "      <td>7323166</td>\n",
       "    </tr>\n",
       "    <tr>\n",
       "      <th>6</th>\n",
       "      <td>2019</td>\n",
       "      <td>July</td>\n",
       "      <td>7</td>\n",
       "      <td>7915558</td>\n",
       "    </tr>\n",
       "    <tr>\n",
       "      <th>7</th>\n",
       "      <td>2019</td>\n",
       "      <td>August</td>\n",
       "      <td>8</td>\n",
       "      <td>8013224</td>\n",
       "    </tr>\n",
       "    <tr>\n",
       "      <th>8</th>\n",
       "      <td>2019</td>\n",
       "      <td>September</td>\n",
       "      <td>9</td>\n",
       "      <td>7436127</td>\n",
       "    </tr>\n",
       "    <tr>\n",
       "      <th>9</th>\n",
       "      <td>2019</td>\n",
       "      <td>October</td>\n",
       "      <td>10</td>\n",
       "      <td>7665717</td>\n",
       "    </tr>\n",
       "    <tr>\n",
       "      <th>10</th>\n",
       "      <td>2019</td>\n",
       "      <td>November</td>\n",
       "      <td>11</td>\n",
       "      <td>7764366</td>\n",
       "    </tr>\n",
       "    <tr>\n",
       "      <th>11</th>\n",
       "      <td>2019</td>\n",
       "      <td>December</td>\n",
       "      <td>12</td>\n",
       "      <td>8547951</td>\n",
       "    </tr>\n",
       "    <tr>\n",
       "      <th>12</th>\n",
       "      <td>2020</td>\n",
       "      <td>January</td>\n",
       "      <td>1</td>\n",
       "      <td>7568731</td>\n",
       "    </tr>\n",
       "    <tr>\n",
       "      <th>13</th>\n",
       "      <td>2020</td>\n",
       "      <td>February</td>\n",
       "      <td>2</td>\n",
       "      <td>7012371</td>\n",
       "    </tr>\n",
       "    <tr>\n",
       "      <th>14</th>\n",
       "      <td>2020</td>\n",
       "      <td>March</td>\n",
       "      <td>3</td>\n",
       "      <td>5000186</td>\n",
       "    </tr>\n",
       "  </tbody>\n",
       "</table>\n",
       "</div>"
      ],
      "text/plain": [
       "    Year      Month  Month_Num  Total_Counts\n",
       "0   2019    January          1       7000243\n",
       "1   2019   February          2       6079776\n",
       "2   2019      March          3       7740551\n",
       "3   2019      April          4       8281383\n",
       "4   2019        May          5       7908534\n",
       "5   2019       June          6       7323166\n",
       "6   2019       July          7       7915558\n",
       "7   2019     August          8       8013224\n",
       "8   2019  September          9       7436127\n",
       "9   2019    October         10       7665717\n",
       "10  2019   November         11       7764366\n",
       "11  2019   December         12       8547951\n",
       "12  2020    January          1       7568731\n",
       "13  2020   February          2       7012371\n",
       "14  2020      March          3       5000186"
      ]
     },
     "execution_count": 37,
     "metadata": {},
     "output_type": "execute_result"
    }
   ],
   "source": [
    "df_yrs_mths_counts = var_to_df(yr_mths_counts)\n",
    "df_yrs_mths_counts.head(15)"
   ]
  },
  {
   "cell_type": "markdown",
   "metadata": {},
   "source": [
    "#### **Multiple Lines with Plotly Traces**: \n",
    "This df is ready for plotting. I want to see each year plotted as **its own line**.  \n",
    "In Plotly Express I can do that by referencing them as **traces** and other parameters of the plot. \n",
    "\n",
    "Note that I also chose to make the line in a both a different **color** and a different **marker**, to make each line demark itself better. "
   ]
  },
  {
   "cell_type": "code",
   "execution_count": 55,
   "metadata": {},
   "outputs": [
    {
     "data": {
      "application/vnd.plotly.v1+json": {
       "config": {
        "plotlyServerURL": "https://plot.ly"
       },
       "data": [
        {
         "hovertemplate": "Month=%{x}<br>Total_Counts=%{y}<extra></extra>",
         "legendgroup": "",
         "line": {
          "color": "#1F77B4",
          "dash": "solid"
         },
         "marker": {
          "size": 12,
          "symbol": "square"
         },
         "mode": "lines+markers",
         "name": "",
         "orientation": "v",
         "showlegend": false,
         "type": "scatter",
         "x": [
          "January",
          "February",
          "March",
          "April",
          "May",
          "June",
          "July",
          "August",
          "September",
          "October",
          "November",
          "December"
         ],
         "xaxis": "x",
         "y": {
          "bdata": "s9BqACDFXACHHHYAJ11+ALaseAAevm8AJsh4AKhFegBfd3EANfh0AI55dgBvboIA",
          "dtype": "i4"
         },
         "yaxis": "y"
        },
        {
         "hovertemplate": "Month=%{x}<br>Total_Counts=%{y}<extra></extra>",
         "legendgroup": "",
         "line": {
          "color": "#FF7F0E",
          "dash": "solid"
         },
         "marker": {
          "size": 12,
          "symbol": "diamond"
         },
         "mode": "lines+markers",
         "name": "",
         "orientation": "v",
         "showlegend": false,
         "type": "scatter",
         "x": [
          "January",
          "February",
          "March",
          "April",
          "May",
          "June",
          "July",
          "August",
          "September",
          "October",
          "November",
          "December"
         ],
         "xaxis": "x2",
         "y": {
          "bdata": "W31zABMAawD6S0wACLMQALVfGwAkHigAc4sXAF4gDQBihQ8AvXsWADgSLgApe0MA",
          "dtype": "i4"
         },
         "yaxis": "y2"
        },
        {
         "hovertemplate": "Month=%{x}<br>Total_Counts=%{y}<extra></extra>",
         "legendgroup": "",
         "line": {
          "color": "#2CA02C",
          "dash": "solid"
         },
         "marker": {
          "size": 12,
          "symbol": "circle"
         },
         "mode": "lines+markers",
         "name": "",
         "orientation": "v",
         "showlegend": false,
         "type": "scatter",
         "x": [
          "January",
          "February",
          "March",
          "April",
          "May",
          "June",
          "July",
          "August",
          "September",
          "October",
          "November",
          "December"
         ],
         "xaxis": "x3",
         "y": {
          "bdata": "RI4zACnIKgAJKTwAqv1EALQIOgBOTSUA9vEsAOEGFgBMFRQAfJIbAHJ/PADfEE8A",
          "dtype": "i4"
         },
         "yaxis": "y3"
        }
       ],
       "layout": {
        "annotations": [
         {
          "font": {
           "size": 16
          },
          "showarrow": false,
          "text": "2019",
          "x": 0.16333333333333333,
          "xanchor": "center",
          "xref": "paper",
          "y": 1,
          "yanchor": "bottom",
          "yref": "paper"
         },
         {
          "font": {
           "size": 16
          },
          "showarrow": false,
          "text": "2020",
          "x": 0.5,
          "xanchor": "center",
          "xref": "paper",
          "y": 1,
          "yanchor": "bottom",
          "yref": "paper"
         },
         {
          "font": {
           "size": 16
          },
          "showarrow": false,
          "text": "2021",
          "x": 0.8366666666666667,
          "xanchor": "center",
          "xref": "paper",
          "y": 1,
          "yanchor": "bottom",
          "yref": "paper"
         }
        ],
        "height": 500,
        "showlegend": false,
        "template": {
         "layout": {
          "font": {
           "color": "rgb(160, 160, 160)",
           "size": 25
          },
          "paper_bgcolor": "black",
          "plot_bgcolor": "black",
          "title": {
           "font": {
            "color": "rgb(160, 160, 160)",
            "size": 35
           }
          },
          "xaxis": {
           "tickangle": -45,
           "tickfont": {
            "color": "rgb(160, 160, 160)"
           }
          }
         }
        },
        "title": {
         "font": {
          "color": "white"
         },
         "text": "Post COVID-19: 2019, 2020, 2021 monthly Traffic - 15 original sensors"
        },
        "xaxis": {
         "anchor": "y",
         "automargin": true,
         "domain": [
          0,
          0.32666666666666666
         ],
         "tickfont": {
          "color": "rgb(90,90,90)"
         },
         "title": {
          "standoff": 50,
          "text": "Months"
         }
        },
        "xaxis2": {
         "anchor": "y2",
         "automargin": true,
         "domain": [
          0.33666666666666667,
          0.6633333333333333
         ],
         "tickfont": {
          "color": "rgb(90,90,90)"
         },
         "title": {
          "standoff": 50,
          "text": "Months"
         }
        },
        "xaxis3": {
         "anchor": "y3",
         "automargin": true,
         "domain": [
          0.6733333333333333,
          1
         ],
         "tickfont": {
          "color": "rgb(90,90,90)"
         },
         "title": {
          "standoff": 50,
          "text": "Months"
         }
        },
        "yaxis": {
         "anchor": "x",
         "automargin": true,
         "domain": [
          0,
          1
         ],
         "gridcolor": "rgb(45,45,45)",
         "range": [
          0,
          10000000
         ],
         "title": {
          "standoff": 50,
          "text": "Total Records"
         }
        },
        "yaxis2": {
         "anchor": "x2",
         "automargin": true,
         "domain": [
          0,
          1
         ],
         "gridcolor": "rgb(45,45,45)",
         "matches": "y",
         "range": [
          0,
          10000000
         ],
         "showticklabels": false,
         "title": {
          "standoff": 50
         }
        },
        "yaxis3": {
         "anchor": "x3",
         "automargin": true,
         "domain": [
          0,
          1
         ],
         "gridcolor": "rgb(45,45,45)",
         "matches": "y",
         "range": [
          0,
          10000000
         ],
         "showticklabels": false,
         "title": {
          "standoff": 50
         }
        }
       }
      }
     },
     "metadata": {},
     "output_type": "display_data"
    }
   ],
   "source": [
    "from plotly.subplots import make_subplots\n",
    "\n",
    "# Create subplots: 1 row, 3 columns with reduced spacing\n",
    "fig = make_subplots(rows=1, cols=3, shared_yaxes=True, subplot_titles=(\"2019\", \"2020\", \"2021\"), horizontal_spacing=0.01)\n",
    "\n",
    "# Add traces for each year\n",
    "years = [2019, 2020, 2021]\n",
    "symbols = [\"square\", \"diamond\", \"circle\"]\n",
    "colors = [\"#1F77B4\", \"#FF7F0E\", \"#2CA02C\"]\n",
    "\n",
    "for i, year in enumerate(years):\n",
    "    df_year = df_yrs_mths_counts[df_yrs_mths_counts[\"Year\"] == year]\n",
    "    fig.add_trace(\n",
    "        px.line(\n",
    "            df_year,\n",
    "            x=\"Month\",\n",
    "            y=\"Total_Counts\",\n",
    "            markers=True,\n",
    "            symbol_sequence=[symbols[i]],\n",
    "            color_discrete_sequence=[colors[i]]\n",
    "        ).data[0],\n",
    "        row=1, col=i+1\n",
    "    )\n",
    "\n",
    "# Update layout\n",
    "fig.update_traces(marker=dict(size=12))  # Increase marker size\n",
    "\n",
    "fig.update_layout(\n",
    "    height=500,\n",
    "    title=\"Post COVID-19: 2019, 2020, 2021 monthly Traffic - 15 original sensors\",\n",
    "    title_font_color=\"white\",\n",
    "    showlegend=False\n",
    ")\n",
    "\n",
    "fig.update_xaxes(title_text=\"Months\", title_standoff=50, automargin=True, tickfont=dict(color='rgb(90,90,90)'))\n",
    "fig.update_yaxes(title_text=\"Total Records\", title_standoff=50, automargin=True, gridcolor='rgb(45,45,45)', range=[0, 10_000_000])\n",
    "\n",
    "# Remove y-axis title for the 2nd and 3rd subplots\n",
    "fig.update_yaxes(title_text=None, row=1, col=2)\n",
    "fig.update_yaxes(title_text=None, row=1, col=3)\n",
    "\n",
    "fig.show()\n"
   ]
  },
  {
   "cell_type": "code",
   "execution_count": null,
   "metadata": {},
   "outputs": [],
   "source": []
  }
 ],
 "metadata": {
  "kernelspec": {
   "display_name": "preprocessing",
   "language": "python",
   "name": "python3"
  },
  "language_info": {
   "codemirror_mode": {
    "name": "ipython",
    "version": 3
   },
   "file_extension": ".py",
   "mimetype": "text/x-python",
   "name": "python",
   "nbconvert_exporter": "python",
   "pygments_lexer": "ipython3",
   "version": "3.12.8"
  }
 },
 "nbformat": 4,
 "nbformat_minor": 2
}
