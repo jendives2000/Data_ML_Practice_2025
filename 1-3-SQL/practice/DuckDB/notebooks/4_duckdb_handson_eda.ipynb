{
 "cells": [
  {
   "cell_type": "markdown",
   "metadata": {},
   "source": [
    "# **4: Hands-on Exploratory Data Analysis with DuckDB :duck:**\n",
    "\n",
    "---\n",
    "\n",
    "By Jean-Yves Tran | jy.tran@[datascience-jy.com](https://datascience-jy.com) | [LinkedIn](https://www.linkedin.com/in/jytran-datascience/)  \n",
    "IBM Certified Data Analyst \n",
    "\n",
    "---\n",
    "\n",
    "Source: \n",
    "- [Getting Started with DuckDB](https://www.packtpub.com/en-ar/product/getting-started-with-duckdb-9781803232539) by Simon Aubury & Ned Letcher\n",
    "- [DuckDB documentation](https://duckdb.org/docs/)\n",
    "---"
   ]
  },
  {
   "cell_type": "markdown",
   "metadata": {},
   "source": [
    "The interactive links in this notebook are not working due to GitHub limitations. View this notebook with the interactive links working [here](https://nbviewer.org/github/jendives2000/Data_ML_Practice_2025/blob/main/1-3-SQL/practice/DuckDB/notebooks/4_duckdb_handson_eda.ipynb).\n",
    "\n",
    "---"
   ]
  },
  {
   "cell_type": "markdown",
   "metadata": {},
   "source": [
    "This is part 4 of this series of notebooks on DuckDB.  \n",
    "Find the 3 previous notebooks: \n",
    "- intro to DuckDB, [notebook 1](https://github.com/jendives2000/Data_ML_Practice_2025/blob/82571ad44176666f9cf0735c5141c6a96d5eace9/1-3-SQL/practice/DuckDB/notebooks/1_duckdb_intro.ipynb).\n",
    "- how DuckDB works, [notebook 2](https://github.com/jendives2000/Data_ML_Practice_2025/blob/ef8533ad82586234cfdc54a494c0c5be590816cc/1-3-SQL/practice/DuckDB/notebooks/2_duckdb_python_API.ipynb)\n",
    "- DuckDB best practices, [notebook 3](https://github.com/jendives2000/Data_ML_Practice_2025/blob/ef8533ad82586234cfdc54a494c0c5be590816cc/1-3-SQL/practice/DuckDB/notebooks/3_duckdb_bestpractices.ipynb)\n",
    "\n",
    "For this notebook, I will:\n",
    "- first introduce the dataset I will work on\n",
    "- clean it up\n",
    "- and explore that data (EDA)\n",
    "  - including with visualizations (Plotly)\n",
    "\n",
    "\n",
    "<u>**Relational API & JupySQL:**</u>  \n",
    "\n",
    "I use two ways to leverage DuckDB:\n",
    "- its Relational API, efficient and pythonic \n",
    "- and JupySQL, which enables direct SQL queries in a Jupyter notebook cell (with just '%%sql')\n",
    "  \n",
    "I will not reintroduce the Relational API, for that check my notebook 1.  \n",
    "JupySQL needs to be installed (`pip install jupysql`) and imported. I will also show how to enable it. \n",
    "\n",
    "**Large File**:\n",
    "Be aware that the dataset I will explore weighs 420MB. While this is by no means a heavy dataset, you still need the memory space for it. More about that in the dataset paragraph.\n",
    "\n",
    "**OUTLINE:**  \n",
    "\n",
    "**DATABASE & Git LFS**:  \n",
    "Like I said this dataset weighs 420MB. I will give the link to download it if you prefer that way (you could just clone the DuckDB folder).  \n",
    "Note that because of that size, Git LFS was needed to make it available in this repo. So you may have to download the dataset via Git itself, I will not show how. \n",
    "\n",
    "**The main takeaway is**:\n",
    "- to **better comprehend** the **differences** between regular SQL queries and DuckDB enhanced queries, which is often a lot less verbosity and more readability. \n",
    "\n",
    "---\n"
   ]
  },
  {
   "cell_type": "markdown",
   "metadata": {},
   "source": [
    "## **Imports**:"
   ]
  },
  {
   "cell_type": "code",
   "execution_count": 1,
   "metadata": {},
   "outputs": [],
   "source": [
    "#! pip install pandas matplotlib\n",
    "import duckdb\n",
    "import pandas as pd"
   ]
  },
  {
   "cell_type": "markdown",
   "metadata": {},
   "source": [
    "---"
   ]
  },
  {
   "cell_type": "markdown",
   "metadata": {},
   "source": [
    "## **Dataset: Melbourne Pedestrian Count**:\n",
    "\n",
    "I will be using a dataset made available by the city of Melbourne, Australia. contains **hourly pedestrian counts** from pedestrian sensors located in and around the Melbourne Central business district. We’ll be working with a historical timeframe of this dataset ranging from **2009 to 2022**.\n",
    "\n",
    "I [imported](https://data.melbourne.vic.gov.au/api/datasets/1.0/pedestrian-counting-system-monthly-counts-per-hour/attachments/pedestrian_counting_system_monthly_counts_per_hour_may_2009_to_14_dec_2022_csv_zip/) it in the data/data_in folder. \n",
    "Once unzipped, this is:\n",
    "- a **420MB** dataset \n",
    "- with over **2,1 million entries**\n"
   ]
  },
  {
   "cell_type": "markdown",
   "metadata": {},
   "source": [
    "## **Relational API**: \n",
    "\n",
    "I will use the Relational API because it offers more for what I will be doing: data exploratory analysis. \n",
    "\n",
    "Let's get our dataset into a Relational Object (RO from now on):"
   ]
  },
  {
   "cell_type": "code",
   "execution_count": 2,
   "metadata": {},
   "outputs": [
    {
     "name": "stdout",
     "output_type": "stream",
     "text": [
      "┌─────────┬───────────────────────────────┬───────┬──────────┬───────┬──────────┬───────┬───────────┬───────────────────────────────┬───────────────┐\n",
      "│   ID    │           Date_Time           │ Year  │  Month   │ Mdate │   Day    │ Time  │ Sensor_ID │          Sensor_Name          │ Hourly_Counts │\n",
      "│  int64  │            varchar            │ int64 │ varchar  │ int64 │ varchar  │ int64 │   int64   │            varchar            │     int64     │\n",
      "├─────────┼───────────────────────────────┼───────┼──────────┼───────┼──────────┼───────┼───────────┼───────────────────────────────┼───────────────┤\n",
      "│ 2887628 │ November 01, 2019 05:00:00 PM │  2019 │ November │     1 │ Friday   │    17 │        34 │ Flinders St-Spark La          │           300 │\n",
      "│ 2887629 │ November 01, 2019 05:00:00 PM │  2019 │ November │     1 │ Friday   │    17 │        39 │ Alfred Place                  │           604 │\n",
      "│ 2887630 │ November 01, 2019 05:00:00 PM │  2019 │ November │     1 │ Friday   │    17 │        37 │ Lygon St (East)               │           216 │\n",
      "│ 2887631 │ November 01, 2019 05:00:00 PM │  2019 │ November │     1 │ Friday   │    17 │        40 │ Lonsdale St-Spring St (West)  │           627 │\n",
      "│ 2887632 │ November 01, 2019 05:00:00 PM │  2019 │ November │     1 │ Friday   │    17 │        36 │ Queen St (West)               │           774 │\n",
      "│ 2887633 │ November 01, 2019 05:00:00 PM │  2019 │ November │     1 │ Friday   │    17 │        29 │ St Kilda Rd-Alexandra Gardens │           644 │\n",
      "│ 2887634 │ November 01, 2019 05:00:00 PM │  2019 │ November │     1 │ Friday   │    17 │        42 │ Grattan St-Swanston St (West) │           453 │\n",
      "│ 2887635 │ November 01, 2019 05:00:00 PM │  2019 │ November │     1 │ Friday   │    17 │        43 │ Monash Rd-Swanston St (West)  │           387 │\n",
      "│ 2887636 │ November 01, 2019 05:00:00 PM │  2019 │ November │     1 │ Friday   │    17 │        44 │ Tin Alley-Swanston St (West)  │            27 │\n",
      "│ 2887637 │ November 01, 2019 05:00:00 PM │  2019 │ November │     1 │ Friday   │    17 │        35 │ Southbank                     │          2691 │\n",
      "│    ·    │               ·               │    ·  │    ·     │     · │   ·      │     · │         · │     ·                         │            ·  │\n",
      "│    ·    │               ·               │    ·  │    ·     │     · │   ·      │     · │         · │     ·                         │            ·  │\n",
      "│    ·    │               ·               │    ·  │    ·     │     · │   ·      │     · │         · │     ·                         │            ·  │\n",
      "│ 2897597 │ November 09, 2019 10:00:00 AM │  2019 │ November │     9 │ Saturday │    10 │        27 │ QV Market-Peel St             │           371 │\n",
      "│ 2897598 │ November 09, 2019 10:00:00 AM │  2019 │ November │     9 │ Saturday │    10 │        28 │ The Arts Centre               │          1188 │\n",
      "│ 2897599 │ November 09, 2019 10:00:00 AM │  2019 │ November │     9 │ Saturday │    10 │        31 │ Lygon St (West)               │           229 │\n",
      "│ 2897600 │ November 09, 2019 10:00:00 AM │  2019 │ November │     9 │ Saturday │    10 │        30 │ Lonsdale St (South)           │           391 │\n",
      "│ 2897601 │ November 09, 2019 10:00:00 AM │  2019 │ November │     9 │ Saturday │    10 │        34 │ Flinders St-Spark La          │           111 │\n",
      "│ 2897602 │ November 09, 2019 10:00:00 AM │  2019 │ November │     9 │ Saturday │    10 │        37 │ Lygon St (East)               │           133 │\n",
      "│ 2897603 │ November 09, 2019 10:00:00 AM │  2019 │ November │     9 │ Saturday │    10 │        40 │ Lonsdale St-Spring St (West)  │           154 │\n",
      "│ 2897604 │ November 09, 2019 10:00:00 AM │  2019 │ November │     9 │ Saturday │    10 │        36 │ Queen St (West)               │           249 │\n",
      "│ 2897605 │ November 09, 2019 10:00:00 AM │  2019 │ November │     9 │ Saturday │    10 │        29 │ St Kilda Rd-Alexandra Gardens │           448 │\n",
      "│ 2897606 │ November 09, 2019 10:00:00 AM │  2019 │ November │     9 │ Saturday │    10 │        42 │ Grattan St-Swanston St (West) │           288 │\n",
      "├─────────┴───────────────────────────────┴───────┴──────────┴───────┴──────────┴───────┴───────────┴───────────────────────────────┴───────────────┤\n",
      "│ ? rows (>9999 rows, 20 shown)                                                                                                          10 columns │\n",
      "└───────────────────────────────────────────────────────────────────────────────────────────────────────────────────────────────────────────────────┘\n",
      "\n"
     ]
    }
   ],
   "source": [
    "records = duckdb.read_csv(\"../data/data_in/pedestrian_records_2009-2022.csv\")\n",
    "\n",
    "# 200 is the max number of characters possible inside an entry:\n",
    "records.show(max_width = 200)"
   ]
  },
  {
   "cell_type": "markdown",
   "metadata": {},
   "source": [
    "## **Looking at the Data**:\n",
    "\n",
    "Because this is an RO, DuckDB loaded 10,000 rows and this what it **lazily returned** us here.  \n",
    "10,000 rows with 10 columns each makes **100,000 entries** that were lazily output (out of the total 2,1 millions entries). \n",
    "\n",
    "Lots of info in this dataset: \n",
    "- **count of pedestrians** detected by \n",
    "- a specific **sensor** \n",
    "- during **each hour**. \n",
    "- Additionally, it provides other details related to the hourly readings, including the **sensor name** \n",
    "  - and the **timestamp**, along with date and time components derived from the timestamp.\n",
    "\n",
    "### **Data types**:\n",
    "Notice in the header of the output that **datetime** is of the data type **VARCHAR**, meaning text. It should be a timestamp (docs on this [here](http://duckdb.org/docs/sql/functions/dateformat)). Let's fix that:"
   ]
  },
  {
   "cell_type": "code",
   "execution_count": 3,
   "metadata": {},
   "outputs": [],
   "source": [
    "records = duckdb.read_csv(\n",
    "    \"../data/data_in/pedestrian_records_2009-2022.csv\",\n",
    "    dtype={\"Date_Time\": \"TIMESTAMP\"},\n",
    "    timestamp_format=\"%B %d, %Y %H:%M:%S %p\",\n",
    ")"
   ]
  },
  {
   "cell_type": "markdown",
   "metadata": {},
   "source": [
    "Let's confirm this change:"
   ]
  },
  {
   "cell_type": "code",
   "execution_count": 4,
   "metadata": {},
   "outputs": [
    {
     "name": "stdout",
     "output_type": "stream",
     "text": [
      "┌─────────┬─────────────────────┬───────┬──────────┬───────┬─────────┬───────┬───────────┬──────────────────────────────┬───────────────┐\n",
      "│   ID    │      Date_Time      │ Year  │  Month   │ Mdate │   Day   │ Time  │ Sensor_ID │         Sensor_Name          │ Hourly_Counts │\n",
      "│  int64  │      timestamp      │ int64 │ varchar  │ int64 │ varchar │ int64 │   int64   │           varchar            │     int64     │\n",
      "├─────────┼─────────────────────┼───────┼──────────┼───────┼─────────┼───────┼───────────┼──────────────────────────────┼───────────────┤\n",
      "│ 2887628 │ 2019-11-01 17:00:00 │  2019 │ November │     1 │ Friday  │    17 │        34 │ Flinders St-Spark La         │           300 │\n",
      "│ 2887629 │ 2019-11-01 17:00:00 │  2019 │ November │     1 │ Friday  │    17 │        39 │ Alfred Place                 │           604 │\n",
      "│ 2887630 │ 2019-11-01 17:00:00 │  2019 │ November │     1 │ Friday  │    17 │        37 │ Lygon St (East)              │           216 │\n",
      "│ 2887631 │ 2019-11-01 17:00:00 │  2019 │ November │     1 │ Friday  │    17 │        40 │ Lonsdale St-Spring St (West) │           627 │\n",
      "│ 2887632 │ 2019-11-01 17:00:00 │  2019 │ November │     1 │ Friday  │    17 │        36 │ Queen St (West)              │           774 │\n",
      "└─────────┴─────────────────────┴───────┴──────────┴───────┴─────────┴───────┴───────────┴──────────────────────────────┴───────────────┘\n",
      "\n"
     ]
    }
   ],
   "source": [
    "records.limit(5).show(max_width=200)"
   ]
  },
  {
   "cell_type": "markdown",
   "metadata": {},
   "source": [
    "### **Enums for low cardinality String Columns**:\n",
    "\n",
    "[ENUM types](https://duckdb.org/docs/sql/data_types/enum.html) are a way to **convert string values into numbers** in a database.  \n",
    "This is useful for columns with a limited number of different values, like:\n",
    "- month names \n",
    "- and days of the week. \n",
    "\n",
    "By using ENUMs for these columns, we can:\n",
    "- **save storage space** \n",
    "- and **speed up queries** \n",
    "\n",
    "because the database only stores numbers instead of full strings.  "
   ]
  },
  {
   "cell_type": "markdown",
   "metadata": {},
   "source": [
    "In DuckDB, because the **SQL parser doesn’t support subqueries** in a CREATE TYPE ... AS ENUM statement, the best approach is to:\n",
    "- **extract** the distinct values via SQL (or pandas),\n",
    "- **format** them into a comma-separated list, \n",
    "- and then **build** the ENUM type dynamically.  \n",
    "\n",
    "This method gives me flexibility and control over the ENUM values while keeping my code concise."
   ]
  },
  {
   "cell_type": "code",
   "execution_count": 5,
   "metadata": {},
   "outputs": [],
   "source": [
    "# refactored logic to create ENUM with an RO:\n",
    "def create_enum(col, db, enum_name):\n",
    "    \"\"\"\n",
    "    Create an ENUM type in DuckDB from unique values in a specified column.\n",
    "\n",
    "    Parameters:\n",
    "    col (str): The column name to extract unique values from.\n",
    "    db (str): The name of the DuckDB relation (table).\n",
    "    enum_name (str): The name of the ENUM type to be created.\n",
    "    \"\"\"\n",
    "    # extracting the unique values from the specified column\n",
    "    col_forEnum = duckdb.sql(\n",
    "        f\"\"\"\n",
    "        select distinct {col}\n",
    "        from {db}\n",
    "        \"\"\"\n",
    "    ).fetchall()\n",
    "\n",
    "    # Build a comma-separated list of ENUM values\n",
    "    col_enum_val = \", \".join(f\"'{v[0]}'\" for v in col_forEnum)\n",
    "\n",
    "    # create the ENUM type\n",
    "    duckdb.sql(f\"create type {enum_name} as enum ({col_enum_val});\")\n",
    "\n",
    "# creating enums for the Month column:\n",
    "create_enum(\"Month\", \"records\", \"month_enum\")"
   ]
  },
  {
   "cell_type": "code",
   "execution_count": 6,
   "metadata": {},
   "outputs": [],
   "source": [
    "# creating enums for the Day column:\n",
    "create_enum(\"Day\", \"records\", \"day_enum\")"
   ]
  },
  {
   "cell_type": "markdown",
   "metadata": {},
   "source": [
    "Did I actually created them? The output says yes!"
   ]
  },
  {
   "cell_type": "code",
   "execution_count": 7,
   "metadata": {},
   "outputs": [
    {
     "name": "stdout",
     "output_type": "stream",
     "text": [
      "┌────────────────────────────────────────────────────────────────────────────────────────────────────┐\n",
      "│                                enum_range(CAST(NULL AS month_enum))                                │\n",
      "│                                             varchar[]                                              │\n",
      "├────────────────────────────────────────────────────────────────────────────────────────────────────┤\n",
      "│ [October, August, September, March, April, July, January, December, November, May, June, February] │\n",
      "└────────────────────────────────────────────────────────────────────────────────────────────────────┘\n",
      "\n",
      "┌──────────────────────────────────────────────────────────────────┐\n",
      "│                enum_range(CAST(NULL AS day_enum))                │\n",
      "│                            varchar[]                             │\n",
      "├──────────────────────────────────────────────────────────────────┤\n",
      "│ [Sunday, Monday, Wednesday, Friday, Tuesday, Saturday, Thursday] │\n",
      "└──────────────────────────────────────────────────────────────────┘\n",
      "\n"
     ]
    }
   ],
   "source": [
    "print(duckdb.sql(\"select enum_range(NULL::month_enum);\"))\n",
    "print(duckdb.sql(\"select enum_range(NULL::day_enum);\"))"
   ]
  },
  {
   "cell_type": "markdown",
   "metadata": {},
   "source": [
    "### **Selecting useful Columns**:\n",
    "\n",
    "Before we load our dataset into an on-disk database for analysis, we should think about any data changes we might want to make. \n",
    "For instance, we can remove columns we won’t need:  \n",
    "- the additional date and time fields are likely to be useful, \n",
    "- and we should keep the Sensor_ID column since it helps connect this dataset with another one from the city of Melbourne that includes details about each sensor, like their locations.  \n",
    "- **However**, we can **drop the ID field** because it doesn’t relate to any other datasets about the pedestrian counting system.  \n",
    "- Since we’ll be doing various time series analyses, we also need to **sort the records by the Date_Time column**.  \n",
    "\n",
    "Let’s make these changes and take a look at the results."
   ]
  },
  {
   "cell_type": "code",
   "execution_count": 8,
   "metadata": {},
   "outputs": [],
   "source": [
    "records_v2 = records.select(\"* exclude ID\").sort(\"Date_Time\")"
   ]
  },
  {
   "cell_type": "code",
   "execution_count": 9,
   "metadata": {},
   "outputs": [
    {
     "name": "stdout",
     "output_type": "stream",
     "text": [
      "┌─────────────────────┬───────┬─────────┬───────┬─────────┬───────┬───────────┬───────────────────────────────────┬───────────────┐\n",
      "│      Date_Time      │ Year  │  Month  │ Mdate │   Day   │ Time  │ Sensor_ID │            Sensor_Name            │ Hourly_Counts │\n",
      "│      timestamp      │ int64 │ varchar │ int64 │ varchar │ int64 │   int64   │              varchar              │     int64     │\n",
      "├─────────────────────┼───────┼─────────┼───────┼─────────┼───────┼───────────┼───────────────────────────────────┼───────────────┤\n",
      "│ 2009-05-01 00:00:00 │  2009 │ May     │     1 │ Friday  │     0 │         5 │ Princes Bridge                    │           157 │\n",
      "│ 2009-05-01 00:00:00 │  2009 │ May     │     1 │ Friday  │     0 │         1 │ Bourke Street Mall (North)        │            53 │\n",
      "│ 2009-05-01 00:00:00 │  2009 │ May     │     1 │ Friday  │     0 │         6 │ Flinders Street Station Underpass │           139 │\n",
      "│ 2009-05-01 00:00:00 │  2009 │ May     │     1 │ Friday  │     0 │         4 │ Town Hall (West)                  │           209 │\n",
      "│ 2009-05-01 00:00:00 │  2009 │ May     │     1 │ Friday  │     0 │         2 │ Bourke Street Mall (South)        │            52 │\n",
      "└─────────────────────┴───────┴─────────┴───────┴─────────┴───────┴───────────┴───────────────────────────────────┴───────────────┘\n",
      "\n"
     ]
    }
   ],
   "source": [
    "records_v2.limit(5).show(max_width=200)"
   ]
  },
  {
   "cell_type": "markdown",
   "metadata": {},
   "source": [
    "All this pre-analysis work is done, the data is good to go.  \n",
    "\n",
    "## **Advantages of loading into a disk-based database**:\n",
    "I need to load it into a **persistent** disk-based database so that the whole data is **written and safely saved**, making it **available** for another time or another person. \n",
    "\n",
    "This means I will NOT use the default database duckdb anymore. This data I just cleaned up will be in a **table** in the database. That cleaning-up process will **NOT happen again** as it is now 'persistingly' reflected in the new database. \n",
    "\n",
    "This has the following advantages: \n",
    "- **saves compute time**, especially on large and/or complex datasets\n",
    "- **separates data loading from data consumption**: \n",
    "  - so multiple notebooks can do their own analyses, **consuming** the same database data **without impacting** the data itself.\n",
    "\n",
    "Now, to encapsulate all of: \n",
    "- the cleaning-up I did so far \n",
    "- and the table/database creation \n",
    "- while ensuring that everything is written off and saved safely \n",
    "\n",
    "I am using the context's manager `with` block. I call: \n",
    "- the table `pedestrian_counts`, \n",
    "- which is held by the database `pedestrian.duckdb`. \n"
   ]
  },
  {
   "cell_type": "code",
   "execution_count": 10,
   "metadata": {},
   "outputs": [],
   "source": [
    "# context manager with block:\n",
    "with duckdb.connect(\"../data/data_out/pedestrian.duckdb\") as conn:\n",
    "    # Drop the table if it exists\n",
    "    conn.execute(\"DROP TABLE IF EXISTS pedestrian_counts\")\n",
    "    \n",
    "    result=(\n",
    "        # repeating the cleaning-up steps:\n",
    "        conn.read_csv(\n",
    "            \"../data/data_in/pedestrian_records_2009-2022.csv\",\n",
    "            dtype={\"Date_Time\": \"TIMESTAMP\"},\n",
    "            timestamp_format=\"%B %d, %Y %H:%M:%S %p\",\n",
    "        )\n",
    "        .select(\"* exclude ID\")\n",
    "        .sort(\"Date_Time\")\n",
    "    )\n",
    "    # copying the whole result into the new table:\n",
    "    result.to_table(\"pedestrian_counts\")"
   ]
  },
  {
   "cell_type": "markdown",
   "metadata": {},
   "source": [
    "## EDA: \n",
    "\n",
    "I can now start the EDA, however let's first look at some **more tools** I need: \n",
    "- **JupySQl**: to conveniently **run SQL queries directly** within Jupyter cells\n",
    "- **Plotly**: to create any kind of **interactive visualizations**, well integrated with Jupyter\n",
    "\n",
    "### SQL directly in Jupyter with JupySQL:\n",
    "\n",
    "To better understand its advantages, I first use the Relational API with the `.sql()` method to:\n",
    "- count the total number of pedestrians \n",
    "- for the _Melbourne Central_ sensor\n",
    "- for 2022\n"
   ]
  },
  {
   "cell_type": "code",
   "execution_count": 11,
   "metadata": {},
   "outputs": [
    {
     "data": {
      "text/plain": [
       "┌──────────────┐\n",
       "│ Total_Counts │\n",
       "│    int128    │\n",
       "├──────────────┤\n",
       "│      6897406 │\n",
       "└──────────────┘"
      ]
     },
     "execution_count": 11,
     "metadata": {},
     "output_type": "execute_result"
    }
   ],
   "source": [
    "conn = duckdb.connect(\"../data/data_out/pedestrian.duckdb\")\n",
    "\n",
    "conn.sql(\n",
    "    \"\"\"\n",
    "    select sum(Hourly_Counts) as Total_Counts\n",
    "    from pedestrian_counts\n",
    "    where Year = 2022 and Sensor_Name = 'Melbourne Central'\n",
    "    \"\"\"\n",
    ")"
   ]
  },
  {
   "cell_type": "markdown",
   "metadata": {},
   "source": [
    "So obviously the downsides are:\n",
    "- use of a python string (doc strings) to introduce SQL\n",
    "- use of the sql() method too\n",
    "\n",
    "This is similar to what I used in the previous notebook where I used the DuckDB shell directly but within the Jupyter notebook. \n",
    "\n",
    "### **JupySQL Magic SQL**:\n",
    "Here's what JupySQL brings to the table. I am configuring it to be used with our new database, but first I **have to close the `conn` one**.  \n",
    "<u>**REMEMBER**</u>, DuckDB does **NOT allow for multiple concurrent connections** to the same database. "
   ]
  },
  {
   "cell_type": "code",
   "execution_count": 12,
   "metadata": {},
   "outputs": [],
   "source": [
    "conn.close()"
   ]
  },
  {
   "cell_type": "code",
   "execution_count": 13,
   "metadata": {},
   "outputs": [
    {
     "data": {
      "text/html": [
       "<span style=\"None\">Connecting to &#x27;duckdb:///../data/data_out/pedestrian.duckdb&#x27;</span>"
      ],
      "text/plain": [
       "Connecting to 'duckdb:///../data/data_out/pedestrian.duckdb'"
      ]
     },
     "metadata": {},
     "output_type": "display_data"
    }
   ],
   "source": [
    "# enabling SQL Magic\n",
    "%load_ext sql\n",
    "%sql duckdb:///../data/data_out/pedestrian.duckdb"
   ]
  },
  {
   "cell_type": "markdown",
   "metadata": {},
   "source": [
    "On top of that, I can now configure it to automatically return a pandas dataframe instead of the usual SQL output, and simplify the output: "
   ]
  },
  {
   "cell_type": "code",
   "execution_count": 14,
   "metadata": {},
   "outputs": [],
   "source": [
    "%config Sqlmagic.autopandas = True\n",
    "%config SqlMagic.feedback = False\n",
    "%config SqlMagic.displaycon = False"
   ]
  },
  {
   "cell_type": "markdown",
   "metadata": {},
   "source": [
    "Remember the lazy evaluation thing? By doing that autopandas configuration I **lost that lazy eval**. This has **performance impacts**, for me not so much at it is 'only' a 420MB dataset. If you do that on a very much larger dataset, this will show. \n",
    "\n",
    "And with that I am ready to type SQL magic:"
   ]
  },
  {
   "cell_type": "code",
   "execution_count": 15,
   "metadata": {},
   "outputs": [
    {
     "data": {
      "text/html": [
       "<table>\n",
       "    <thead>\n",
       "        <tr>\n",
       "            <th>Total_Counts</th>\n",
       "        </tr>\n",
       "    </thead>\n",
       "    <tbody>\n",
       "        <tr>\n",
       "            <td>6897406</td>\n",
       "        </tr>\n",
       "    </tbody>\n",
       "</table>"
      ],
      "text/plain": [
       "+--------------+\n",
       "| Total_Counts |\n",
       "+--------------+\n",
       "|   6897406    |\n",
       "+--------------+"
      ]
     },
     "execution_count": 15,
     "metadata": {},
     "output_type": "execute_result"
    }
   ],
   "source": [
    "%%sql\n",
    "select sum(Hourly_Counts) as Total_Counts\n",
    "from pedestrian_counts\n",
    "where Year = 2022 and Sensor_Name = 'Melbourne Central'"
   ]
  },
  {
   "cell_type": "markdown",
   "metadata": {},
   "source": [
    "All right. What about putting all of that in a variable?  \n",
    "\n",
    "### **`%%sql var <<`: to assign a df in a var**:\n",
    "Here's how, by using that syntax: \n",
    "`%%sql var_name <<`\n",
    "\n",
    "I am using it now to:\n",
    "- calculate the total counts\n",
    "- for each sensor \n",
    "- in 2022\n",
    "- and sorts them in descending order (biggest first)\n"
   ]
  },
  {
   "cell_type": "code",
   "execution_count": 16,
   "metadata": {},
   "outputs": [],
   "source": [
    "%%sql sensors_2022_df <<\n",
    "SELECT Sensor_Name, sum(Hourly_Counts)::BIGINT AS Total_Counts\n",
    "FROM pedestrian_counts\n",
    "WHERE Year = 2022\n",
    "GROUP BY Sensor_Name\n",
    "ORDER BY Total_Counts DESC"
   ]
  },
  {
   "cell_type": "markdown",
   "metadata": {},
   "source": [
    "So in the code above: \n",
    "- `::BIGINT` turned the sum of hours count **to an integer**, removing any decimal that would have appeared otherwise\n",
    "  - Why? \n",
    "    - Because the sum itself is of data type **HUGEINT** actually (128-bit integer) preventing the numbers from overflowing (being too big)\n",
    "    - and because pandas does **not support 128-bit** integers, it converts them to float64 (hence the decimal)\n",
    "  "
   ]
  },
  {
   "cell_type": "code",
   "execution_count": 17,
   "metadata": {},
   "outputs": [
    {
     "name": "stdout",
     "output_type": "stream",
     "text": [
      "<class 'sql.run.resultset.ResultSet'>\n"
     ]
    }
   ],
   "source": [
    "print(type(sensors_2022_df))"
   ]
  },
  {
   "cell_type": "markdown",
   "metadata": {},
   "source": [
    "I printed the type of the variable `sensors_2022_df` and it is actually **not a dataframe**.  \n",
    "The `autopandas = True` config did <u>**not work as expected**</u>.  \n",
    "  \n",
    "So I have to do the conversion manually:"
   ]
  },
  {
   "cell_type": "code",
   "execution_count": null,
   "metadata": {},
   "outputs": [
    {
     "name": "stdout",
     "output_type": "stream",
     "text": [
      "<class 'pandas.core.frame.DataFrame'>\n"
     ]
    }
   ],
   "source": [
    "# refactoring the code to turn a variable into a pandas dataframe:\n",
    "def var_to_df(var):\n",
    "    \"\"\"\n",
    "    Convert a SQL result set to a pandas DataFrame.\n",
    "\n",
    "    Parameters:\n",
    "    var (sql.run.resultset.ResultSet): The SQL result set to convert.\n",
    "\n",
    "    Returns:\n",
    "    pandas.DataFrame: The converted pandas DataFrame.\n",
    "    \"\"\"\n",
    "    return var.DataFrame()\n",
    "\n",
    "df_sensors_2022 = var_to_df(sensors_2022_df)\n",
    "print(type(df_sensors_2022))\n",
    "\n",
    "df_sensors_2022 = var_to_df(sensors_2022_df)\n",
    "print(type(df_sensors_2022))"
   ]
  },
  {
   "cell_type": "markdown",
   "metadata": {},
   "source": [
    "All right, let's look at it:"
   ]
  },
  {
   "cell_type": "code",
   "execution_count": 19,
   "metadata": {},
   "outputs": [
    {
     "data": {
      "text/html": [
       "<div>\n",
       "<style scoped>\n",
       "    .dataframe tbody tr th:only-of-type {\n",
       "        vertical-align: middle;\n",
       "    }\n",
       "\n",
       "    .dataframe tbody tr th {\n",
       "        vertical-align: top;\n",
       "    }\n",
       "\n",
       "    .dataframe thead th {\n",
       "        text-align: right;\n",
       "    }\n",
       "</style>\n",
       "<table border=\"1\" class=\"dataframe\">\n",
       "  <thead>\n",
       "    <tr style=\"text-align: right;\">\n",
       "      <th></th>\n",
       "      <th>Sensor_Name</th>\n",
       "      <th>Total_Counts</th>\n",
       "    </tr>\n",
       "  </thead>\n",
       "  <tbody>\n",
       "    <tr>\n",
       "      <th>0</th>\n",
       "      <td>Flinders La-Swanston St (West)</td>\n",
       "      <td>10492872</td>\n",
       "    </tr>\n",
       "    <tr>\n",
       "      <th>1</th>\n",
       "      <td>Southbank</td>\n",
       "      <td>8737282</td>\n",
       "    </tr>\n",
       "    <tr>\n",
       "      <th>2</th>\n",
       "      <td>Melbourne Central</td>\n",
       "      <td>6897406</td>\n",
       "    </tr>\n",
       "    <tr>\n",
       "      <th>3</th>\n",
       "      <td>Elizabeth St - Flinders St (East) - New footpath</td>\n",
       "      <td>6511465</td>\n",
       "    </tr>\n",
       "    <tr>\n",
       "      <th>4</th>\n",
       "      <td>Princes Bridge</td>\n",
       "      <td>6202149</td>\n",
       "    </tr>\n",
       "    <tr>\n",
       "      <th>5</th>\n",
       "      <td>State Library - New</td>\n",
       "      <td>6049385</td>\n",
       "    </tr>\n",
       "    <tr>\n",
       "      <th>6</th>\n",
       "      <td>Flinders Street Station Underpass</td>\n",
       "      <td>5772514</td>\n",
       "    </tr>\n",
       "    <tr>\n",
       "      <th>7</th>\n",
       "      <td>Melbourne Convention Exhibition Centre</td>\n",
       "      <td>5634531</td>\n",
       "    </tr>\n",
       "    <tr>\n",
       "      <th>8</th>\n",
       "      <td>Bourke Street Mall (North)</td>\n",
       "      <td>5614610</td>\n",
       "    </tr>\n",
       "    <tr>\n",
       "      <th>9</th>\n",
       "      <td>Melbourne Central-Elizabeth St (East)</td>\n",
       "      <td>5380759</td>\n",
       "    </tr>\n",
       "  </tbody>\n",
       "</table>\n",
       "</div>"
      ],
      "text/plain": [
       "                                        Sensor_Name  Total_Counts\n",
       "0                    Flinders La-Swanston St (West)      10492872\n",
       "1                                         Southbank       8737282\n",
       "2                                 Melbourne Central       6897406\n",
       "3  Elizabeth St - Flinders St (East) - New footpath       6511465\n",
       "4                                    Princes Bridge       6202149\n",
       "5                               State Library - New       6049385\n",
       "6                 Flinders Street Station Underpass       5772514\n",
       "7            Melbourne Convention Exhibition Centre       5634531\n",
       "8                        Bourke Street Mall (North)       5614610\n",
       "9             Melbourne Central-Elizabeth St (East)       5380759"
      ]
     },
     "execution_count": 19,
     "metadata": {},
     "output_type": "execute_result"
    }
   ],
   "source": [
    "df_sensors_2022.head(10)"
   ]
  },
  {
   "cell_type": "markdown",
   "metadata": {},
   "source": [
    "An I can see the top ten sensors ranked by traffic. "
   ]
  },
  {
   "cell_type": "markdown",
   "metadata": {},
   "source": [
    "### Plotly\n",
    "\n",
    "I am using the Plotly Python API. Plotly is actually a JavaScript library, which is called to essentially render the vis into a browser page.  \n",
    "These rendered objects are named **figures**.  \n",
    "\n",
    "To build figures, I can use:\n",
    "- Plotly components given to me in its Python API\n",
    "- or another tool given in that same API, Plotly Express, to expressly create figures \n",
    "\n",
    "Plotly Express is less finicky but more efficient. In general, it is used first and then components are accessed for fine tuning. \n",
    "And Plotly Express was designed for dataframes visualizations for pandas and polars.\n",
    "\n",
    "Just like any other tool, I need to pip install it (already done) and import it. "
   ]
  },
  {
   "cell_type": "code",
   "execution_count": 20,
   "metadata": {},
   "outputs": [],
   "source": [
    "import plotly.express as px"
   ]
  },
  {
   "cell_type": "markdown",
   "metadata": {},
   "source": [
    "Ok, I want to see a bar chart of that dataframe (df from now on) I just created `df_sensors_2022`:"
   ]
  },
  {
   "cell_type": "code",
   "execution_count": 40,
   "metadata": {},
   "outputs": [
    {
     "data": {
      "application/vnd.plotly.v1+json": {
       "config": {
        "plotlyServerURL": "https://plot.ly"
       },
       "data": [
        {
         "hovertemplate": "Sensor_Name=%{x}<br>Total_Counts=%{marker.color}<extra></extra>",
         "legendgroup": "",
         "marker": {
          "color": {
           "bdata": "yBugAAJShQD+PmkAaVtjACWjXgBpTlwA4hRYAOP5VQASrFUAlxpSAA==",
           "dtype": "i4"
          },
          "coloraxis": "coloraxis",
          "pattern": {
           "shape": ""
          }
         },
         "name": "",
         "orientation": "v",
         "showlegend": false,
         "textposition": "auto",
         "type": "bar",
         "x": [
          "Flinders La-Swanston St (West)",
          "Southbank",
          "Melbourne Central",
          "Elizabeth St - Flinders St (East) - New footpath",
          "Princes Bridge",
          "State Library - New",
          "Flinders Street Station Underpass",
          "Melbourne Convention Exhibition Centre",
          "Bourke Street Mall (North)",
          "Melbourne Central-Elizabeth St (East)"
         ],
         "xaxis": "x",
         "y": {
          "bdata": "yBugAAJShQD+PmkAaVtjACWjXgBpTlwA4hRYAOP5VQASrFUAlxpSAA==",
          "dtype": "i4"
         },
         "yaxis": "y"
        }
       ],
       "layout": {
        "barmode": "relative",
        "coloraxis": {
         "colorbar": {
          "title": {
           "text": "Total_Counts"
          }
         },
         "colorscale": [
          [
           0,
           "rgb(65,65,65)"
          ],
          [
           1,
           "rgb(255,255,100)"
          ]
         ]
        },
        "font": {
         "color": "white",
         "size": 25
        },
        "height": 900,
        "legend": {
         "tracegroupgap": 0
        },
        "paper_bgcolor": "black",
        "plot_bgcolor": "black",
        "template": {
         "data": {
          "bar": [
           {
            "error_x": {
             "color": "#2a3f5f"
            },
            "error_y": {
             "color": "#2a3f5f"
            },
            "marker": {
             "line": {
              "color": "#E5ECF6",
              "width": 0.5
             },
             "pattern": {
              "fillmode": "overlay",
              "size": 10,
              "solidity": 0.2
             }
            },
            "type": "bar"
           }
          ],
          "barpolar": [
           {
            "marker": {
             "line": {
              "color": "#E5ECF6",
              "width": 0.5
             },
             "pattern": {
              "fillmode": "overlay",
              "size": 10,
              "solidity": 0.2
             }
            },
            "type": "barpolar"
           }
          ],
          "carpet": [
           {
            "aaxis": {
             "endlinecolor": "#2a3f5f",
             "gridcolor": "white",
             "linecolor": "white",
             "minorgridcolor": "white",
             "startlinecolor": "#2a3f5f"
            },
            "baxis": {
             "endlinecolor": "#2a3f5f",
             "gridcolor": "white",
             "linecolor": "white",
             "minorgridcolor": "white",
             "startlinecolor": "#2a3f5f"
            },
            "type": "carpet"
           }
          ],
          "choropleth": [
           {
            "colorbar": {
             "outlinewidth": 0,
             "ticks": ""
            },
            "type": "choropleth"
           }
          ],
          "contour": [
           {
            "colorbar": {
             "outlinewidth": 0,
             "ticks": ""
            },
            "colorscale": [
             [
              0,
              "#0d0887"
             ],
             [
              0.1111111111111111,
              "#46039f"
             ],
             [
              0.2222222222222222,
              "#7201a8"
             ],
             [
              0.3333333333333333,
              "#9c179e"
             ],
             [
              0.4444444444444444,
              "#bd3786"
             ],
             [
              0.5555555555555556,
              "#d8576b"
             ],
             [
              0.6666666666666666,
              "#ed7953"
             ],
             [
              0.7777777777777778,
              "#fb9f3a"
             ],
             [
              0.8888888888888888,
              "#fdca26"
             ],
             [
              1,
              "#f0f921"
             ]
            ],
            "type": "contour"
           }
          ],
          "contourcarpet": [
           {
            "colorbar": {
             "outlinewidth": 0,
             "ticks": ""
            },
            "type": "contourcarpet"
           }
          ],
          "heatmap": [
           {
            "colorbar": {
             "outlinewidth": 0,
             "ticks": ""
            },
            "colorscale": [
             [
              0,
              "#0d0887"
             ],
             [
              0.1111111111111111,
              "#46039f"
             ],
             [
              0.2222222222222222,
              "#7201a8"
             ],
             [
              0.3333333333333333,
              "#9c179e"
             ],
             [
              0.4444444444444444,
              "#bd3786"
             ],
             [
              0.5555555555555556,
              "#d8576b"
             ],
             [
              0.6666666666666666,
              "#ed7953"
             ],
             [
              0.7777777777777778,
              "#fb9f3a"
             ],
             [
              0.8888888888888888,
              "#fdca26"
             ],
             [
              1,
              "#f0f921"
             ]
            ],
            "type": "heatmap"
           }
          ],
          "histogram": [
           {
            "marker": {
             "pattern": {
              "fillmode": "overlay",
              "size": 10,
              "solidity": 0.2
             }
            },
            "type": "histogram"
           }
          ],
          "histogram2d": [
           {
            "colorbar": {
             "outlinewidth": 0,
             "ticks": ""
            },
            "colorscale": [
             [
              0,
              "#0d0887"
             ],
             [
              0.1111111111111111,
              "#46039f"
             ],
             [
              0.2222222222222222,
              "#7201a8"
             ],
             [
              0.3333333333333333,
              "#9c179e"
             ],
             [
              0.4444444444444444,
              "#bd3786"
             ],
             [
              0.5555555555555556,
              "#d8576b"
             ],
             [
              0.6666666666666666,
              "#ed7953"
             ],
             [
              0.7777777777777778,
              "#fb9f3a"
             ],
             [
              0.8888888888888888,
              "#fdca26"
             ],
             [
              1,
              "#f0f921"
             ]
            ],
            "type": "histogram2d"
           }
          ],
          "histogram2dcontour": [
           {
            "colorbar": {
             "outlinewidth": 0,
             "ticks": ""
            },
            "colorscale": [
             [
              0,
              "#0d0887"
             ],
             [
              0.1111111111111111,
              "#46039f"
             ],
             [
              0.2222222222222222,
              "#7201a8"
             ],
             [
              0.3333333333333333,
              "#9c179e"
             ],
             [
              0.4444444444444444,
              "#bd3786"
             ],
             [
              0.5555555555555556,
              "#d8576b"
             ],
             [
              0.6666666666666666,
              "#ed7953"
             ],
             [
              0.7777777777777778,
              "#fb9f3a"
             ],
             [
              0.8888888888888888,
              "#fdca26"
             ],
             [
              1,
              "#f0f921"
             ]
            ],
            "type": "histogram2dcontour"
           }
          ],
          "mesh3d": [
           {
            "colorbar": {
             "outlinewidth": 0,
             "ticks": ""
            },
            "type": "mesh3d"
           }
          ],
          "parcoords": [
           {
            "line": {
             "colorbar": {
              "outlinewidth": 0,
              "ticks": ""
             }
            },
            "type": "parcoords"
           }
          ],
          "pie": [
           {
            "automargin": true,
            "type": "pie"
           }
          ],
          "scatter": [
           {
            "fillpattern": {
             "fillmode": "overlay",
             "size": 10,
             "solidity": 0.2
            },
            "type": "scatter"
           }
          ],
          "scatter3d": [
           {
            "line": {
             "colorbar": {
              "outlinewidth": 0,
              "ticks": ""
             }
            },
            "marker": {
             "colorbar": {
              "outlinewidth": 0,
              "ticks": ""
             }
            },
            "type": "scatter3d"
           }
          ],
          "scattercarpet": [
           {
            "marker": {
             "colorbar": {
              "outlinewidth": 0,
              "ticks": ""
             }
            },
            "type": "scattercarpet"
           }
          ],
          "scattergeo": [
           {
            "marker": {
             "colorbar": {
              "outlinewidth": 0,
              "ticks": ""
             }
            },
            "type": "scattergeo"
           }
          ],
          "scattergl": [
           {
            "marker": {
             "colorbar": {
              "outlinewidth": 0,
              "ticks": ""
             }
            },
            "type": "scattergl"
           }
          ],
          "scattermap": [
           {
            "marker": {
             "colorbar": {
              "outlinewidth": 0,
              "ticks": ""
             }
            },
            "type": "scattermap"
           }
          ],
          "scattermapbox": [
           {
            "marker": {
             "colorbar": {
              "outlinewidth": 0,
              "ticks": ""
             }
            },
            "type": "scattermapbox"
           }
          ],
          "scatterpolar": [
           {
            "marker": {
             "colorbar": {
              "outlinewidth": 0,
              "ticks": ""
             }
            },
            "type": "scatterpolar"
           }
          ],
          "scatterpolargl": [
           {
            "marker": {
             "colorbar": {
              "outlinewidth": 0,
              "ticks": ""
             }
            },
            "type": "scatterpolargl"
           }
          ],
          "scatterternary": [
           {
            "marker": {
             "colorbar": {
              "outlinewidth": 0,
              "ticks": ""
             }
            },
            "type": "scatterternary"
           }
          ],
          "surface": [
           {
            "colorbar": {
             "outlinewidth": 0,
             "ticks": ""
            },
            "colorscale": [
             [
              0,
              "#0d0887"
             ],
             [
              0.1111111111111111,
              "#46039f"
             ],
             [
              0.2222222222222222,
              "#7201a8"
             ],
             [
              0.3333333333333333,
              "#9c179e"
             ],
             [
              0.4444444444444444,
              "#bd3786"
             ],
             [
              0.5555555555555556,
              "#d8576b"
             ],
             [
              0.6666666666666666,
              "#ed7953"
             ],
             [
              0.7777777777777778,
              "#fb9f3a"
             ],
             [
              0.8888888888888888,
              "#fdca26"
             ],
             [
              1,
              "#f0f921"
             ]
            ],
            "type": "surface"
           }
          ],
          "table": [
           {
            "cells": {
             "fill": {
              "color": "#EBF0F8"
             },
             "line": {
              "color": "white"
             }
            },
            "header": {
             "fill": {
              "color": "#C8D4E3"
             },
             "line": {
              "color": "white"
             }
            },
            "type": "table"
           }
          ]
         },
         "layout": {
          "annotationdefaults": {
           "arrowcolor": "#2a3f5f",
           "arrowhead": 0,
           "arrowwidth": 1
          },
          "autotypenumbers": "strict",
          "coloraxis": {
           "colorbar": {
            "outlinewidth": 0,
            "ticks": ""
           }
          },
          "colorscale": {
           "diverging": [
            [
             0,
             "#8e0152"
            ],
            [
             0.1,
             "#c51b7d"
            ],
            [
             0.2,
             "#de77ae"
            ],
            [
             0.3,
             "#f1b6da"
            ],
            [
             0.4,
             "#fde0ef"
            ],
            [
             0.5,
             "#f7f7f7"
            ],
            [
             0.6,
             "#e6f5d0"
            ],
            [
             0.7,
             "#b8e186"
            ],
            [
             0.8,
             "#7fbc41"
            ],
            [
             0.9,
             "#4d9221"
            ],
            [
             1,
             "#276419"
            ]
           ],
           "sequential": [
            [
             0,
             "#0d0887"
            ],
            [
             0.1111111111111111,
             "#46039f"
            ],
            [
             0.2222222222222222,
             "#7201a8"
            ],
            [
             0.3333333333333333,
             "#9c179e"
            ],
            [
             0.4444444444444444,
             "#bd3786"
            ],
            [
             0.5555555555555556,
             "#d8576b"
            ],
            [
             0.6666666666666666,
             "#ed7953"
            ],
            [
             0.7777777777777778,
             "#fb9f3a"
            ],
            [
             0.8888888888888888,
             "#fdca26"
            ],
            [
             1,
             "#f0f921"
            ]
           ],
           "sequentialminus": [
            [
             0,
             "#0d0887"
            ],
            [
             0.1111111111111111,
             "#46039f"
            ],
            [
             0.2222222222222222,
             "#7201a8"
            ],
            [
             0.3333333333333333,
             "#9c179e"
            ],
            [
             0.4444444444444444,
             "#bd3786"
            ],
            [
             0.5555555555555556,
             "#d8576b"
            ],
            [
             0.6666666666666666,
             "#ed7953"
            ],
            [
             0.7777777777777778,
             "#fb9f3a"
            ],
            [
             0.8888888888888888,
             "#fdca26"
            ],
            [
             1,
             "#f0f921"
            ]
           ]
          },
          "colorway": [
           "#636efa",
           "#EF553B",
           "#00cc96",
           "#ab63fa",
           "#FFA15A",
           "#19d3f3",
           "#FF6692",
           "#B6E880",
           "#FF97FF",
           "#FECB52"
          ],
          "font": {
           "color": "#2a3f5f"
          },
          "geo": {
           "bgcolor": "white",
           "lakecolor": "white",
           "landcolor": "#E5ECF6",
           "showlakes": true,
           "showland": true,
           "subunitcolor": "white"
          },
          "hoverlabel": {
           "align": "left"
          },
          "hovermode": "closest",
          "mapbox": {
           "style": "light"
          },
          "paper_bgcolor": "white",
          "plot_bgcolor": "#E5ECF6",
          "polar": {
           "angularaxis": {
            "gridcolor": "white",
            "linecolor": "white",
            "ticks": ""
           },
           "bgcolor": "#E5ECF6",
           "radialaxis": {
            "gridcolor": "white",
            "linecolor": "white",
            "ticks": ""
           }
          },
          "scene": {
           "xaxis": {
            "backgroundcolor": "#E5ECF6",
            "gridcolor": "white",
            "gridwidth": 2,
            "linecolor": "white",
            "showbackground": true,
            "ticks": "",
            "zerolinecolor": "white"
           },
           "yaxis": {
            "backgroundcolor": "#E5ECF6",
            "gridcolor": "white",
            "gridwidth": 2,
            "linecolor": "white",
            "showbackground": true,
            "ticks": "",
            "zerolinecolor": "white"
           },
           "zaxis": {
            "backgroundcolor": "#E5ECF6",
            "gridcolor": "white",
            "gridwidth": 2,
            "linecolor": "white",
            "showbackground": true,
            "ticks": "",
            "zerolinecolor": "white"
           }
          },
          "shapedefaults": {
           "line": {
            "color": "#2a3f5f"
           }
          },
          "ternary": {
           "aaxis": {
            "gridcolor": "white",
            "linecolor": "white",
            "ticks": ""
           },
           "baxis": {
            "gridcolor": "white",
            "linecolor": "white",
            "ticks": ""
           },
           "bgcolor": "#E5ECF6",
           "caxis": {
            "gridcolor": "white",
            "linecolor": "white",
            "ticks": ""
           }
          },
          "title": {
           "x": 0.05
          },
          "xaxis": {
           "automargin": true,
           "gridcolor": "white",
           "linecolor": "white",
           "ticks": "",
           "title": {
            "standoff": 15
           },
           "zerolinecolor": "white",
           "zerolinewidth": 2
          },
          "yaxis": {
           "automargin": true,
           "gridcolor": "white",
           "linecolor": "white",
           "ticks": "",
           "title": {
            "standoff": 15
           },
           "zerolinecolor": "white",
           "zerolinewidth": 2
          }
         }
        },
        "title": {
         "font": {
          "color": "white",
          "size": 35
         },
         "text": "Top 10 sensors by traffic - 2022"
        },
        "xaxis": {
         "anchor": "y",
         "domain": [
          0,
          1
         ],
         "tickangle": -45,
         "tickfont": {
          "color": "grey"
         },
         "title": {
          "text": "Sensor_Name"
         }
        },
        "yaxis": {
         "anchor": "x",
         "domain": [
          0,
          1
         ],
         "range": [
          0,
          11000000
         ],
         "title": {
          "text": "Total_Counts"
         }
        }
       }
      }
     },
     "metadata": {},
     "output_type": "display_data"
    }
   ],
   "source": [
    "figure = px.bar(\n",
    "    df_sensors_2022.head(10),\n",
    "    x=\"Sensor_Name\",\n",
    "    y=\"Total_Counts\",\n",
    "    height=900,  # 5 times bigger than the original 500\n",
    "    title=\"Top 10 sensors by traffic - 2022\",\n",
    "    color=\"Total_Counts\",\n",
    "    color_continuous_scale=[[0, 'rgb(65,65,65)'], [1, 'rgb(255,255,100)']]  # Medium grey to pale yellow\n",
    ")\n",
    "\n",
    "figure.update_layout(\n",
    "    title_font_size=35,\n",
    "    title_font_color=\"white\",\n",
    "    font=dict(size=25, color=\"white\"),\n",
    "    xaxis_tickangle=-45,\n",
    "    plot_bgcolor=\"black\",\n",
    "    paper_bgcolor=\"black\",\n",
    "    xaxis=dict(tickfont=dict(color='grey'))  # Set x-axis labels to grey\n",
    ")\n",
    "\n",
    "# Adjust the y-axis range to ensure the highest bar is fully visible\n",
    "figure.update_yaxes(range=[0, 11000000])\n",
    "\n",
    "figure.show()"
   ]
  },
  {
   "cell_type": "code",
   "execution_count": null,
   "metadata": {},
   "outputs": [],
   "source": []
  }
 ],
 "metadata": {
  "kernelspec": {
   "display_name": "preprocessing",
   "language": "python",
   "name": "python3"
  },
  "language_info": {
   "codemirror_mode": {
    "name": "ipython",
    "version": 3
   },
   "file_extension": ".py",
   "mimetype": "text/x-python",
   "name": "python",
   "nbconvert_exporter": "python",
   "pygments_lexer": "ipython3",
   "version": "3.12.8"
  }
 },
 "nbformat": 4,
 "nbformat_minor": 2
}
