{
 "cells": [
  {
   "cell_type": "markdown",
   "metadata": {},
   "source": [
    "# Part 2: SQLAlchemy Practice on a Business Database:  \n",
    "\n",
    "---\n",
    "\n",
    "By Jean-Yves Tran | jy.tran@[datascience-jy.com](https:datascience-jy.com) | [LinkedIn](https://www.linkedin.com/in/jytran-datascience/)  \n",
    "IBM Certified Data Analyst \n",
    "\n",
    "---"
   ]
  },
  {
   "cell_type": "markdown",
   "metadata": {},
   "source": [
    "Continuing on the first exploration and analysis ([click here](https://github.com/jendives2000/Data_ML_Practice_2025/blob/main/1-3-SQL/practice/dvd_rental/PostGreSQL_SQLALchemy_Business_Database_dvdrental_1.ipynb)) I do not dive deeper into the database, this is more of an SQL refresher where I am revisiting queries that usually give trouble to users:  \n",
    "\n",
    "- Filtering with subqueries and not multiple where clauses\n",
    "- JOINing with just one unique JOIN"
   ]
  },
  {
   "cell_type": "markdown",
   "metadata": {},
   "source": []
  }
 ],
 "metadata": {
  "language_info": {
   "name": "python"
  }
 },
 "nbformat": 4,
 "nbformat_minor": 2
}
